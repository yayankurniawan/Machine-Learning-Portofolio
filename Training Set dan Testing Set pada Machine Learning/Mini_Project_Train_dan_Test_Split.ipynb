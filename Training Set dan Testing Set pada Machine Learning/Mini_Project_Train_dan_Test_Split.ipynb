{
  "nbformat": 4,
  "nbformat_minor": 0,
  "metadata": {
    "colab": {
      "provenance": []
    },
    "kernelspec": {
      "name": "python3",
      "display_name": "Python 3"
    },
    "language_info": {
      "name": "python"
    }
  },
  "cells": [
    {
      "cell_type": "markdown",
      "source": [
        "#Mini Project: Train dan Test Split\n",
        "Mengetahui model yang aku buat memiliki performa yang kurang baik, aku berasumsi bahwa hal ini mungkin disebabkan karena model sendiri membutuhkan data latihan yang lebih banyak.\n",
        "\n",
        "Oleh karena itu, aku ingin mencoba menggunakan 90% data (X, y) yang aku miliki sebagai data latih juga data lain yang tersisa sebagai data testing."
      ],
      "metadata": {
        "id": "3qmVV4Rju6iu"
      }
    },
    {
      "cell_type": "code",
      "execution_count": 1,
      "metadata": {
        "colab": {
          "base_uri": "https://localhost:8080/"
        },
        "id": "C-ATodiVu2tJ",
        "outputId": "e04fb464-62ae-448c-e1b0-413ec3a459fd"
      },
      "outputs": [
        {
          "output_type": "stream",
          "name": "stdout",
          "text": [
            "Hasil akurasi model: 56.00 %\n"
          ]
        }
      ],
      "source": [
        "#Kode program sebelumnya\n",
        "import pandas as pd\n",
        "pd.set_option('display.max_column', 20)\n",
        "\n",
        "df = pd.read_excel('https://storage.googleapis.com/dqlab-dataset/cth_churn_analysis_train.xlsx')\n",
        "\n",
        "df.drop('ID_Customer', axis=1, inplace=True)\n",
        "\n",
        "df['Jenis_kelamin']= df['Jenis_kelamin'].map(\n",
        "   lambda value: 1 if value == 'Perempuan' else 0)\n",
        "\n",
        "df['using_reward']= df['using_reward'].map(\n",
        "   lambda value: 1 if value == 'Yes' else 0)\n",
        "\n",
        "df['pembayaran']= df['pembayaran'].map(\n",
        "    lambda value: 2 if value == 'Credit'\n",
        "    else 1 if value == 'Bank Transfer'\n",
        "    else 0)\n",
        "\n",
        "df['Subscribe_brochure']= df['Subscribe_brochure'].map(\n",
        "    lambda value: 0 if value == 'No'  else 1)\n",
        "\n",
        "df['churn'] = df['churn'].map(\n",
        "    lambda value: 1 if value == 'Yes' else 0)\n",
        "\n",
        "y = df.pop('churn').to_numpy()\n",
        "\n",
        "X = df.to_numpy()\n",
        "\n",
        "#fungsi untuk membagi data dan label ke dalam dua bagian (data latih dan data testing) secara acak tersedia dalam library scikit-learn.model_selection\n",
        "from sklearn.model_selection  import train_test_split\n",
        "\n",
        "#X_train dan y_train akan kita gunakan sebagai data untuk melatih model X_test dan y_test akan kita gunakan sebagai data testing untuk mengetahui kemampuan model untuk data yang belum pernah ia jumpai\n",
        "X_train, X_test, y_train, y_test = train_test_split(X, y, test_size=0.1, random_state=12)\n",
        "\n",
        "from sklearn.tree import DecisionTreeClassifier\n",
        "\n",
        "model = DecisionTreeClassifier(random_state=12)\n",
        "\n",
        "#melatih model berdasarkan data latih (X_train) dan labelnya (y_train)\n",
        "model.fit(X_train, y_train)\n",
        "\n",
        "#melakukan prediksi terhadap setiap data testing (X_test) dan menyimpan hasil prediksi dalam array 'y_pred'\n",
        "y_pred = model.predict(X_test)\n",
        "\n",
        "#mengimport fungsi untuk menghitung akurasi dari library scikit-learn tepatnya dari modul metrics.\n",
        "from sklearn.metrics import accuracy_score\n",
        "\n",
        "#menghitung nilai akurasi dari hasil prediksi (y_pred) dengan label aktual yang dimiliki oleh setiap data test (y_test)\n",
        "score = accuracy_score(y_test,y_pred)\n",
        "\n",
        "#menampilkan hasil akurasi dalam persen\n",
        "print('Hasil akurasi model: %.2f %%' % (100*score))"
      ]
    },
    {
      "cell_type": "markdown",
      "source": [
        "#Mini Project: K-Fold Cross Validation\n",
        "Akhirnya perjuanganku tidak sia-sia, aku berhasil mengimplementasikan strategi K-Fold dengan nilai K sama dengan sepuluh (10). Fiuh!\n",
        "\n",
        "Sekarang, aku ingin mengimplementasikan lagi strategi K-Fold dengan nilai sama dengan dua puluh (20)."
      ],
      "metadata": {
        "id": "YyccL8obvSUF"
      }
    },
    {
      "cell_type": "code",
      "source": [
        "#mengimport fungsi K-Fold dari modul model_selection pada library scikit-learn\n",
        "from sklearn.model_selection import KFold\n",
        "\n",
        "from sklearn.tree import DecisionTreeClassifier\n",
        "from sklearn.metrics import accuracy_score\n",
        "\n",
        "#men-set nilai K = 20\n",
        "kf = KFold(n_splits= 20, shuffle=True,random_state = 12)\n",
        "\n",
        "#menyesuaikan nilai K dengan jumlah data pada variabel X\n",
        "kf.get_n_splits(X)\n",
        "\n",
        "total_score = 0\n",
        "\n",
        "#mengulangi proses pelatihan dan evaluasi pada setiap kelompok data yang telah dibagi melalui object KFold\n",
        "for train_index, test_index in kf.split(X):\n",
        "\tX_train, X_test = X[train_index], X[test_index]\n",
        "\ty_train, y_test = y[train_index], y[test_index]\n",
        "\tmodel = DecisionTreeClassifier(random_state=12)\n",
        "\tmodel.fit(X_train,y_train)\n",
        "\n",
        "\ty_pred = model.predict(X_test)\n",
        "\tscore = accuracy_score(y_test,y_pred)\n",
        "\n",
        "\ttotal_score += score\n",
        "\tprint('Hasil akurasi model: %.2f %%' % (100*score))\n",
        "\n",
        "print('\\nRata-rata akurasi model: %.2f %%' % (100*total_score/20))"
      ],
      "metadata": {
        "colab": {
          "base_uri": "https://localhost:8080/"
        },
        "id": "MD7W3V1fvUxk",
        "outputId": "183afcd0-3196-412d-82ad-d9147b812a8c"
      },
      "execution_count": 2,
      "outputs": [
        {
          "output_type": "stream",
          "name": "stdout",
          "text": [
            "Hasil akurasi model: 40.00 %\n",
            "Hasil akurasi model: 44.00 %\n",
            "Hasil akurasi model: 56.00 %\n",
            "Hasil akurasi model: 64.00 %\n",
            "Hasil akurasi model: 56.00 %\n",
            "Hasil akurasi model: 40.00 %\n",
            "Hasil akurasi model: 40.00 %\n",
            "Hasil akurasi model: 32.00 %\n",
            "Hasil akurasi model: 68.00 %\n",
            "Hasil akurasi model: 40.00 %\n",
            "Hasil akurasi model: 48.00 %\n",
            "Hasil akurasi model: 52.00 %\n",
            "Hasil akurasi model: 64.00 %\n",
            "Hasil akurasi model: 28.00 %\n",
            "Hasil akurasi model: 36.00 %\n",
            "Hasil akurasi model: 60.00 %\n",
            "Hasil akurasi model: 68.00 %\n",
            "Hasil akurasi model: 48.00 %\n",
            "Hasil akurasi model: 56.00 %\n",
            "Hasil akurasi model: 54.17 %\n",
            "\n",
            "Rata-rata akurasi model: 49.71 %\n"
          ]
        }
      ]
    }
  ]
}