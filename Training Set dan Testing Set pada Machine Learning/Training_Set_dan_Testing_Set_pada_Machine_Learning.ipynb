{
  "nbformat": 4,
  "nbformat_minor": 0,
  "metadata": {
    "colab": {
      "provenance": []
    },
    "kernelspec": {
      "name": "python3",
      "display_name": "Python 3"
    },
    "language_info": {
      "name": "python"
    }
  },
  "cells": [
    {
      "cell_type": "markdown",
      "source": [
        "# Prediksi Keberlanjutan Langganan Pelanggan PT DQLab\n",
        "# Business Understanding\n",
        "\n",
        "### Latar Belakang Bisnis\n",
        "PT DQLab adalah perusahaan yang menyediakan layanan makanan siap saji sehat. Dalam upaya meningkatkan retensi pelanggan dan efisiensi strategi pemasaran, perusahaan ingin memahami faktor-faktor yang memengaruhi keberlanjutan langganan pelanggan.\n",
        "\n",
        "### Tujuan Proyek\n",
        "Mengembangkan model klasifikasi otomatis untuk memprediksi apakah seorang pelanggan akan melanjutkan atau menghentikan langganan layanan makanan sehat. Hasil prediksi ini akan digunakan untuk:\n",
        "\n",
        "- Menyusun strategi retensi pelanggan\n",
        "\n",
        "- Menargetkan promosi secara lebih efektif\n",
        "\n",
        "- Mengidentifikasi pelanggan berisiko berhenti berlangganan\n",
        "\n",
        "### Permasalahan Bisnis\n",
        "Perusahaan belum memiliki sistem prediktif yang dapat mengidentifikasi pelanggan yang berpotensi berhenti berlangganan. Tanpa sistem ini, strategi pemasaran dan retensi bersifat umum dan kurang efisien.\n",
        "\n",
        "### Tujuan Analitik\n",
        "Membangun model klasifikasi berbasis Decision Tree untuk memprediksi status langganan pelanggan (berlanjut atau berhenti) berdasarkan atribut pelanggan.\n",
        "\n"
      ],
      "metadata": {
        "id": "5Ng5vJNoP50-"
      }
    },
    {
      "cell_type": "markdown",
      "source": [
        "## Data Understanding\n",
        "### Sumber Data\n",
        "- Nama File: churn_analysis_train.xlsx\n",
        "\n",
        "- Format: Excel\n",
        "\n",
        "- Jumlah Kolom: 10\n",
        "\n",
        "- Jumlah Baris: 499\n",
        "\n",
        "### Deskripsi Fitur\n",
        "\n",
        "\n",
        "- ID_Customer\t: ID unik untuk setiap pelanggan\n",
        "- Jenis_kelamin :\tJenis kelamin pelanggan\n",
        "- umur\t:\tUsia pelanggan dalam tahun (Numerik)\n",
        "- membership_program:\tDurasi program membership dalam bulan\n",
        "- using_reward :\tStatus penggunaan reward (Yes, No)\n",
        "- pembayaran : Kategorikal\tMetode pembayaran (Cash, Bank Transfer)\n",
        "- Subscribe_brochure\t: Kategorikal\tStatus langganan brosur promosi (Yes, No, Email)\n",
        "- harga_per_bulan :\t\tBiaya langganan per bulan (dalam Rupiah)\n",
        "- jumlah_harga_langganan : Numerik\tTotal biaya langganan selama periode membership\n",
        "- churn :\tTarget variabel: status berhenti langganan (Yes = churn, No = tetap)"
      ],
      "metadata": {
        "id": "9wn5vWmMSUYj"
      }
    },
    {
      "cell_type": "markdown",
      "source": [
        "## Data Preparation\n",
        "- Import dan Load Dataset\n",
        "- Pemeriksaan Awal\n",
        "- Pembersihan Data\n",
        "- Mengubah Kolom Non-Numerik Menjadi Kolom Numerik\n",
        "- Pisahkan Fitur dan Target"
      ],
      "metadata": {
        "id": "X3oY38CMUqd5"
      }
    },
    {
      "cell_type": "markdown",
      "source": [
        "## Modeling\n",
        "\n",
        "Setelah data dipersiapkan dan dibersihkan, tahap modeling bertujuan untuk membangun model klasifikasi yang mampu memprediksi status langganan pelanggan (berlanjut atau berhenti).\n",
        "\n",
        "Aktivitas Utama:\n",
        "- Pemilihan fitur dan target: Fitur-fitur seperti umur, durasi membership, penggunaan reward, metode pembayaran, dan biaya langganan digunakan sebagai input. Target yang diprediksi adalah variabel churn.\n",
        "\n",
        "- Pembagian dataset: Data dibagi menjadi data pelatihan dan data pengujian untuk memastikan model dapat melakukan generalisasi terhadap data baru.\n",
        "\n",
        "- Pemilihan algoritma: Algoritma Decision Tree dipilih karena interpretabilitasnya yang tinggi dan kemampuannya menangani data kategorikal dan numerik.\n",
        "\n"
      ],
      "metadata": {
        "id": "yDYS0xATVcwn"
      }
    },
    {
      "cell_type": "markdown",
      "source": [
        "## Evaluation\n",
        "Evaluasi dilakukan untuk menilai performa model dan memastikan bahwa model tidak hanya bekerja baik pada data pelatihan, tetapi juga pada data yang belum pernah dilihat sebelumnya.\n",
        "\n",
        "Teknik Evaluasi yang Digunakan:\n",
        "- Akurasi: Mengukur proporsi prediksi yang benar terhadap total data pengujian.\n",
        "\n",
        "- K-Fold Cross Validation: Digunakan untuk mengevaluasi stabilitas model dengan membagi data ke dalam beberapa lipatan dan menghitung rata-rata akurasi.\n",
        "\n",
        "- Classification Metrics: Precision, recall, dan F1-score digunakan untuk memahami performa model secara lebih mendalam, terutama dalam kasus ketidakseimbangan kelas.\n"
      ],
      "metadata": {
        "id": "hhYtoiZeVx1u"
      }
    },
    {
      "cell_type": "markdown",
      "source": [
        "## Deployment\n",
        "Setelah model dibangun dan dievaluasi, tahap deployment bertujuan untuk mengintegrasikan model ke dalam sistem operasional perusahaan agar hasil prediksi dapat digunakan secara nyata dalam pengambilan keputusan."
      ],
      "metadata": {
        "id": "FdNWu47oV0jP"
      }
    },
    {
      "cell_type": "markdown",
      "source": [
        "Import dan Load Dataset"
      ],
      "metadata": {
        "id": "sbLbN-hXVDWp"
      }
    },
    {
      "cell_type": "code",
      "execution_count": 1,
      "metadata": {
        "id": "vLKMqkbBPzq1"
      },
      "outputs": [],
      "source": [
        "import pandas as pd\n",
        "pd.set_option('display.max_column', 20)\n",
        "\n",
        "# Load data dari URL\n",
        "df = pd.read_excel('https://storage.googleapis.com/dqlab-dataset/cth_churn_analysis_train.xlsx')"
      ]
    },
    {
      "cell_type": "markdown",
      "source": [
        "Pemeriksaan Awal"
      ],
      "metadata": {
        "id": "clqC-w2yVH83"
      }
    },
    {
      "cell_type": "code",
      "source": [
        "# Menampilkan 5 baris pertama\n",
        "print(df.head())\n",
        "\n",
        "# Informasi struktur data\n",
        "print(df.info())\n",
        "\n",
        "# Statistik deskriptif untuk kolom numerik\n",
        "print(df.describe())\n"
      ],
      "metadata": {
        "colab": {
          "base_uri": "https://localhost:8080/"
        },
        "id": "bJjAOfQRVKo_",
        "outputId": "a6646e02-4553-4a16-cc00-facf3bd546ff"
      },
      "execution_count": 2,
      "outputs": [
        {
          "output_type": "stream",
          "name": "stdout",
          "text": [
            "  ID_Customer Jenis_kelamin  umur  membership_program using_reward  \\\n",
            "0   1005-CTMP     Perempuan    41                  36           No   \n",
            "1   1007-STSJ     Laki-laki    27                  36          Yes   \n",
            "2   1012-NCGH     Laki-laki    45                  36           No   \n",
            "3   1014-WWBN     Perempuan    33                  12           No   \n",
            "4   1024-HYUA     Perempuan    38                  12           No   \n",
            "\n",
            "      pembayaran Subscribe_brochure  harga_per_bulan  jumlah_harga_langganan  \\\n",
            "0           Cash                 No            10000                  360000   \n",
            "1  Bank Transfer              Email            10000                  360000   \n",
            "2           Cash                 No            10000                  360000   \n",
            "3  Bank Transfer                Yes            10000                  120000   \n",
            "4           Cash                 No            10000                  120000   \n",
            "\n",
            "  churn  \n",
            "0   Yes  \n",
            "1   Yes  \n",
            "2    No  \n",
            "3    No  \n",
            "4    No  \n",
            "<class 'pandas.core.frame.DataFrame'>\n",
            "RangeIndex: 499 entries, 0 to 498\n",
            "Data columns (total 10 columns):\n",
            " #   Column                  Non-Null Count  Dtype \n",
            "---  ------                  --------------  ----- \n",
            " 0   ID_Customer             499 non-null    object\n",
            " 1   Jenis_kelamin           499 non-null    object\n",
            " 2   umur                    499 non-null    int64 \n",
            " 3   membership_program      499 non-null    int64 \n",
            " 4   using_reward            499 non-null    object\n",
            " 5   pembayaran              499 non-null    object\n",
            " 6   Subscribe_brochure      499 non-null    object\n",
            " 7   harga_per_bulan         499 non-null    int64 \n",
            " 8   jumlah_harga_langganan  499 non-null    int64 \n",
            " 9   churn                   499 non-null    object\n",
            "dtypes: int64(4), object(6)\n",
            "memory usage: 39.1+ KB\n",
            "None\n",
            "             umur  membership_program  harga_per_bulan  jumlah_harga_langganan\n",
            "count  499.000000          499.000000            499.0              499.000000\n",
            "mean    34.981964           19.719439          10000.0           197194.388778\n",
            "std      6.056103           11.470297              0.0           114702.970206\n",
            "min     25.000000            6.000000          10000.0            60000.000000\n",
            "25%     30.000000           12.000000          10000.0           120000.000000\n",
            "50%     35.000000           24.000000          10000.0           240000.000000\n",
            "75%     40.000000           36.000000          10000.0           360000.000000\n",
            "max     45.000000           36.000000          10000.0           360000.000000\n"
          ]
        }
      ]
    },
    {
      "cell_type": "markdown",
      "source": [
        "Pembersihan Data"
      ],
      "metadata": {
        "id": "y7SnPWdiVOGX"
      }
    },
    {
      "cell_type": "code",
      "source": [
        "print(df.isnull().sum())\n"
      ],
      "metadata": {
        "colab": {
          "base_uri": "https://localhost:8080/"
        },
        "id": "Qkl0d1nGVOjX",
        "outputId": "5f5f18d3-d683-4151-bf7a-4641d94a092b"
      },
      "execution_count": 3,
      "outputs": [
        {
          "output_type": "stream",
          "name": "stdout",
          "text": [
            "ID_Customer               0\n",
            "Jenis_kelamin             0\n",
            "umur                      0\n",
            "membership_program        0\n",
            "using_reward              0\n",
            "pembayaran                0\n",
            "Subscribe_brochure        0\n",
            "harga_per_bulan           0\n",
            "jumlah_harga_langganan    0\n",
            "churn                     0\n",
            "dtype: int64\n"
          ]
        }
      ]
    },
    {
      "cell_type": "markdown",
      "source": [
        "Menghapus Kolom ID_Customer"
      ],
      "metadata": {
        "id": "gd1H75fVVVIX"
      }
    },
    {
      "cell_type": "code",
      "source": [
        "#menghilangkan kolom id dari data frame dikarenakan kolom id tidak relevan untuk dijadikan input ataupun output dalam tugas klasifikasi\n",
        "df.drop('ID_Customer', axis=1, inplace=True)\n",
        "\n",
        "print(df.head())"
      ],
      "metadata": {
        "colab": {
          "base_uri": "https://localhost:8080/"
        },
        "id": "iAwaU0f-YQWk",
        "outputId": "4a490418-fdea-4483-a8d1-216fba7e9bb5"
      },
      "execution_count": 4,
      "outputs": [
        {
          "output_type": "stream",
          "name": "stdout",
          "text": [
            "  Jenis_kelamin  umur  membership_program using_reward     pembayaran  \\\n",
            "0     Perempuan    41                  36           No           Cash   \n",
            "1     Laki-laki    27                  36          Yes  Bank Transfer   \n",
            "2     Laki-laki    45                  36           No           Cash   \n",
            "3     Perempuan    33                  12           No  Bank Transfer   \n",
            "4     Perempuan    38                  12           No           Cash   \n",
            "\n",
            "  Subscribe_brochure  harga_per_bulan  jumlah_harga_langganan churn  \n",
            "0                 No            10000                  360000   Yes  \n",
            "1              Email            10000                  360000   Yes  \n",
            "2                 No            10000                  360000    No  \n",
            "3                Yes            10000                  120000    No  \n",
            "4                 No            10000                  120000    No  \n"
          ]
        }
      ]
    },
    {
      "cell_type": "markdown",
      "source": [
        "###Mengubah Kolom Non-Numerik Menjadi Kolom Numerik"
      ],
      "metadata": {
        "id": "K6rWuD4AYibD"
      }
    },
    {
      "cell_type": "code",
      "source": [
        "#mengubah nilai \"Perempuan\" menjadi 1 dan \"Laki-laki\" menjadi 0\n",
        "df['Jenis_kelamin']= df['Jenis_kelamin'].map(\n",
        "\tlambda value: 1 if value == 'Perempuan' else 0)\n",
        "\n",
        "#mengubah nilai using_reward \"Yes\" menjadi 1 dan \"No\" menjadi 0\n",
        "df['using_reward']= df['using_reward'].map(\n",
        "\tlambda value: 1 if value == 'Yes' else 0)\n",
        "\n",
        "#mengubah nilai pembayaran \"Credit\" menjadi 2, \"Bank Transfer\" menjadi 1 dan \"Cash\" menjadi 0\n",
        "df['pembayaran']= df['pembayaran'].map(\n",
        "    lambda value: 2 if value == 'Credit'\n",
        "    else 1 if value == 'Bank Transfer'\n",
        "    else 0)\n",
        "\n",
        "#mengubah nilai subskripsi brosur \"No\" menjadi 0 dan nilai lainnya (\"Email\" dan \"Yes\") menjadi 1\n",
        "df['Subscribe_brochure']= df['Subscribe_brochure'].map(\n",
        "    lambda value: 1 if value == 'No'  else 0)\n",
        "\n",
        "#mengubah nilai \"Yes\" menjadi 1 dan \"No\" menjadi 0\n",
        "df['churn'] = df['churn'].map(\n",
        "\tlambda value: 1 if value == 'Yes' else 0)\n",
        "\n",
        "#menampilkan isi dari variabel 'df' setelah perubahan\n",
        "print(df.head())"
      ],
      "metadata": {
        "colab": {
          "base_uri": "https://localhost:8080/"
        },
        "id": "bB03GdY6YlLj",
        "outputId": "cdddbf2a-5dd1-45c8-ff85-8f939cee6c4a"
      },
      "execution_count": 5,
      "outputs": [
        {
          "output_type": "stream",
          "name": "stdout",
          "text": [
            "   Jenis_kelamin  umur  membership_program  using_reward  pembayaran  \\\n",
            "0              1    41                  36             0           0   \n",
            "1              0    27                  36             1           1   \n",
            "2              0    45                  36             0           0   \n",
            "3              1    33                  12             0           1   \n",
            "4              1    38                  12             0           0   \n",
            "\n",
            "   Subscribe_brochure  harga_per_bulan  jumlah_harga_langganan  churn  \n",
            "0                   1            10000                  360000      1  \n",
            "1                   0            10000                  360000      1  \n",
            "2                   1            10000                  360000      0  \n",
            "3                   0            10000                  120000      0  \n",
            "4                   1            10000                  120000      0  \n"
          ]
        }
      ]
    },
    {
      "cell_type": "markdown",
      "source": [
        "**Feature Matrix dan Target**\n",
        "\n",
        "Langkah berikutnya aku akan membuat feature matrix atau data input yang merupakan variabel bebas (X) serta target yang meupakan variabel bergantung (y) untuk persoalan churn analysis ini."
      ],
      "metadata": {
        "id": "C0wUuFCXYpdz"
      }
    },
    {
      "cell_type": "code",
      "source": [
        "#menyimpan atribut diagnosis ke dalam variabel y dan disimpan ke dalam array 1D atau array target\n",
        "y = df.pop('churn').to_numpy()\n",
        "\n",
        "#mengubah seluruh data dalam df ke dalam format array 2D atau matrix feature X (jumlah data, jumlah atribut)\n",
        "X = df.to_numpy()\n",
        "\n",
        "#memastikan jumlah data dan jumlah atribut data input\n",
        "print('X:', X.shape)\n",
        "#memastikan jumlah data pada variabel y\n",
        "print('y:', y.shape)"
      ],
      "metadata": {
        "colab": {
          "base_uri": "https://localhost:8080/"
        },
        "id": "M_YS6Y5ge4MZ",
        "outputId": "fe3b9426-8ad4-4176-ccad-3d08a5a7548c"
      },
      "execution_count": 6,
      "outputs": [
        {
          "output_type": "stream",
          "name": "stdout",
          "text": [
            "X: (499, 8)\n",
            "y: (499,)\n"
          ]
        }
      ]
    },
    {
      "cell_type": "markdown",
      "source": [
        "**Akurasi Data Training**\n",
        "\n",
        "Aku akan melihat seberapa besar nilai akurasi yang aku peroleh ketika memodelkan analisis churn pelanggan berdasarkan variabel bebas X dan variabel bergantung y untuk keseluruhan butir data. Di sini aku akan memodelkan dengan decision tree."
      ],
      "metadata": {
        "id": "ksqe7645fWWh"
      }
    },
    {
      "cell_type": "code",
      "source": [
        "#mengimport model 'DecisionTreeClassifier' dari library scikit-learn tepatnya dari modul tree.\n",
        "from sklearn.tree import DecisionTreeClassifier\n",
        "\n",
        "#inisialisasi model\n",
        "model = DecisionTreeClassifier(random_state=12)\n",
        "\n",
        "#melatih model berdasarkan data input (X) dan label (y)\n",
        "model.fit(X, y)\n",
        "\n",
        "#melakukan prediksi terhadap setiap data dalam X dan menyimpan hasil prediksi dalam array 'y_pred'\n",
        "y_pred = model.predict(X)\n",
        "\n",
        "#mengimport fungsi untuk menghitung akurasi dari library scikit-learn tepatnya dari modul metrics.\n",
        "from sklearn.metrics import accuracy_score\n",
        "\n",
        "#menghitung nilai akurasi dari hasil prediksi (y_pred) dengan label aktual yang dimiliki oleh setiap data (y) nilai akurasi dihitung dengan menggunakan total prediksi benar dibagi dengan total data yang diprediksi\n",
        "score = accuracy_score(y,y_pred)\n",
        "\n",
        "#menampilkan hasil akurasi dalam persen\n",
        "print('Hasil akurasi model: %.2f %%' % (100*score))"
      ],
      "metadata": {
        "colab": {
          "base_uri": "https://localhost:8080/"
        },
        "id": "lttJW_CHfZAZ",
        "outputId": "5dab1aeb-0446-47be-e7cc-e0cc56d7da6a"
      },
      "execution_count": 7,
      "outputs": [
        {
          "output_type": "stream",
          "name": "stdout",
          "text": [
            "Hasil akurasi model: 90.78 %\n"
          ]
        }
      ]
    },
    {
      "cell_type": "markdown",
      "source": [
        "**Train and Test Split**\n",
        "\n",
        "Selanjutnya, dataset yang merupakan variabel bebas X dan variabel bergantung y yang dibagi menjadi bagian data latih (training dataset) dan bagian data uji (testing dataset)."
      ],
      "metadata": {
        "id": "4PzQ247Bghpf"
      }
    },
    {
      "cell_type": "code",
      "source": [
        "#fungsi untuk membagi data dan label ke dalam dua bagian (data latih dan data testing) secara acak tersedia dalam library scikit-learn.model_selection\n",
        "from sklearn.model_selection import train_test_split\n",
        "\n",
        "#X_train dan y_train akan kita gunakan sebagai data untuk melatih model X_test dan y_test akan kita gunakan sebagai data testing untuk mengetahui kemampuan model untuk data yang belum pernah ia jumpai\n",
        "X_train, X_test, y_train, y_test = train_test_split(X, y, test_size=0.2, random_state=12)\n",
        "\n",
        "model = DecisionTreeClassifier(random_state=12)\n",
        "\n",
        "#melatih model berdasarkan data latih (X_train) dan labelnya (y_train)\n",
        "model.fit(X_train, y_train)\n",
        "\n",
        "#melakukan prediksi terhadap setiap data testing (X_test) dan menyimpan hasil prediksi dalam array 'y_pred'\n",
        "y_pred = model.predict(X_test)\n",
        "\n",
        "#menghitung nilai akurasi dari hasil prediksi (y_pred) dengan label aktual yang dimiliki oleh setiap data test (y_test)\n",
        "score = accuracy_score(y_test,y_pred)\n",
        "\n",
        "#menampilkan hasil akurasi dalam persen\n",
        "print('Hasil akurasi model: %.2f %%' % (100*score))"
      ],
      "metadata": {
        "colab": {
          "base_uri": "https://localhost:8080/"
        },
        "id": "orulEbTtglYf",
        "outputId": "e6771b0b-ac69-465d-9339-64c149b09442"
      },
      "execution_count": 8,
      "outputs": [
        {
          "output_type": "stream",
          "name": "stdout",
          "text": [
            "Hasil akurasi model: 43.00 %\n"
          ]
        }
      ]
    },
    {
      "cell_type": "markdown",
      "source": [
        "### K-Fold Cross Validation"
      ],
      "metadata": {
        "id": "5jIJbfo6hRFe"
      }
    },
    {
      "cell_type": "code",
      "source": [
        "#mengimport fungsi K-Fold dari modul model_selection pada library scikit-learn\n",
        "from sklearn.model_selection import KFold\n",
        "\n",
        "#men-set nilai K = 10\n",
        "kf = KFold(n_splits= 10, shuffle=True,random_state = 12)\n",
        "\n",
        "#menyesuaikan nilai K dengan jumlah data pada variabel X\n",
        "kf.get_n_splits(X)\n",
        "\n",
        "#mengulangi proses pelatihan dan evaluasi pada setiap kelompok data yang telah dibagi melalui object KFold\n",
        "for train_index, test_index in kf.split(X):\n",
        "\tX_train, X_test = X[train_index], X[test_index]\n",
        "\ty_train, y_test = y[train_index], y[test_index]\n",
        "\tmodel = DecisionTreeClassifier(random_state=12)\n",
        "\tmodel.fit(X_train,y_train)\n",
        "\n",
        "\ty_pred = model.predict(X_test)\n",
        "\tscore = accuracy_score(y_test,y_pred)\n",
        "\n",
        "\tprint('Hasil akurasi model: %.2f %%' % (100*score))"
      ],
      "metadata": {
        "colab": {
          "base_uri": "https://localhost:8080/"
        },
        "id": "mGCW0dafmNCS",
        "outputId": "a22baceb-5af4-4b3f-c769-4176fb14156a"
      },
      "execution_count": 9,
      "outputs": [
        {
          "output_type": "stream",
          "name": "stdout",
          "text": [
            "Hasil akurasi model: 54.00 %\n",
            "Hasil akurasi model: 58.00 %\n",
            "Hasil akurasi model: 54.00 %\n",
            "Hasil akurasi model: 36.00 %\n",
            "Hasil akurasi model: 56.00 %\n",
            "Hasil akurasi model: 46.00 %\n",
            "Hasil akurasi model: 44.00 %\n",
            "Hasil akurasi model: 56.00 %\n",
            "Hasil akurasi model: 62.00 %\n",
            "Hasil akurasi model: 44.90 %\n"
          ]
        }
      ]
    },
    {
      "cell_type": "markdown",
      "source": [
        "### Akurasi Rata-Rata Model Klasifikasi"
      ],
      "metadata": {
        "id": "r2zRGM-_mYBn"
      }
    },
    {
      "cell_type": "code",
      "source": [
        "#men-set nilai K = 10\n",
        "kf = KFold(n_splits= 10, shuffle=True,random_state = 12)\n",
        "\n",
        "#menyesuaikan nilai K dengan jumlah data pada variabel X\n",
        "kf.get_n_splits(X)\n",
        "\n",
        "total_score = 0\n",
        "\n",
        "#mengulangi proses pelatihan dan evaluasi pada setiap kelompok data yang telah dibagi melalui object KFold\n",
        "for train_index, test_index in kf.split(X):\n",
        "\tX_train, X_test = X[train_index], X[test_index]\n",
        "\ty_train, y_test = y[train_index], y[test_index]\n",
        "\n",
        "\tmodel = DecisionTreeClassifier(random_state=12)\n",
        "\tmodel.fit(X_train,y_train)\n",
        "\n",
        "\ty_pred = model.predict(X_test)\n",
        "\tscore = accuracy_score(y_test,y_pred)\n",
        "\n",
        "\ttotal_score += score\n",
        "\tprint('Hasil akurasi model: %.2f %%' % (100*score))\n",
        "\n",
        "print('\\nRata-rata akurasi model: %.2f %%' % (100*total_score/10))"
      ],
      "metadata": {
        "colab": {
          "base_uri": "https://localhost:8080/"
        },
        "id": "HXlwtM-XmZLX",
        "outputId": "73b671d9-22d8-4441-9f8f-cad888d604e4"
      },
      "execution_count": 10,
      "outputs": [
        {
          "output_type": "stream",
          "name": "stdout",
          "text": [
            "Hasil akurasi model: 54.00 %\n",
            "Hasil akurasi model: 58.00 %\n",
            "Hasil akurasi model: 54.00 %\n",
            "Hasil akurasi model: 36.00 %\n",
            "Hasil akurasi model: 56.00 %\n",
            "Hasil akurasi model: 46.00 %\n",
            "Hasil akurasi model: 44.00 %\n",
            "Hasil akurasi model: 56.00 %\n",
            "Hasil akurasi model: 62.00 %\n",
            "Hasil akurasi model: 44.90 %\n",
            "\n",
            "Rata-rata akurasi model: 51.09 %\n"
          ]
        }
      ]
    },
    {
      "cell_type": "markdown",
      "source": [
        "Confusion Matrix"
      ],
      "metadata": {
        "id": "xLWoy0LIohSV"
      }
    },
    {
      "cell_type": "code",
      "source": [
        "#library yang dapat kita gunakan untuk menghitung nilai confusion matrix\n",
        "from sklearn.metrics import confusion_matrix\n",
        "\n",
        "kf = KFold(n_splits=10, shuffle=True, random_state=12)\n",
        "\n",
        "kf.get_n_splits(X)\n",
        "\n",
        "#menyiapkan array berukuran 2 * 2 untuk  menyimpan informasi confusion matrix\n",
        "import numpy as np\n",
        "cm_result = np.zeros((2,2))\n",
        "for train_index,test_index in kf.split(X):\n",
        "\tX_train, X_test = X[train_index], X[test_index]\n",
        "\ty_train, y_test = y[train_index], y[test_index]\n",
        "\n",
        "\tmodel = DecisionTreeClassifier(random_state=12)\n",
        "\tmodel.fit(X_train,y_train)\n",
        "\n",
        "\ty_pred = model.predict(X_test)\n",
        "\n",
        "\t#menghitung nilai confusion matrix berdasarkan label sebenarnya dan label hasil prediksi model\n",
        "\tcm_result += confusion_matrix(y_test, y_pred)\n",
        "\n",
        "print('Confusion Matrix untuk K-Fold = 10')\n",
        "print(cm_result)"
      ],
      "metadata": {
        "colab": {
          "base_uri": "https://localhost:8080/"
        },
        "id": "MuSfQwCjohmk",
        "outputId": "c3e9f79f-913a-4180-853d-aca46c160a18"
      },
      "execution_count": 11,
      "outputs": [
        {
          "output_type": "stream",
          "name": "stdout",
          "text": [
            "Confusion Matrix untuk K-Fold = 10\n",
            "[[125. 112.]\n",
            " [132. 130.]]\n"
          ]
        }
      ]
    },
    {
      "cell_type": "markdown",
      "source": [
        "Precision, Recall, dan F1"
      ],
      "metadata": {
        "id": "VvQYYWkUomTU"
      }
    },
    {
      "cell_type": "code",
      "source": [
        "#library yang dapat kita gunakan untuk menghitung nilai precision, recall dan F1-Score\n",
        "from sklearn.metrics import classification_report\n",
        "\n",
        "kf = KFold(n_splits=10, shuffle=True, random_state=12)\n",
        "\n",
        "kf.get_n_splits(X)\n",
        "\n",
        "#variabel untuk menyimpan label ground-truth atau label referensi dari setiap iterasi\n",
        "y_true_all = []\n",
        "\n",
        "#variabel untuk menyimpan label hasil prediksi dari setiap iterasi\n",
        "y_pred_all = []\n",
        "\n",
        "for train_index, test_index in kf.split(X):\n",
        "\tX_train, X_test = X[train_index], X[test_index]\n",
        "\ty_train, y_test = y[train_index], y[test_index]\n",
        "\n",
        "\tmodel = DecisionTreeClassifier(random_state=12)\n",
        "\tmodel.fit(X_train, y_train)\n",
        "\n",
        "\ty_pred = model.predict(X_test)\n",
        "\n",
        "\t#menambahkan label ground_truth ke dalam variabel\n",
        "\ty_true_all.extend(y_test)\n",
        "\t#menambahkan label prediksi ke dalam variabel\n",
        "\ty_pred_all.extend(y_pred)\n",
        "\n",
        "print(classification_report(y_true_all, y_pred_all))"
      ],
      "metadata": {
        "colab": {
          "base_uri": "https://localhost:8080/"
        },
        "id": "0qFJcYxjqKJq",
        "outputId": "97919ba5-0c4e-4991-baed-4d510e355c9d"
      },
      "execution_count": 12,
      "outputs": [
        {
          "output_type": "stream",
          "name": "stdout",
          "text": [
            "              precision    recall  f1-score   support\n",
            "\n",
            "           0       0.49      0.53      0.51       237\n",
            "           1       0.54      0.50      0.52       262\n",
            "\n",
            "    accuracy                           0.51       499\n",
            "   macro avg       0.51      0.51      0.51       499\n",
            "weighted avg       0.51      0.51      0.51       499\n",
            "\n"
          ]
        }
      ]
    },
    {
      "cell_type": "markdown",
      "source": [
        "Berdasarkan output pada potongan kode di atas, saat label 0 dianggap sebagai kelas positif, nilai Precision sama dengan 0.48 dan nilai Recall sama dengan 0.53 sehingga nilai F1-Score untuk label sama dengan 0.50. Di sisi lain, saat label 1 dianggap sebagai kelas positif, nilai Precision sama dengan 0.53 dan nilai Recall sama dengan 0.48 sehingga nilai F1-Score sama dengan 0.50. Nilai support untuk baris dengan label 0 menyatakan jumlah data dengan label 0 pada list “y_true_all”, sedangkan nilai support untuk baris dengan label 0 menyatakan jumlah data dengan label 1 pada list “y_true_all”\n",
        "\n",
        "\n",
        "\n",
        "Kemudian, baris akurasi pada output menyatakan nilai akurasi (total prediksi benar dibagi dengan total data yang diprediksi); baris macro avg menyatakan nilai rata-rata Precision, Recall, dan F1-Score dari masing-masing kelas yang telah dihitung sebelumnya; dan baris weighted avg menyatakan nilai rata-rata Precision, Recall, dan F1-Score dari masing-masing kelas yang telah dihitung dengan mempertimbangkan jumlah nilai support."
      ],
      "metadata": {
        "id": "Vy7iIbp8qNfq"
      }
    },
    {
      "cell_type": "markdown",
      "source": [
        "Precision & Recall Trade off"
      ],
      "metadata": {
        "id": "FMa5uAPirHbq"
      }
    },
    {
      "cell_type": "code",
      "source": [
        "#library yang dapat kita gunakan untuk menghitung nilai precision recall trade-off\n",
        "from sklearn.metrics import precision_recall_curve\n",
        "\n",
        "kf = KFold(n_splits=10, shuffle=True, random_state=12)\n",
        "kf.get_n_splits(X)\n",
        "\n",
        "#variabel untuk menyimpan label ground-truth atau label referensi dari setiap iterasi\n",
        "y_true_all = []\n",
        "\n",
        "#variabel untuk menyimpan label hasil prediksi dari setiap iterasi\n",
        "y_pred_all = []\n",
        "\n",
        "for train_index, test_index in kf.split(X):\n",
        "\tX_train, X_test = X[train_index], X[test_index]\n",
        "\ty_train, y_test = y[train_index], y[test_index]\n",
        "\n",
        "\tmodel = DecisionTreeClassifier(random_state=12)\n",
        "\tmodel.fit(X_train, y_train)\n",
        "\n",
        "\ty_pred = model.predict_proba(X_test)\n",
        "\n",
        "\t#menambahkan label ground_truth ke dalam variabel\n",
        "\ty_true_all.extend(y_test)\n",
        "\t#menambahkan label prediksi ke dalam variabel\n",
        "\ty_pred_all.extend(y_pred[:,1])\n",
        "\n",
        "precisions, recalls, thresholds = precision_recall_curve(y_true_all, y_pred_all)\n",
        "\n",
        "#mengiterasi setiap nilai threshold, precision dan recall yang dihasilkan oleh fungsi precision_recall_curve\n",
        "for i in range(0,len(thresholds)):\n",
        "\tprint('Saat nilai threshold: %.2f maka nilai Precision: %.2f dan Recall: %.2f' % (thresholds[i], precisions[i], recalls[i]))"
      ],
      "metadata": {
        "colab": {
          "base_uri": "https://localhost:8080/"
        },
        "id": "WfVLewcPqVhi",
        "outputId": "2130325b-db63-4990-e459-6e86a5bc3d68"
      },
      "execution_count": 13,
      "outputs": [
        {
          "output_type": "stream",
          "name": "stdout",
          "text": [
            "Saat nilai threshold: 0.00 maka nilai Precision: 0.53 dan Recall: 1.00\n",
            "Saat nilai threshold: 0.33 maka nilai Precision: 0.52 dan Recall: 0.56\n",
            "Saat nilai threshold: 0.50 maka nilai Precision: 0.53 dan Recall: 0.56\n",
            "Saat nilai threshold: 0.67 maka nilai Precision: 0.54 dan Recall: 0.50\n",
            "Saat nilai threshold: 1.00 maka nilai Precision: 0.53 dan Recall: 0.48\n"
          ]
        }
      ]
    },
    {
      "cell_type": "markdown",
      "source": [
        "Visualisasi Precision & Recall Trade off"
      ],
      "metadata": {
        "id": "4SAT6MkhsMe4"
      }
    },
    {
      "cell_type": "code",
      "source": [
        "import matplotlib.pyplot as plt\n",
        "\n",
        "plt.plot(recalls, precisions, marker='.', label='Decision Tree')\n",
        "\n",
        "#axis labels\n",
        "plt.xlabel('Recall')\n",
        "plt.ylabel('Precision')\n",
        "plt.title(\"Precision Recall Tradeoff untuk Kelas 1\")\n",
        "\n",
        "#show the legend\n",
        "plt.legend()\n",
        "\n",
        "#show the plot\n",
        "plt.show()"
      ],
      "metadata": {
        "colab": {
          "base_uri": "https://localhost:8080/",
          "height": 472
        },
        "id": "wVZFYshFsMOg",
        "outputId": "1929d5dc-1644-4200-b1fa-1f3dc3db5039"
      },
      "execution_count": 14,
      "outputs": [
        {
          "output_type": "display_data",
          "data": {
            "text/plain": [
              "<Figure size 640x480 with 1 Axes>"
            ],
            "image/png": "[encoded data removed]"
          },
          "metadata": {}
        }
      ]
    },
    {
      "cell_type": "markdown",
      "source": [
        "Matthews Correlation Coefficient"
      ],
      "metadata": {
        "id": "imj9uScRsQ3I"
      }
    },
    {
      "cell_type": "code",
      "source": [
        "#library yang dapat kita gunakan untuk menghitung nilai Matthews Correlation Coefficient\n",
        "from sklearn.metrics import matthews_corrcoef\n",
        "\n",
        "kf = KFold(n_splits=10, shuffle=True, random_state=12)\n",
        "kf.get_n_splits(X)\n",
        "\n",
        "#variabel untuk menyimpan label ground-truth atau label referensi dari setiap iterasi\n",
        "y_true_all = []\n",
        "\n",
        "#variabel untuk menyimpan label hasil prediksi dari setiap iterasi\n",
        "y_pred_all = []\n",
        "\n",
        "for train_index, test_index in kf.split(X):\n",
        "\tX_train, X_test = X[train_index], X[test_index]\n",
        "\ty_train, y_test = y[train_index], y[test_index]\n",
        "\n",
        "\tmodel = DecisionTreeClassifier(random_state=12)\n",
        "\tmodel.fit(X_train, y_train)\n",
        "\n",
        "\ty_pred = model.predict(X_test)\n",
        "\n",
        "\t#menambahkan label ground_truth ke dalam variabel\n",
        "\ty_true_all.extend(y_test)\n",
        "\t#menambahkan label prediksi ke dalam variabel\n",
        "\ty_pred_all.extend(y_pred)\n",
        "\n",
        "print('Nilai MCC: ', matthews_corrcoef(y_true_all, y_pred_all))"
      ],
      "metadata": {
        "colab": {
          "base_uri": "https://localhost:8080/"
        },
        "id": "sJmI5I43tZK_",
        "outputId": "94585c08-ffe3-4d4f-d10c-b0409dd4361d"
      },
      "execution_count": 15,
      "outputs": [
        {
          "output_type": "stream",
          "name": "stdout",
          "text": [
            "Nilai MCC:  0.023590378387462276\n"
          ]
        }
      ]
    }
  ]
}