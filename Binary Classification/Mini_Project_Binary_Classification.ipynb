{
  "nbformat": 4,
  "nbformat_minor": 0,
  "metadata": {
    "colab": {
      "provenance": []
    },
    "kernelspec": {
      "name": "python3",
      "display_name": "Python 3"
    },
    "language_info": {
      "name": "python"
    }
  },
  "cells": [
    {
      "cell_type": "markdown",
      "source": [
        "Nama : Yayan Kurniawan\n",
        "\n",
        "# Mini Project: Decision Tree\n",
        "Melihat proses parameterisasi model berpotensi untuk menghasilkan model Decision Tree yang lebih baik, Sunyi ingin mencoba mengembangkan model untuk kombinasi nilai parameter berikut.\n",
        "\n",
        "max_depth : 24, 28, 32, 36\n",
        "\n",
        "min_samples_split: 6, 7, 8, 9, 10\n",
        "\n",
        ""
      ],
      "metadata": {
        "id": "j-4UaeVNYzIX"
      }
    },
    {
      "cell_type": "code",
      "execution_count": 1,
      "metadata": {
        "colab": {
          "base_uri": "https://localhost:8080/"
        },
        "id": "vlajgRPkYu4N",
        "outputId": "22127f84-692d-40ad-a1eb-9aca2ffb5fe0"
      },
      "outputs": [
        {
          "output_type": "stream",
          "name": "stdout",
          "text": [
            "Skor testing terbaik:  0.44\n",
            "Parameter model: max_depth= 24 , min_samples_split= 6\n"
          ]
        }
      ],
      "source": [
        "# Mengimpor library yang diperlukan\n",
        "import pandas as pd\n",
        "from sklearn.preprocessing import LabelEncoder\n",
        "from sklearn.model_selection import train_test_split\n",
        "\n",
        "# Mengatur tampilan jumlah kolom yang ditampilkan oleh pandas\n",
        "pd.set_option('display.max_column', 20)\n",
        "\n",
        "# Membaca dataset dari file Excel\n",
        "df = pd.read_excel('https://storage.googleapis.com/dqlab-dataset/cth_churn_analysis_train.xlsx')\n",
        "\n",
        "# Menghapus kolom yang tidak diperlukan dari dataset\n",
        "df.drop('ID_Customer', axis=1, inplace=True)\n",
        "df.drop('harga_per_bulan', axis=1, inplace=True)\n",
        "df.drop('jumlah_harga_langganan', axis=1, inplace=True)\n",
        "\n",
        "# Memisahkan label (target) dari dataset dan mengubahnya menjadi angka (Yes = 1, No = 0)\n",
        "y = df.pop('churn').to_list()\n",
        "y = [1 if label == 'Yes' else 0 for label in y]\n",
        "\n",
        "# Melakukan encoding untuk fitur kategorikal\n",
        "labelers = {}\n",
        "column_categorical_non_binary = []\n",
        "\n",
        "# Jika kolom kategorikal hanya memiliki 2 nilai unik, gunakan LabelEncoder\n",
        "# Jika lebih dari 2 nilai unik, simpan namanya untuk diolah dengan one-hot encoding\n",
        "for col in df.select_dtypes(include=['object']):\n",
        "    if len(df[col].unique()) == 2:\n",
        "        labelers[col] = LabelEncoder()\n",
        "        df[col] = labelers[col].fit_transform(df[col])\n",
        "    else:\n",
        "        column_categorical_non_binary.append(col)\n",
        "\n",
        "# Mengubah fitur kategorikal non-binary menjadi one-hot encoded\n",
        "df = pd.get_dummies(df, columns=column_categorical_non_binary)\n",
        "\n",
        "# Mengubah DataFrame menjadi array numpy\n",
        "X = df.to_numpy()\n",
        "\n",
        "# Membagi data menjadi data latih dan data uji (90% latih, 10% uji)\n",
        "X_train, X_test, y_train, y_test = train_test_split(X,y, test_size=0.1, random_state=23)\n",
        "\n",
        "# Mengimpor library untuk Decision Tree dan evaluasi akurasi\n",
        "from sklearn.tree import DecisionTreeClassifier\n",
        "from sklearn.metrics import accuracy_score\n",
        "\n",
        "# Mendefinisikan daftar nilai min_samples_split yang akan diuji\n",
        "min_samples_split_search = [6, 7, 8, 9, 10]\n",
        "\n",
        "# Mendefinisikan daftar nilai max_depth yang akan diuji\n",
        "max_depth_search = [24, 28, 32, 36]\n",
        "\n",
        "# Variabel untuk menyimpan skor tertinggi dan model terbaik\n",
        "max_score = 0\n",
        "best_model = None\n",
        "\n",
        "# Melakukan pencarian kombinasi parameter terbaik\n",
        "for ms in min_samples_split_search:\n",
        "\tfor md in max_depth_search:\n",
        "\t\t# Inisialisasi model dengan parameter yang sedang diuji\n",
        "\t\tmodel = DecisionTreeClassifier(min_samples_split=ms, max_depth=md, random_state=57)\n",
        "\n",
        "\t\t# Melatih model pada data training\n",
        "\t\tmodel.fit(X_train,y_train)\n",
        "\n",
        "\t\t# Melakukan prediksi pada data uji\n",
        "\t\ty_pred = model.predict(X_test)\n",
        "\n",
        "\t\t# Menghitung akurasi model\n",
        "\t\tscore = accuracy_score(y_test,y_pred)\n",
        "\n",
        "\t\t# Menyimpan model terbaik jika skor lebih tinggi dari sebelumnya\n",
        "\t\tif max_score < score:\n",
        "\t\t\tbest_model = model\n",
        "\t\t\tmax_score = score\n",
        "\n",
        "# Menampilkan skor terbaik dan parameter dari model terbaik\n",
        "print(\"Skor testing terbaik: \",max_score)\n",
        "print(\"Parameter model: max_depth=\",\n",
        "      best_model.get_params()['max_depth'],\n",
        "      \", min_samples_split=\",\n",
        "      best_model.get_params()['min_samples_split'])\n"
      ]
    },
    {
      "cell_type": "markdown",
      "source": [
        "# Mini Project : Random Forest\n",
        "Dikarenakan masih penasaran terkait dengan akurasi dari model Random Forest yang dikembangkan Sunyi diam-diam ingin mencoba sekumpulan nilai parameter yang berbeda seperti pada bagian di bawah ini.\n",
        "\n",
        "max_depth : 6, 8, 10, 12, 16\n",
        "\n",
        "min_samples_split : 4, 5, 6, 7, 8\n",
        "\n",
        "n_estimators : 20, 30, 40, 50, 60\n",
        "\n"
      ],
      "metadata": {
        "id": "2BbkOIOJZkjV"
      }
    },
    {
      "cell_type": "code",
      "source": [
        "# Mengimpor library untuk Random Forest\n",
        "from sklearn.ensemble import RandomForestClassifier\n",
        "\n",
        "# Menentukan nilai parameter yang akan diuji untuk masing-masing decision tree di dalam Random Forest\n",
        "min_samples_split_search = [4, 5, 6, 7, 8]\n",
        "max_depth_search = [6, 8, 10, 12, 16]\n",
        "\n",
        "# Menentukan jumlah decision tree (n_estimators) yang akan diuji dalam model Random Forest\n",
        "n_estimators_search = [20, 30, 40, 50, 60]\n",
        "\n",
        "# Inisialisasi variabel untuk menyimpan model dan skor terbaik\n",
        "max_score = 0\n",
        "best_model = None\n",
        "\n",
        "# Melakukan pencarian grid terhadap kombinasi terbaik dari parameter Random Forest\n",
        "for ms in min_samples_split_search:\n",
        "\tfor md in max_depth_search:\n",
        "\t\tfor ne in n_estimators_search:\n",
        "\t\t\tmodel = RandomForestClassifier(n_estimators = ne, min_samples_split=ms, max_depth=md, random_state=57)\n",
        "\t\t\tmodel.fit(X_train,y_train)  # Melatih model dengan data latih\n",
        "\t\t\ty_pred = model.predict(X_test)  # Memprediksi data uji\n",
        "\t\t\tscore = accuracy_score(y_test,y_pred)  # Menghitung skor akurasi\n",
        "\t\t\tif max_score < score:  # Menyimpan model terbaik jika akurasinya lebih tinggi\n",
        "\t\t\t\tbest_model = model\n",
        "\t\t\t\tmax_score = score\n",
        "\n",
        "# Menampilkan hasil akurasi terbaik dan parameter-parameter dari model terbaik\n",
        "print(\"Skor testing terbaik: \",max_score)\n",
        "print(\"Parameter model: max_depth=\",\n",
        "      best_model.get_params()['max_depth'],\n",
        "      \", min_samples_split=\",\n",
        "      best_model.get_params()['min_samples_split'],\n",
        "      \", n_estimators=\",\n",
        "      best_model.get_params()['n_estimators']\n",
        "      )"
      ],
      "metadata": {
        "colab": {
          "base_uri": "https://localhost:8080/"
        },
        "id": "JSj6_XZIZk40",
        "outputId": "50a3bd0c-673e-4196-de20-2ec24f419559"
      },
      "execution_count": 2,
      "outputs": [
        {
          "output_type": "stream",
          "name": "stdout",
          "text": [
            "Skor testing terbaik:  0.54\n",
            "Parameter model: max_depth= 12 , min_samples_split= 5 , n_estimators= 40\n"
          ]
        }
      ]
    }
  ]
}