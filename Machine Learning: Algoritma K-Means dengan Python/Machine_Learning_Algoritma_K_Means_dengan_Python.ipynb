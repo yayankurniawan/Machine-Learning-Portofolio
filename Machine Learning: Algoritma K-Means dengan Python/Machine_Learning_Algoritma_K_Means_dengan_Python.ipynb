{
  "nbformat": 4,
  "nbformat_minor": 0,
  "metadata": {
    "colab": {
      "provenance": []
    },
    "kernelspec": {
      "name": "python3",
      "display_name": "Python 3"
    },
    "language_info": {
      "name": "python"
    }
  },
  "cells": [
    {
      "cell_type": "markdown",
      "source": [
        "#🧠 Machine Learning: Algoritma K-Means dengan Python\n",
        "##📌 Studi Kasus\n",
        "Seorang Data Scientist bernama Sunyi dari perusahaan teknologi XYZ menerima tugas dari manajer CRM pusat perbelanjaan ABC untuk menganalisis data riwayat konsumen. Tujuan dari analisis ini adalah untuk memahami karakteristik pelanggan dan merancang sistem pengelolaan konsumen yang lebih efektif.\n",
        "\n",
        "Sunyi menggunakan bahasa pemrograman Python dan algoritma K-Means Clustering untuk mengelompokkan pelanggan berdasarkan perilaku mereka. Dengan pendekatan ini, perusahaan dapat mengenali segmen pelanggan secara lebih mendalam dan menyusun strategi pemasaran yang lebih tepat sasaran.\n",
        "\n",
        "##🔄 Tahapan Pengerjaan\n",
        "1. Persiapan Dataset\n",
        "- Dataset yang digunakan berisi informasi berikut:\n",
        "\n",
        "- customer_id: ID unik pelanggan\n",
        "\n",
        "- frequency: Frekuensi kunjungan atau pembelian\n",
        "\n",
        "- recency: Jarak waktu sejak transaksi terakhir\n",
        "\n",
        "- monetary: Total nilai pembelian"
      ],
      "metadata": {
        "id": "HadJ-sV1pkjb"
      }
    },
    {
      "cell_type": "code",
      "source": [
        "#Import library pandas\n",
        "import pandas as pd\n",
        "\n",
        "#Membaca data\n",
        "data = pd.read_csv(\"https://storage.googleapis.com/dqlab-dataset/RFM_customer.csv\", encoding='utf8')\n",
        "\n",
        "#Menampilkan 10 baris teratas\n",
        "print(data.head(10))"
      ],
      "metadata": {
        "colab": {
          "base_uri": "https://localhost:8080/"
        },
        "id": "7mBrQzZ0pPm6",
        "outputId": "8ca7871d-a997-4a90-e898-fdaffc48a78b"
      },
      "execution_count": 2,
      "outputs": [
        {
          "output_type": "stream",
          "name": "stdout",
          "text": [
            "   customer_id  frequency  recency     monetary\n",
            "0        12346          1       48  27904840000\n",
            "1        12347          2       40    423420000\n",
            "2        12348          2       41    414092000\n",
            "3        12350          1       33    119478000\n",
            "4        12352          3        6    449984000\n",
            "5        12356          1       48    809968000\n",
            "6        12359          2       28    842749000\n",
            "7        12361          1       10     67602000\n",
            "8        12362          1       18    170512000\n",
            "9        12365          2       14    226652000\n"
          ]
        }
      ]
    },
    {
      "cell_type": "markdown",
      "source": [
        "## 2. Melihat Tipe Data dari Setiap Kolom\n",
        "Setelah dataset berhasil dimuat, langkah selanjutnya adalah memahami struktur data yang tersedia. Ini dilakukan dengan melihat dimensi dataset dan tipe data dari setiap kolom."
      ],
      "metadata": {
        "id": "lxh4hzMZzzv2"
      }
    },
    {
      "cell_type": "code",
      "source": [
        "#Melihat dimensi dataframe\n",
        "print(data.shape)"
      ],
      "metadata": {
        "colab": {
          "base_uri": "https://localhost:8080/"
        },
        "id": "HvJzIzLm0vkg",
        "outputId": "9bbcff0f-49ea-469d-86fe-b7a6176d4e61"
      },
      "execution_count": 3,
      "outputs": [
        {
          "output_type": "stream",
          "name": "stdout",
          "text": [
            "(1625, 4)\n"
          ]
        }
      ]
    },
    {
      "cell_type": "code",
      "source": [
        "# melihat tipe data dari setiap kolom\n",
        "data.info()"
      ],
      "metadata": {
        "colab": {
          "base_uri": "https://localhost:8080/"
        },
        "id": "_vFk7WUr0yB1",
        "outputId": "edf56664-a8b8-4521-ddaa-0a92922b533b"
      },
      "execution_count": 4,
      "outputs": [
        {
          "output_type": "stream",
          "name": "stdout",
          "text": [
            "<class 'pandas.core.frame.DataFrame'>\n",
            "RangeIndex: 1625 entries, 0 to 1624\n",
            "Data columns (total 4 columns):\n",
            " #   Column       Non-Null Count  Dtype\n",
            "---  ------       --------------  -----\n",
            " 0   customer_id  1625 non-null   int64\n",
            " 1   frequency    1625 non-null   int64\n",
            " 2   recency      1625 non-null   int64\n",
            " 3   monetary     1625 non-null   int64\n",
            "dtypes: int64(4)\n",
            "memory usage: 50.9 KB\n"
          ]
        }
      ]
    },
    {
      "cell_type": "markdown",
      "source": [
        "- Semua kolom bertipe integer (int64), yang cocok untuk analisis numerik dan clustering.\n",
        "\n",
        "- Tidak terdapat nilai kosong (null) pada keempat kolom, sehingga data siap untuk tahap preprocessing selanjutnya."
      ],
      "metadata": {
        "id": "OSgX0epI04w2"
      }
    },
    {
      "cell_type": "markdown",
      "source": [
        "3. Melihat Statistik dari Setiap Kolom\n",
        "\n",
        "Setelah memahami tipe data, langkah selanjutnya adalah melihat statistik deskriptif dari setiap kolom untuk mendapatkan gambaran umum distribusi data."
      ],
      "metadata": {
        "id": "IixcyRbp062l"
      }
    },
    {
      "cell_type": "code",
      "source": [
        "#Untuk melihat statistik dari setiap kolom\n",
        "print(data.describe())"
      ],
      "metadata": {
        "colab": {
          "base_uri": "https://localhost:8080/"
        },
        "id": "zIdwojHU1eMN",
        "outputId": "e1148cc2-06cb-4faa-9dac-1a0c6965157d"
      },
      "execution_count": 5,
      "outputs": [
        {
          "output_type": "stream",
          "name": "stdout",
          "text": [
            "        customer_id    frequency      recency      monetary\n",
            "count   1625.000000  1625.000000  1625.000000  1.625000e+03\n",
            "mean   15261.415385     1.910769    36.455385  3.321584e+08\n",
            "std     1745.556403     2.111145    26.934570  1.140958e+09\n",
            "min    12346.000000     1.000000     1.000000  3.100000e+05\n",
            "25%    13764.000000     1.000000    13.000000  7.520200e+07\n",
            "50%    15221.000000     1.000000    32.000000  1.380670e+08\n",
            "75%    16805.000000     2.000000    54.000000  2.902490e+08\n",
            "max    18283.000000    34.000000    90.000000  2.790484e+10\n"
          ]
        }
      ]
    },
    {
      "cell_type": "markdown",
      "source": [
        "4. Mengecek Missing Value dan Menghapus Kolom\n",
        "\n",
        "Sebelum melanjutkan ke proses clustering, penting untuk memastikan bahwa data bersih dari nilai kosong (missing value) dan hanya berisi fitur yang relevan."
      ],
      "metadata": {
        "id": "j0gFZjcO2e-s"
      }
    },
    {
      "cell_type": "code",
      "source": [
        "#Mengecek apakah ada data null\n",
        "print(data.isnull().any().any())"
      ],
      "metadata": {
        "colab": {
          "base_uri": "https://localhost:8080/"
        },
        "id": "D9h4M4om3RzL",
        "outputId": "a8ac1753-1f99-41ff-f9ac-a495a0b7eb95"
      },
      "execution_count": 6,
      "outputs": [
        {
          "output_type": "stream",
          "name": "stdout",
          "text": [
            "False\n"
          ]
        }
      ]
    },
    {
      "cell_type": "code",
      "source": [
        "#Menghapus kolom customer_id\n",
        "RFM_km = data.drop([\"customer_id\"], axis=1)\n",
        "print(RFM_km.head())"
      ],
      "metadata": {
        "colab": {
          "base_uri": "https://localhost:8080/"
        },
        "id": "VliO1rZP4eo5",
        "outputId": "a7f67500-a2f4-49ff-bc4d-19eeb1a93d47"
      },
      "execution_count": 7,
      "outputs": [
        {
          "output_type": "stream",
          "name": "stdout",
          "text": [
            "   frequency  recency     monetary\n",
            "0          1       48  27904840000\n",
            "1          2       40    423420000\n",
            "2          2       41    414092000\n",
            "3          1       33    119478000\n",
            "4          3        6    449984000\n"
          ]
        }
      ]
    },
    {
      "cell_type": "markdown",
      "source": [
        "5. Melakukan Standarisasi Data"
      ],
      "metadata": {
        "id": "ZoF6yi974jZp"
      }
    },
    {
      "cell_type": "code",
      "source": [
        "#Import StandardScaler\n",
        "from sklearn.preprocessing import StandardScaler\n",
        "standard_scaler = StandardScaler()\n",
        "RFM_standardized = standard_scaler.fit_transform(RFM_km)\n",
        "RFM_standardized = pd.DataFrame(RFM_standardized)\n",
        "RFM_standardized.columns = [\"Frequency\",\"Monetary\",\"Recency\"]\n",
        "print(RFM_standardized.head())"
      ],
      "metadata": {
        "colab": {
          "base_uri": "https://localhost:8080/"
        },
        "id": "lywa0cOVA-qI",
        "outputId": "2da43241-bd29-48aa-f5f9-04f3f7ce0585"
      },
      "execution_count": 8,
      "outputs": [
        {
          "output_type": "stream",
          "name": "stdout",
          "text": [
            "   Frequency  Monetary    Recency\n",
            "0  -0.431543  0.428749  24.173698\n",
            "1   0.042280  0.131641   0.080011\n",
            "2   0.042280  0.168780   0.071833\n",
            "3  -0.431543 -0.128328  -0.186463\n",
            "4   0.516102 -1.131065   0.103301\n"
          ]
        }
      ]
    },
    {
      "cell_type": "markdown",
      "source": [
        "6. Implementasi K-Means Clustering"
      ],
      "metadata": {
        "id": "6VyxyfyqBE0Y"
      }
    },
    {
      "cell_type": "code",
      "source": [
        "# Import KMeans untuk mengimplementasikan K-Means Clustering\n",
        "from sklearn.cluster import KMeans\n",
        "\n",
        "# Mengatur parameter k-means, jumlah cluster yang akan dibentuk adalah 3\n",
        "k_means = KMeans(n_clusters=3, random_state=0)\n",
        "k_means.fit(RFM_standardized)\n",
        "\n",
        "# Pred menyimpan hasil prediksi label cluster untuk setiap data\n",
        "pred = k_means.predict(RFM_standardized)\n"
      ],
      "metadata": {
        "id": "oDVWEN5gErrt"
      },
      "execution_count": 9,
      "outputs": []
    },
    {
      "cell_type": "code",
      "source": [
        "# Menggabungkan RFM dan hasil label clustering\n",
        "RFM_labeled = pd.concat([RFM_standardized,\n",
        "                         pd.Series(pred).rename('cluster')], axis=1)\n",
        "print(RFM_labeled.head())\n"
      ],
      "metadata": {
        "colab": {
          "base_uri": "https://localhost:8080/"
        },
        "id": "ARlEbtgMEwDl",
        "outputId": "7b306109-7416-4f4a-efec-46649da340d8"
      },
      "execution_count": 10,
      "outputs": [
        {
          "output_type": "stream",
          "name": "stdout",
          "text": [
            "   Frequency  Monetary    Recency  cluster\n",
            "0  -0.431543  0.428749  24.173698        2\n",
            "1   0.042280  0.131641   0.080011        1\n",
            "2   0.042280  0.168780   0.071833        1\n",
            "3  -0.431543 -0.128328  -0.186463        1\n",
            "4   0.516102 -1.131065   0.103301        1\n"
          ]
        }
      ]
    },
    {
      "cell_type": "code",
      "source": [
        "# Menghitung jumlah data di setiap cluster\n",
        "RFM_labeled['cluster'].value_counts()\n",
        "print(RFM_labeled['cluster'].value_counts())\n"
      ],
      "metadata": {
        "colab": {
          "base_uri": "https://localhost:8080/"
        },
        "id": "MGiil4XBEzwP",
        "outputId": "fff309f6-3a89-4eb4-88c1-51f8c23b5c07"
      },
      "execution_count": 11,
      "outputs": [
        {
          "output_type": "stream",
          "name": "stdout",
          "text": [
            "cluster\n",
            "1    1087\n",
            "0     514\n",
            "2      24\n",
            "Name: count, dtype: int64\n"
          ]
        }
      ]
    },
    {
      "cell_type": "markdown",
      "source": [
        "Dari hasil di atas, aku dapat melihat bahwa terdapat 1089 data yang tergabung dalam cluster 0, 514 data tergabung dalam cluster 2, dan 22 data tergabung dalam cluster 1."
      ],
      "metadata": {
        "id": "y5k57bUgE6_n"
      }
    },
    {
      "cell_type": "markdown",
      "source": [
        "7. Menampilkan Box Plot"
      ],
      "metadata": {
        "id": "S4x0EcOsLRdG"
      }
    },
    {
      "cell_type": "code",
      "source": [
        "#Import library matplotlib & seaborn\n",
        "import matplotlib.pyplot as plt\n",
        "import seaborn as sns\n",
        "fig, ax = plt.subplots(1,3, figsize=(18,12))\n",
        "\n",
        "#Menampilkan hasil clustering untuk setiap data dalam bentuk boxplot\n",
        "sns.boxplot(x=\"cluster\", y=\"Recency\", data=RFM_labeled, ax=ax[0])\n",
        "sns.boxplot(x=\"cluster\", y=\"Frequency\", data=RFM_labeled, ax=ax[1])\n",
        "sns.boxplot(x=\"cluster\", y=\"Monetary\", data=RFM_labeled, ax=ax[2])\n",
        "plt.show()\n"
      ],
      "metadata": {
        "colab": {
          "base_uri": "https://localhost:8080/",
          "height": 824
        },
        "id": "ILPZdEcpE7t1",
        "outputId": "639be470-6549-4075-bb3d-1ddf0355adf4"
      },
      "execution_count": 12,
      "outputs": [
        {
          "output_type": "display_data",
          "data": {
            "text/plain": [
              "<Figure size 1800x1200 with 3 Axes>"
            ],
            "image/png": "[encoded data removed]"
          },
          "metadata": {}
        }
      ]
    },
    {
      "cell_type": "markdown",
      "source": [
        "8. Ringkasan Analisis K-Means Clustering\n",
        "\n",
        "Cluster 0 (1.089 konsumen) Konsumen yang sering datang dan baru-baru ini bertransaksi.\n",
        "\n",
        "- Frekuensi kunjungan tinggi\n",
        "\n",
        "- Total transaksi lebih banyak dibanding cluster 1\n",
        "\n",
        "- Perlu perhatian karena jumlahnya paling banyak\n",
        "\n",
        "Cluster 1 (22 konsumen) Konsumen yang sudah lama tidak bertransaksi, tapi frekuensi kunjungannya paling tinggi.\n",
        "\n",
        "- Recency tinggi (lama sejak transaksi terakhir)\n",
        "\n",
        "- Total transaksi paling kecil\n",
        "\n",
        "- Jumlah konsumen paling sedikit\n",
        "\n",
        "- Bisa jadi loyal tapi tidak belanja banyak\n",
        "\n",
        "Cluster 2 (514 konsumen) Konsumen yang baru-baru ini bertransaksi, tapi frekuensi kunjungannya rendah.\n",
        "\n",
        "- Total transaksi jauh lebih banyak dibanding cluster lainnya\n",
        "\n",
        "- Perlu dijaga relasi, misalnya dengan promosi khusus\n",
        "\n",
        "Insight Bisnis untuk Aksara\n",
        "- Fokus pada Cluster 2 untuk menjaga relasi dan meningkatkan frekuensi kunjungan\n",
        "\n",
        "- Perhatikan Cluster 0 karena jumlahnya besar, meskipun frekuensinya tidak setinggi Cluster 1\n",
        "\n",
        "- Evaluasi strategi untuk Cluster 1, karena meskipun sering datang, mereka tidak banyak bertransaksi"
      ],
      "metadata": {
        "id": "uFfTs9YOMT8N"
      }
    },
    {
      "cell_type": "code",
      "source": [],
      "metadata": {
        "id": "Mhzf0sEUMTVF"
      },
      "execution_count": null,
      "outputs": []
    }
  ]
}