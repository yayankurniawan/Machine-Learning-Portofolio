{
  "nbformat": 4,
  "nbformat_minor": 0,
  "metadata": {
    "colab": {
      "provenance": []
    },
    "kernelspec": {
      "name": "python3",
      "display_name": "Python 3"
    },
    "language_info": {
      "name": "python"
    }
  },
  "cells": [
    {
      "cell_type": "markdown",
      "source": [
        "# Data Quality with Python for Beginner\n",
        "\n",
        "## Data Profiling"
      ],
      "metadata": {
        "id": "FZcrVDK_joUD"
      }
    },
    {
      "cell_type": "markdown",
      "source": [
        "### Importing Data"
      ],
      "metadata": {
        "id": "EgdaF1cgjxzh"
      }
    },
    {
      "cell_type": "code",
      "execution_count": 1,
      "metadata": {
        "id": "13Eym4Rujk3h"
      },
      "outputs": [],
      "source": [
        "# Import library pandas dan beri alias 'pd' untuk manipulasi data tabular\n",
        "import pandas as pd\n",
        "\n",
        "# Import library numpy dan beri alias 'np' untuk operasi numerik\n",
        "import numpy as np\n",
        "\n",
        "# Membaca dataset dari URL dan menyimpannya dalam variabel 'retail_raw'\n",
        "retail_raw = pd.read_csv('https://storage.googleapis.com/dqlab-dataset/retail_raw_reduced_data_quality.csv')"
      ]
    },
    {
      "cell_type": "markdown",
      "source": [
        "### Inspeksi tipe data"
      ],
      "metadata": {
        "id": "mDWTFUyAlQtp"
      }
    },
    {
      "cell_type": "code",
      "source": [
        "# Cetak tipe data di setiap kolom retail_raw\n",
        "print(retail_raw.dtypes)"
      ],
      "metadata": {
        "colab": {
          "base_uri": "https://localhost:8080/"
        },
        "id": "2-asIF8UlxlZ",
        "outputId": "3f224997-48b0-411a-bcda-3eb42509f0cf"
      },
      "execution_count": 2,
      "outputs": [
        {
          "output_type": "stream",
          "name": "stdout",
          "text": [
            "order_id         int64\n",
            "order_date      object\n",
            "customer_id      int64\n",
            "city            object\n",
            "province        object\n",
            "product_id      object\n",
            "brand           object\n",
            "quantity       float64\n",
            "item_price     float64\n",
            "dtype: object\n"
          ]
        }
      ]
    },
    {
      "cell_type": "markdown",
      "source": [
        "### Descriptive Statistics - Part 1\n",
        "\n",
        "\n",
        "#### Length\n",
        "\n",
        "Fungsi len menghitung jumlah pengamatan dalam suatu series/column. Fungsi len akan menghitung semua pengamatan, terlepas dari apakah ada null-value atau tidak (include missing value)."
      ],
      "metadata": {
        "id": "qF0UShDdl50f"
      }
    },
    {
      "cell_type": "code",
      "source": [
        "# Menghitung jumlah data (termasuk missing value) pada kolom 'city'\n",
        "length_city = len(retail_raw['city'])\n",
        "print('Length kolom city:', length_city)\n",
        "\n",
        "# Tugas praktek: Menghitung jumlah data pada kolom 'product_id'\n",
        "length_product_id = len(retail_raw['product_id'])\n",
        "print('Length kolom product_id:', length_product_id)\n"
      ],
      "metadata": {
        "colab": {
          "base_uri": "https://localhost:8080/"
        },
        "id": "ZKr05UWOmFDo",
        "outputId": "a0343647-70c1-44d5-f520-df7019ed8955"
      },
      "execution_count": 3,
      "outputs": [
        {
          "output_type": "stream",
          "name": "stdout",
          "text": [
            "Length kolom city: 5000\n",
            "Length kolom product_id: 5000\n"
          ]
        }
      ]
    },
    {
      "cell_type": "markdown",
      "source": [
        "### Descriptive Statistics - Part 2\n",
        "#### Count\n",
        "\n",
        "Fungsi count menghitung jumlah pengamatan non-NA/non-null dalam suatu series/column. Di lain pihak, fungsi len akan hanya menghitung jumlah elemen dari kolom baik kolom bersangkutan memiliki atau tidak memiliki missing value (include missing value).\n",
        "\n"
      ],
      "metadata": {
        "id": "4qIe3cimnHrW"
      }
    },
    {
      "cell_type": "code",
      "source": [
        "# Menghitung jumlah data yang TIDAK kosong (non-null) pada kolom 'city'\n",
        "count_city = retail_raw['city'].count()\n",
        "print('Count kolom count_city:', count_city)\n",
        "\n",
        "# Tugas praktek: Menghitung jumlah data yang TIDAK kosong (non-null) pada kolom 'product_id'\n",
        "count_product_id = retail_raw['product_id'].count()\n",
        "print('Count kolom product_id:', count_product_id)\n"
      ],
      "metadata": {
        "colab": {
          "base_uri": "https://localhost:8080/"
        },
        "id": "yKlfSheynPO_",
        "outputId": "220e52bb-b1db-4fdf-aba7-c11e0f63b01d"
      },
      "execution_count": 4,
      "outputs": [
        {
          "output_type": "stream",
          "name": "stdout",
          "text": [
            "Count kolom count_city: 4984\n",
            "Count kolom product_id: 4989\n"
          ]
        }
      ]
    },
    {
      "cell_type": "markdown",
      "source": [
        "### Descriptive Statistics - Part 3\n",
        "#### Missing Value\n",
        "\n",
        "Dengan Length dan Count, sekarang dapat menghitung jumlah missing-value. Jumlah nilai yang hilang adalah perbedaan antara Length dan Count."
      ],
      "metadata": {
        "id": "YgAqyGdanjkO"
      }
    },
    {
      "cell_type": "code",
      "source": [
        "# Menghitung jumlah nilai yang hilang (missing value) pada kolom 'city'\n",
        "number_of_missing_values_city = length_city - count_city\n",
        "float_of_missing_values_city = float(number_of_missing_values_city/length_city)\n",
        "pct_of_missing_values_city = '{0:.1f}%'.format(float_of_missing_values_city * 100)\n",
        "print('Persentase missing value kolom city:', pct_of_missing_values_city)\n",
        "\n",
        "# Tugas praktek: Menghitung persentase missing value pada kolom 'product_id'\n",
        "number_of_missing_values_product_id = length_product_id - count_product_id\n",
        "ratio_of_missing_values_product_id = number_of_missing_values_product_id/length_product_id\n",
        "pct_of_missing_values_product_id = '{0:.1f}%'.format(ratio_of_missing_values_product_id * 100)\n",
        "print('Persentase missing value kolom product_id:', pct_of_missing_values_product_id)\n"
      ],
      "metadata": {
        "colab": {
          "base_uri": "https://localhost:8080/"
        },
        "id": "7Gm1R96yni_m",
        "outputId": "fc839d2b-593b-45e5-df4e-290be7f998e7"
      },
      "execution_count": 5,
      "outputs": [
        {
          "output_type": "stream",
          "name": "stdout",
          "text": [
            "Persentase missing value kolom city: 0.3%\n",
            "Persentase missing value kolom product_id: 0.2%\n"
          ]
        }
      ]
    },
    {
      "cell_type": "markdown",
      "source": [
        "### Descriptive Statistics - Part 4\n",
        "#### Maximum dan Minimum\n",
        "\n",
        "Fungsi max dan min digunakan untuk mengetahui elemen terbesar dan terkecil dari suatu kolom di dataframe.\n",
        "\n",
        "#### Mean, Median, Modus dan Standard Deviasi\n",
        "\n",
        "Fungsi mean, median, modus dan standard deviasi digunakan untuk mengetahui pemusatan data dan persebarannya."
      ],
      "metadata": {
        "id": "iy0jW-UcqZST"
      }
    },
    {
      "cell_type": "code",
      "source": [
        "#Deskriptif statistics kolom quantity\n",
        "print('Kolom quantity')\n",
        "print('Minimum value: ', retail_raw['quantity'].min())\n",
        "print('Maximum value: ', retail_raw['quantity'].max())\n",
        "print('Mean value: ', retail_raw['quantity'].mean())\n",
        "print('Mode value: ', retail_raw['quantity'].mode())\n",
        "print('Median value: ', retail_raw['quantity'].median())\n",
        "print('Standard Deviation value: ', retail_raw['quantity'].std())\n",
        "\n",
        "#Tugas praktek: Deskriptif statistics kolom item_price\n",
        "print('')\n",
        "print('Kolom item_price')\n",
        "print('Minimum value: ', retail_raw['item_price'].min())\n",
        "print('Maximum value: ', retail_raw['item_price'].max())\n",
        "print('Mean value: ', retail_raw['item_price'].mean())\n",
        "print('Median value: ', retail_raw['item_price'].median())\n",
        "print('Standard Deviation value: ', retail_raw['item_price'].std())"
      ],
      "metadata": {
        "colab": {
          "base_uri": "https://localhost:8080/"
        },
        "id": "C7Yvv7laznIo",
        "outputId": "b3a812dc-2d53-487f-ec3e-ff156446031e"
      },
      "execution_count": 6,
      "outputs": [
        {
          "output_type": "stream",
          "name": "stdout",
          "text": [
            "Kolom quantity\n",
            "Minimum value:  1.0\n",
            "Maximum value:  720.0\n",
            "Mean value:  11.423987164059366\n",
            "Mode value:  0    1.0\n",
            "Name: quantity, dtype: float64\n",
            "Median value:  5.0\n",
            "Standard Deviation value:  29.442025010811317\n",
            "\n",
            "Kolom item_price\n",
            "Minimum value:  26000.0\n",
            "Maximum value:  29762000.0\n",
            "Mean value:  933742.7311008623\n",
            "Median value:  604000.0\n",
            "Standard Deviation value:  1030829.8104242863\n"
          ]
        }
      ]
    },
    {
      "cell_type": "markdown",
      "source": [
        "### Descriptive Statistics - Part 5\n",
        "#### Quantile Statistics\n",
        "\n",
        "Quantiles adalah titik potong yang membagi distribusi dalam ukuran yang sama. Jika akan membagi distribusi menjadi empat grup yang sama, kuantil yang dibuat dinamai quartile. Jika dibagi kedalam 10 sepuluh grup yang sama dinamakan percentile. Dalam kasus di bawah ini, ingin membagi distribusi menjadi empat grup atau quartile."
      ],
      "metadata": {
        "id": "ezI54s1q0IUI"
      }
    },
    {
      "cell_type": "code",
      "source": [
        "# Quantile statistics kolom quantity\n",
        "print('Kolom quantity:')\n",
        "print(retail_raw['quantity'].quantile([0.25, 0.5, 0.75]))\n",
        "\n",
        "# Tugas praktek: Quantile statistics kolom item_price\n",
        "print('')\n",
        "print('Kolom item_price:')\n",
        "print(retail_raw['item_price'].quantile([0.25, 0.5, 0.75]))"
      ],
      "metadata": {
        "colab": {
          "base_uri": "https://localhost:8080/"
        },
        "id": "djNye_fR0L9g",
        "outputId": "2b5226e9-12b5-4a59-9cac-d3e3e849a5db"
      },
      "execution_count": 7,
      "outputs": [
        {
          "output_type": "stream",
          "name": "stdout",
          "text": [
            "Kolom quantity:\n",
            "0.25     2.0\n",
            "0.50     5.0\n",
            "0.75    12.0\n",
            "Name: quantity, dtype: float64\n",
            "\n",
            "Kolom item_price:\n",
            "0.25     450000.0\n",
            "0.50     604000.0\n",
            "0.75    1045000.0\n",
            "Name: item_price, dtype: float64\n"
          ]
        }
      ]
    },
    {
      "cell_type": "markdown",
      "source": [
        "### Descriptive Statistics - Part 6\n",
        "#### Correlation\n",
        "\n",
        "Korelasi adalah cara yang tepat untuk menemukan hubungan antara variabel numerik. Koefisien korelasi berkisar antara -1 hingga 1. Korelasi 1 adalah korelasi positif total, korelasi -1 adalah korelasi negatif total dan korelasi 0 adalah korelasi non-linear."
      ],
      "metadata": {
        "id": "oISAtQfW2ION"
      }
    },
    {
      "cell_type": "code",
      "source": [
        "# Melihat korelasi antara kolom quantity dan item_price\n",
        "print('Korelasi quantity dengan item_price')\n",
        "print(retail_raw[['quantity', 'item_price']].corr())"
      ],
      "metadata": {
        "id": "aiRzvpGj2MJV",
        "colab": {
          "base_uri": "https://localhost:8080/"
        },
        "outputId": "1e859758-9f37-4bb4-8cc7-a508d8801f60"
      },
      "execution_count": 8,
      "outputs": [
        {
          "output_type": "stream",
          "name": "stdout",
          "text": [
            "Korelasi quantity dengan item_price\n",
            "            quantity  item_price\n",
            "quantity    1.000000   -0.133936\n",
            "item_price -0.133936    1.000000\n"
          ]
        }
      ]
    },
    {
      "cell_type": "markdown",
      "source": [
        "## Data Cleansing\n",
        "\n",
        "Data Cleansing berarti proses mengidentifikasi bagian data yang salah, tidak lengkap, tidak akurat, tidak relevan atau hilang dan kemudian memodifikasi, mengganti atau menghapusnya sesuai dengan kebutuhan. Data Cleansing dianggap sebagai elemen dasar dari Data Science"
      ],
      "metadata": {
        "id": "zBAyWoDG2q4c"
      }
    },
    {
      "cell_type": "markdown",
      "source": [
        "### Missing Data\n",
        "Dataset yang ditemui di real-world biasanya akan memiliki banyak missing value. Kemampuan untuk treatment missing value sangat penting karena jika membiarkan missing value itu dapat memengaruhi analisis dan machine learning model. Sehingga jika menemukan nilai yang hilang dalam dataset, harus melakukan treatment sedemikian rupa. Cara check kolom yang mempunyai missing value:\n",
        "\n",
        "Cara treatment terhadap missing-value antara lain:\n",
        "\n",
        "- Leave as it is (dibiarkan)\n",
        "- Filling the missing value (imputasi)\n",
        "- Drop them (hapus row yang mengandung missing value)\n",
        "\n",
        "#### Imputasi\n",
        "Imputasi merupakan suatu metode treatment terhadap missing value dengan mengisinya menggunakan teknik tertentu. Bisa menggunakan mean, modus ataupun menggunakan predictive modelling. Pada modul ini akan membahas mengenai pemanfaatan function fillna dari Pandas untuk imputasi ini, yaitu\n",
        "\n",
        ".function() yang dimaksud pada syntax di atas adalah penggunan fungsi .mean() atau .mode(). Penggunaan fungsi .mean() atau .mode() ini bergantung pada kondisi yang mengharuskan menggunakan nilai rata - rata atau modus dari kolom yang akan diimputasi, seperti\n",
        "#### Drop\n",
        "Drop row yang mengandung missing value. Dapat menggunakan function dropna dari Pandas.\n",
        "\n",
        "Untuk menangani missing data pada retail_raw,\n",
        "\n",
        "- Ceklah jika terdapat missing value pada variabel dataframe, dan kemudian cetak ke console\n",
        "- Imputasi missing value pada kolom quantity dengan menggunaan nilai rataan (mean), dan kemudian cetak ke console\n",
        "- Drop-lah missing value pada kolom quantity, dan kemudian cetak ke console"
      ],
      "metadata": {
        "id": "IdUVfRzJ8K_n"
      }
    },
    {
      "cell_type": "code",
      "source": [
        "# Check kolom yang memiliki missing data\n",
        "print('Check kolom yang memiliki missing data:')\n",
        "print(retail_raw.isnull().any())\n",
        "\n",
        "# Filling the missing value (imputasi)\n",
        "print('\\nFilling the missing value (imputasi):')\n",
        "print(retail_raw['quantity'].fillna(retail_raw.quantity.mean()))\n",
        "\n",
        "# Drop missing value\n",
        "print('\\nDrop missing value:')\n",
        "print(retail_raw['quantity'].dropna())"
      ],
      "metadata": {
        "colab": {
          "base_uri": "https://localhost:8080/"
        },
        "id": "lqDIFANN9Gbt",
        "outputId": "2a2b53c5-d27e-4e63-9a1b-7c73394d4b79"
      },
      "execution_count": 9,
      "outputs": [
        {
          "output_type": "stream",
          "name": "stdout",
          "text": [
            "Check kolom yang memiliki missing data:\n",
            "order_id       False\n",
            "order_date     False\n",
            "customer_id    False\n",
            "city            True\n",
            "province        True\n",
            "product_id      True\n",
            "brand          False\n",
            "quantity        True\n",
            "item_price      True\n",
            "dtype: bool\n",
            "\n",
            "Filling the missing value (imputasi):\n",
            "0       10.0\n",
            "1        2.0\n",
            "2        8.0\n",
            "3        4.0\n",
            "4        2.0\n",
            "        ... \n",
            "4995     2.0\n",
            "4996     3.0\n",
            "4997     4.0\n",
            "4998     8.0\n",
            "4999     1.0\n",
            "Name: quantity, Length: 5000, dtype: float64\n",
            "\n",
            "Drop missing value:\n",
            "0       10.0\n",
            "1        2.0\n",
            "2        8.0\n",
            "3        4.0\n",
            "4        2.0\n",
            "        ... \n",
            "4995     2.0\n",
            "4996     3.0\n",
            "4997     4.0\n",
            "4998     8.0\n",
            "4999     1.0\n",
            "Name: quantity, Length: 4986, dtype: float64\n"
          ]
        }
      ]
    },
    {
      "cell_type": "code",
      "source": [
        "# Tugas Praktek\n",
        "print(retail_raw['item_price'].fillna(retail_raw['item_price'].mean()))"
      ],
      "metadata": {
        "colab": {
          "base_uri": "https://localhost:8080/"
        },
        "id": "l0CVvJNmA9dz",
        "outputId": "309c9aa3-2ac2-4720-892c-0cb2eb548aec"
      },
      "execution_count": 10,
      "outputs": [
        {
          "output_type": "stream",
          "name": "stdout",
          "text": [
            "0       7.400000e+05\n",
            "1       6.040000e+05\n",
            "2       1.045000e+06\n",
            "3       2.050000e+05\n",
            "4       9.337427e+05\n",
            "            ...     \n",
            "4995    4.500000e+05\n",
            "4996    1.465000e+06\n",
            "4997    7.470000e+05\n",
            "4998    6.950000e+05\n",
            "4999    1.045000e+06\n",
            "Name: item_price, Length: 5000, dtype: float64\n"
          ]
        }
      ]
    },
    {
      "cell_type": "markdown",
      "source": [
        "#### Outliers\n",
        "Outliers merupakan data observasi yang muncul dengan nilai-nilai ekstrim. Yang dimaksud dengan nilai-nilai ekstrim dalam observasi adalah nilai yang jauh atau beda sama sekali dengan sebagian besar nilai lain dalam kelompoknya."
      ],
      "metadata": {
        "id": "YvIebK0yBLFJ"
      }
    },
    {
      "cell_type": "code",
      "source": [
        "# Q1, Q3, dan IQR 'kolom quantity'\n",
        "Q1 = retail_raw['quantity'].quantile(0.25)\n",
        "Q3 = retail_raw['quantity'].quantile(0.75)\n",
        "IQR = Q3 - Q1\n",
        "\n",
        "# Check ukuran (baris dan kolom) sebelum data yang outliers dibuang 'kolom quantity'\n",
        "print('Shape awal: ', retail_raw.shape)\n",
        "\n",
        "# Removing outliers\n",
        "retail_raw = retail_raw[~((retail_raw['quantity'] < (Q1 - 1.5 * IQR)) | (retail_raw['quantity'] > (Q3 + 1.5 * IQR)))]\n",
        "\n",
        "# Check ukuran (baris dan kolom) setelah data yang outliers dibuang 'kolom quantity'\n",
        "print('Shape akhir: ', retail_raw.shape)"
      ],
      "metadata": {
        "colab": {
          "base_uri": "https://localhost:8080/"
        },
        "id": "jcpI7aOCBYyY",
        "outputId": "ea38a783-301f-4658-b33d-daddd5f16cbb"
      },
      "execution_count": 12,
      "outputs": [
        {
          "output_type": "stream",
          "name": "stdout",
          "text": [
            "Shape awal:  (4699, 9)\n",
            "Shape akhir:  (4621, 9)\n"
          ]
        }
      ]
    },
    {
      "cell_type": "code",
      "source": [
        "# Q1, Q3, dan IQR 'kolom item_price'\n",
        "Q1 = retail_raw['item_price'].quantile(0.25)\n",
        "Q3 = retail_raw['item_price'].quantile(0.75)\n",
        "IQR = Q3 - Q1\n",
        "\n",
        "# Check ukuran (baris dan kolom) sebelum data yang outliers dibuang 'kolom item_price'\n",
        "print('Shape awal: ', retail_raw.shape)\n",
        "\n",
        "# Removing outliers 'kolom item_price'\n",
        "retail_raw = retail_raw[~((retail_raw['item_price'] < (Q1 - 1.5 * IQR)) | (retail_raw['item_price'] > (Q3 + 1.5 * IQR)))]\n",
        "\n",
        "# Check ukuran (baris dan kolom) setelah data yang outliers dibuang 'kolom item_price'\n",
        "print('Shape akhir: ', retail_raw.shape)"
      ],
      "metadata": {
        "colab": {
          "base_uri": "https://localhost:8080/"
        },
        "id": "EW_5nsbiDCWv",
        "outputId": "3871f25b-32f7-4d4a-d804-74c47cd6e77c"
      },
      "execution_count": 13,
      "outputs": [
        {
          "output_type": "stream",
          "name": "stdout",
          "text": [
            "Shape awal:  (4621, 9)\n",
            "Shape akhir:  (4302, 9)\n"
          ]
        }
      ]
    },
    {
      "cell_type": "markdown",
      "source": [
        "### Deduplikasi Data\n",
        "Duplikasi data merupakan data dengan kondisi pada row-row tertentu memiliki kesamaan data di seluruh kolomnya. Tentunya ada data yang duplikat dalam dataset yang dimiliki. Kondisi duplikasi harus diatasi dengan jalan mengeliminir baris yang mengalami duplikasi, sehingga proses ini dikenal dengan deduplikasi."
      ],
      "metadata": {
        "id": "C4--EghuDPj-"
      }
    },
    {
      "cell_type": "code",
      "source": [
        "# Check ukuran (baris dan kolom) sebelum data duplikasi dibuang\n",
        "print('Shape awal: ', retail_raw.shape)\n",
        "\n",
        "# Buang data yang terduplikasi\n",
        "retail_raw.drop_duplicates(inplace=True)\n",
        "\n",
        "# Check ukuran (baris dan kolom) setelah data duplikasi dibuang\n",
        "print('Shape akhir: ', retail_raw.shape)"
      ],
      "metadata": {
        "colab": {
          "base_uri": "https://localhost:8080/"
        },
        "id": "wzHAJ8sSDSye",
        "outputId": "d4468df0-9f28-41dc-cd3b-a6f9cd7cfca8"
      },
      "execution_count": 14,
      "outputs": [
        {
          "output_type": "stream",
          "name": "stdout",
          "text": [
            "Shape awal:  (4302, 9)\n",
            "Shape akhir:  (4296, 9)\n"
          ]
        }
      ]
    }
  ]
}