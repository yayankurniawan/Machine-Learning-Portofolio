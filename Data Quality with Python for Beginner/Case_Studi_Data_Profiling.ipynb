{
  "nbformat": 4,
  "nbformat_minor": 0,
  "metadata": {
    "colab": {
      "provenance": []
    },
    "kernelspec": {
      "name": "python3",
      "display_name": "Python 3"
    },
    "language_info": {
      "name": "python"
    }
  },
  "cells": [
    {
      "cell_type": "markdown",
      "source": [
        "# Case Studi: Data Profiling\n",
        "***Dear Aksara,***\n",
        "\n",
        "Tolong proses dataset terlampir yang  disimpan dalam bentuk csv bernama 'https://storage.googleapis.com/dqlab-dataset/uncleaned_raw.csv'.\n",
        "\n",
        "***Kamu bisa memprosesnya dengan cara berikut:***\n",
        "\n",
        "1. Import dataset csv ke variable bernama uncleaned_raw\n",
        "2. Inspeksi dataframe uncleaned_raw\n",
        "3. Check kolom yang mengandung missing value. Jika ada, kolom apakah itu dan berapa persen missing value pada kolom tersebut?\n",
        "4. Mengisi missing value tersebut dengan mean dari kolom tersebut!\n",
        "\n",
        "Setelah membaca email tersebut, aku pun memulai kode programnya di code editor."
      ],
      "metadata": {
        "id": "TWtB3BCfEYVW"
      }
    },
    {
      "cell_type": "code",
      "execution_count": 2,
      "metadata": {
        "id": "ZyiGJ_yJEWu9"
      },
      "outputs": [],
      "source": [
        "# Import library\n",
        "import pandas as pd\n",
        "import numpy as np\n",
        "import io"
      ]
    },
    {
      "cell_type": "code",
      "source": [
        "# Baca dataset uncleaned_raw.csv\n",
        "uncleaned_raw = pd.read_csv('https://storage.googleapis.com/dqlab-dataset/uncleaned_raw.csv')"
      ],
      "metadata": {
        "id": "0wcQe_IqFBdm"
      },
      "execution_count": 3,
      "outputs": []
    },
    {
      "cell_type": "code",
      "source": [
        "#inspeksi dataframe uncleaned_raw\n",
        "print('Lima data teratas:')\n",
        "print(uncleaned_raw.head())"
      ],
      "metadata": {
        "colab": {
          "base_uri": "https://localhost:8080/"
        },
        "id": "5HM7VqJXFR7-",
        "outputId": "4a99599f-466f-492b-cbb2-5756ea58db9b"
      },
      "execution_count": 4,
      "outputs": [
        {
          "output_type": "stream",
          "name": "stdout",
          "text": [
            "Lima data teratas:\n",
            "   InvoiceNo                          Description  Quantity     InvoiceDate  \\\n",
            "0     536365   WHITE HANGING HEART T-LIGHT HOLDER       6.0  12/01/10 08.26   \n",
            "1     536366                  WHITE METAL LANTERN       6.0  12/01/10 08.26   \n",
            "2     536367       CREAM CUPID HEARTS COAT HANGER       8.0  12/01/10 08.26   \n",
            "3     536368  KNITTED UNION FLAG HOT WATER BOTTLE       6.0  12/01/10 08.26   \n",
            "4     536369       RED WOOLLY HOTTIE WHITE HEART.       6.0  12/01/10 08.26   \n",
            "\n",
            "   UnitPrice  CustomerID      City  \n",
            "0      29000       17850  Surabaya  \n",
            "1      41000       17850  Surabaya  \n",
            "2      18000       17850  Surabaya  \n",
            "3      38000       17850   Jakarta  \n",
            "4      27000       17850     Medan  \n"
          ]
        }
      ]
    },
    {
      "cell_type": "code",
      "source": [
        "#Check kolom yang mengandung missing value\n",
        "print('\\nKolom dengan missing value:')\n",
        "print(uncleaned_raw.isnull().any())"
      ],
      "metadata": {
        "colab": {
          "base_uri": "https://localhost:8080/"
        },
        "id": "oCsT3JWjFUuc",
        "outputId": "b6e8894a-c80a-426c-db80-82c7b38a86ae"
      },
      "execution_count": 5,
      "outputs": [
        {
          "output_type": "stream",
          "name": "stdout",
          "text": [
            "\n",
            "Kolom dengan missing value:\n",
            "InvoiceNo      False\n",
            "Description    False\n",
            "Quantity        True\n",
            "InvoiceDate    False\n",
            "UnitPrice      False\n",
            "CustomerID     False\n",
            "City           False\n",
            "dtype: bool\n"
          ]
        }
      ]
    },
    {
      "cell_type": "code",
      "source": [
        "#Persentase missing value pada kolom length_qty\n",
        "length_qty = len(uncleaned_raw['Quantity'])\n",
        "print('Length kolom length_qty:', length_qty)\n",
        "\n",
        "#Persentase missing value pada kolom count_qty\n",
        "count_qty = uncleaned_raw['Quantity'].count()\n",
        "print('Length kolom count_qty:', count_qty)"
      ],
      "metadata": {
        "colab": {
          "base_uri": "https://localhost:8080/"
        },
        "id": "1TkpoMFhFZa0",
        "outputId": "75b26ea9-41d6-4433-f1ac-805595f544b8"
      },
      "execution_count": 6,
      "outputs": [
        {
          "output_type": "stream",
          "name": "stdout",
          "text": [
            "Length kolom length_qty: 505\n",
            "Length kolom count_qty: 485\n"
          ]
        }
      ]
    },
    {
      "cell_type": "code",
      "source": [
        "#mengurangi length dengan count\n",
        "number_of_missing_values_qty = length_qty - count_qty\n",
        "print('number_of_missing_values_qty:', number_of_missing_values_qty)"
      ],
      "metadata": {
        "colab": {
          "base_uri": "https://localhost:8080/"
        },
        "id": "acI2D0_MGRNU",
        "outputId": "5602e663-86f6-4770-b9af-14b16923b29d"
      },
      "execution_count": 7,
      "outputs": [
        {
          "output_type": "stream",
          "name": "stdout",
          "text": [
            "number_of_missing_values_qty: 20\n"
          ]
        }
      ]
    },
    {
      "cell_type": "code",
      "source": [
        "#mengubah ke bentuk float\n",
        "float_of_missing_values_qty = float(number_of_missing_values_qty / length_qty)\n",
        "print('float_of_missing_values_qty:', float_of_missing_values_qty)"
      ],
      "metadata": {
        "colab": {
          "base_uri": "https://localhost:8080/"
        },
        "id": "2cpVjlhXGpeM",
        "outputId": "9c23070e-1e62-4e05-ed76-5302a0bca552"
      },
      "execution_count": 8,
      "outputs": [
        {
          "output_type": "stream",
          "name": "stdout",
          "text": [
            "float_of_missing_values_qty: 0.039603960396039604\n"
          ]
        }
      ]
    },
    {
      "cell_type": "code",
      "source": [
        "#mengubah ke dalam bentuk persen\n",
        "pct_of_missing_values_qty = '{0:.1f}%'.format(float_of_missing_values_qty*100)"
      ],
      "metadata": {
        "id": "FeVxyATMG277"
      },
      "execution_count": 9,
      "outputs": []
    },
    {
      "cell_type": "code",
      "source": [
        "#print hasil percent dari missing value\n",
        "print('Persentase missing value kolom Quantity:', pct_of_missing_values_qty)"
      ],
      "metadata": {
        "colab": {
          "base_uri": "https://localhost:8080/"
        },
        "id": "0-cGy5fYG7RK",
        "outputId": "6a98c3b0-072d-4bed-b277-c07cd2953cad"
      },
      "execution_count": 10,
      "outputs": [
        {
          "output_type": "stream",
          "name": "stdout",
          "text": [
            "Persentase missing value kolom Quantity: 4.0%\n"
          ]
        }
      ]
    },
    {
      "cell_type": "code",
      "source": [
        "#Mengisi missing value tersebut dengan mean dari kolom tersebut\n",
        "uncleaned_raw['Quantity'] = uncleaned_raw['Quantity'].fillna(uncleaned_raw['Quantity'].mean())\n",
        "print('uncleaned_raw:', uncleaned_raw.head())"
      ],
      "metadata": {
        "colab": {
          "base_uri": "https://localhost:8080/"
        },
        "id": "dc1j-Qg6G_bq",
        "outputId": "ca961c99-04fc-449a-e298-4c3562e34ee3"
      },
      "execution_count": 11,
      "outputs": [
        {
          "output_type": "stream",
          "name": "stdout",
          "text": [
            "uncleaned_raw:    InvoiceNo                          Description  Quantity     InvoiceDate  \\\n",
            "0     536365   WHITE HANGING HEART T-LIGHT HOLDER       6.0  12/01/10 08.26   \n",
            "1     536366                  WHITE METAL LANTERN       6.0  12/01/10 08.26   \n",
            "2     536367       CREAM CUPID HEARTS COAT HANGER       8.0  12/01/10 08.26   \n",
            "3     536368  KNITTED UNION FLAG HOT WATER BOTTLE       6.0  12/01/10 08.26   \n",
            "4     536369       RED WOOLLY HOTTIE WHITE HEART.       6.0  12/01/10 08.26   \n",
            "\n",
            "   UnitPrice  CustomerID      City  \n",
            "0      29000       17850  Surabaya  \n",
            "1      41000       17850  Surabaya  \n",
            "2      18000       17850  Surabaya  \n",
            "3      38000       17850   Jakarta  \n",
            "4      27000       17850     Medan  \n"
          ]
        }
      ]
    },
    {
      "cell_type": "markdown",
      "source": [
        "## Data Cleansing"
      ],
      "metadata": {
        "id": "OmNTrz9FHvIi"
      }
    },
    {
      "cell_type": "code",
      "source": [
        "# Import Library\n",
        "import matplotlib.pyplot as plt\n",
        "\n",
        "#Mengetahui kolom yang memiliki outliers!\n",
        "uncleaned_raw.boxplot()\n",
        "plt.show()"
      ],
      "metadata": {
        "colab": {
          "base_uri": "https://localhost:8080/",
          "height": 445
        },
        "id": "WjuLMgeJHwVi",
        "outputId": "65c9c2ed-edde-4a53-bf70-c8cfd4f4b230"
      },
      "execution_count": 12,
      "outputs": [
        {
          "output_type": "display_data",
          "data": {
            "text/plain": [
              "<Figure size 640x480 with 1 Axes>"
            ],
            "image/png": "[encoded data removed]"
          },
          "metadata": {}
        }
      ]
    },
    {
      "cell_type": "code",
      "source": [
        "#Check IQR\n",
        "Q1 = uncleaned_raw['UnitPrice'].quantile(0.25)\n",
        "Q3 = uncleaned_raw['UnitPrice'].quantile(0.75)\n",
        "IQR = Q3 - Q1\n",
        "\n",
        "#removing outliers\n",
        "uncleaned_raw = uncleaned_raw[~((uncleaned_raw[['UnitPrice']] < (Q1 - 1.5 * IQR)) | (uncleaned_raw[['UnitPrice']] > (Q3 + 1.5 * IQR)))]\n",
        "\n",
        "#check for duplication\n",
        "print(uncleaned_raw.duplicated(subset=None))\n",
        "\n",
        "#remove duplication\n",
        "uncleaned_raw = uncleaned_raw.drop_duplicates()\n"
      ],
      "metadata": {
        "colab": {
          "base_uri": "https://localhost:8080/"
        },
        "id": "mrtZvzJsH8YS",
        "outputId": "032066c8-e150-4f68-84c7-4548bcee055c"
      },
      "execution_count": 13,
      "outputs": [
        {
          "output_type": "stream",
          "name": "stdout",
          "text": [
            "0      False\n",
            "1      False\n",
            "2      False\n",
            "3      False\n",
            "4      False\n",
            "       ...  \n",
            "500     True\n",
            "501     True\n",
            "502     True\n",
            "503     True\n",
            "504     True\n",
            "Length: 505, dtype: bool\n"
          ]
        }
      ]
    }
  ]
}