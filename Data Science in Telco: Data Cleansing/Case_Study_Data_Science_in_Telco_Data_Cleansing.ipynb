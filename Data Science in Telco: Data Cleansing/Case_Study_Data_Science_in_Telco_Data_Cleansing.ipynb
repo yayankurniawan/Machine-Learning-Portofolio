{
  "nbformat": 4,
  "nbformat_minor": 0,
  "metadata": {
    "colab": {
      "provenance": []
    },
    "kernelspec": {
      "name": "python3",
      "display_name": "Python 3"
    },
    "language_info": {
      "name": "python"
    }
  },
  "cells": [
    {
      "cell_type": "markdown",
      "source": [
        "# Data Science in Telco: Data Cleansing\n",
        "## Latar Belakang\n",
        "DQLab Telco merupakan perusahaan Telco yang sudah mempunyai banyak cabang tersebar dimana-mana. Sejak berdiri pada tahun 2019, DQLab Telco konsisten untuk memperhatikan customer experience-nya sehingga tidak akan ditinggalkan pelanggan.\n",
        "\n",
        "Walaupun baru berumur 1 tahun lebih sedikit, DQLab Telco sudah mempunyai banyak pelanggan yang beralih langganan ke kompetitor. Pihak management ingin mengurangi jumlah pelanggan yang beralih (churn) dengan menggunakan machine learning.\n",
        "\n",
        "Oleh karena itu, tim Data Scientist diminta untuk mempersiapkan data sekaligus membuat model prediksi yang tepat untuk menentukan pelanggan akan berhenti berlangganan (churn) atau tidak.\n",
        "\n",
        "Tugas dan Langkah\n",
        "Sebagai seorang data scientist, kamu diminta untuk menyiapkan data sebelum dilakukan permodelan.\n",
        "\n",
        "Pada tugas kali ini, kamu akan melakukan Data Preprocessing (Data Cleansing) bulan lalu, yakni Juni 2020.\n",
        "\n",
        "## Langkah yang akan dilakukan adalah,\n",
        "\n",
        "1. Mencari ID pelanggan (Nomor telepon) yang valid\n",
        "2. Mengatasi data-data yang masih kosong (Missing Values)\n",
        "3. Mengatasi Nilai-Nilai Pencilan (Outlier) dari setiap Variable\n",
        "4. Menstandardisasi Nilai dari Variable\n",
        "\n",
        "## Library yang Digunakan\n",
        "Pada analisis kali ini, akan digunakan beberapa package yang membantu kita dalam melakukan analisis data.\n",
        "\n",
        "1. Pandas\n",
        "\n",
        "Pandas (Python for Data Analysis) adalah library Python yang fokus untuk proses analisis data seperti manipulasi data, persiapan data, dan pembersihan data.\n",
        "\n",
        "- read_csv() digunakan untuk membaca file csv\n",
        "- str.match() digunakan untuk mencocokan dengan karakter tertentu\n",
        "- drop() digunakan untuk menghapus\n",
        "- count() digunakan untuk menghitung masing-masing variable\n",
        "- drop_duplicates() digunakan untuk menghapus data duplicate rows\n",
        "- fillna() digunakan untuk mengisi dengan nilai tertentu\n",
        "- quantile() digunakan untuk melihat quantile ke tertentu\n",
        "- mask() mengganti nilai tertentu jika kondisi memenuhi\n",
        "- astype() mengubah tipe data\n",
        "- value_counts() digunakan untuk menghitung unik dari kolom\n",
        "- sort_values() digunakan untuk sort values\n",
        "- isnull() digunakan untuk mendeteksi missing values\n",
        "- dropna() digunakan untuk menghapus missing values\n",
        "- replace() digunakan untuk mengganti nilai\n",
        "2. Matplotlib\n",
        "\n",
        "Matplotlib adalah library Python yang fokus pada visualisasi data seperti membuat plot grafik. Matplotlib dapat digunakan dalam skrip Python, Python dan IPython shell, server aplikasi web, dan beberapa toolkit graphical user interface (GUI) lainnya.\n",
        "\n",
        "- figure() digunakan untuk membuat figure gambar baru\n",
        "3. Seaborn\n",
        "\n",
        "Seaborn membangun di atas Matplotlib dan memperkenalkan tipe plot tambahan. Ini juga membuat plot Matplotlib tradisional Anda terlihat sedikit lebih cantik.\n",
        "\n",
        "- box_plot() digunakan untuk membuat box plot\n",
        "\n",
        "## Data yang Digunakan\n",
        "Untuk dataset yang digunakan sudah disediakan dalam format csv, silahkan baca melalui fungsi pandas di python df_load = pd.read_csv('https://storage.googleapis.com/dqlab-dataset/dqlab_telco.csv')\n",
        "\n",
        "\n",
        "Untuk detail datanya adalah sebagai berikut:\n",
        "\n",
        "- UpdatedAt Periode of Data taken\n",
        "- customerID Customer ID\n",
        "- gender Whether the customer is a male or a female (Male, Female)\n",
        "- SeniorCitizen Whether the customer is a senior citizen or not (1, 0)\n",
        "- Partner Whether the customer has a partner or not (Yes, No)\n",
        "- Dependents Whether the customer has dependents or not (Yes, No)\n",
        "- tenure Number of months the customer has stayed with the company\n",
        "- PhoneService Whether the customer has a phone service or not (Yes, No)\n",
        "- MultipleLines Whether the customer has multiple lines or not (Yes, No, No phone service)\n",
        "- InternetService Customer’s internet service provider (DSL, Fiber optic, No)\n",
        "- OnlineSecurity Whether the customer has online security or not (Yes, No, No internet service)\n",
        "- OnlineBackup Whether the customer has online backup or not (Yes, No, No internet service)\n",
        "- DeviceProtection Whether the customer has device protection or not (Yes, No, No internet service)\n",
        "- TechSupport Whether the customer has tech support or not (Yes, No, No internet service)\n",
        "- StreamingTV Whether the customer has streaming TV or not (Yes, No, No internet service)\n",
        "- StreamingMovies Whether the customer has streaming movies or not (Yes, No, No internet service)\n",
        "Contract The contract term of the customer (Month-to-month, One year, Two year)\n",
        "- PaperlessBilling Whether the customer has paperless billing or not (Yes, No)\n",
        "- PaymentMethod The customer’s payment method (Electronic check, Mailed check, Bank transfer (automatic), Credit card (automatic))\n",
        "- MonthlyCharges The amount charged to the customer monthly\n",
        "- TotalCharges The total amount charged to the customer\n",
        "- Churn Whether the customer churned or not (Yes or No)\n"
      ],
      "metadata": {
        "id": "N-idIJIyQxf5"
      }
    },
    {
      "cell_type": "markdown",
      "source": [
        "### Import Library dan Dataset"
      ],
      "metadata": {
        "id": "wnCBMg0wKANL"
      }
    },
    {
      "cell_type": "code",
      "execution_count": null,
      "metadata": {
        "id": "mM32j7KsQvf3"
      },
      "outputs": [],
      "source": [
        "#import library\n",
        "import pandas as pd\n",
        "pd.options.display.max_columns = 50"
      ]
    },
    {
      "cell_type": "code",
      "source": [
        "#import dataset\n",
        "df_load = pd.read_csv('https://storage.googleapis.com/dqlab-dataset/dqlab_telco.csv')"
      ],
      "metadata": {
        "id": "er4snel0KInj"
      },
      "execution_count": null,
      "outputs": []
    },
    {
      "cell_type": "code",
      "source": [
        "#Tampilkan jumlah baris dan kolom\n",
        "print(df_load.shape)\n"
      ],
      "metadata": {
        "colab": {
          "base_uri": "https://localhost:8080/"
        },
        "id": "Rhx2m1ZPKLma",
        "outputId": "6fb2e96b-5927-4307-a20e-3db64fdddb58"
      },
      "execution_count": null,
      "outputs": [
        {
          "output_type": "stream",
          "name": "stdout",
          "text": [
            "(7113, 22)\n"
          ]
        }
      ]
    },
    {
      "cell_type": "code",
      "source": [
        "#Tampilkan 5 data teratas\n",
        "print(df_load.head(5))"
      ],
      "metadata": {
        "colab": {
          "base_uri": "https://localhost:8080/"
        },
        "id": "SD33g8atKOpC",
        "outputId": "72acc887-98e7-4540-e843-6170cd69797c"
      },
      "execution_count": null,
      "outputs": [
        {
          "output_type": "stream",
          "name": "stdout",
          "text": [
            "   UpdatedAt   customerID  gender  SeniorCitizen Partner Dependents  tenure  \\\n",
            "0     202006  45759018157  Female              0     Yes         No     1.0   \n",
            "1     202006  45557574145    Male              0      No         No    34.0   \n",
            "2     202006  45366876421    Male              0      No         No     2.0   \n",
            "3     202006  45779536532    Male              0      No         No    45.0   \n",
            "4     202006  45923787906  Female              0      No         No     2.0   \n",
            "\n",
            "  PhoneService     MultipleLines InternetService OnlineSecurity OnlineBackup  \\\n",
            "0           No  No phone service             DSL             No          Yes   \n",
            "1          Yes                No             DSL            Yes           No   \n",
            "2          Yes                No             DSL            Yes          Yes   \n",
            "3           No  No phone service             DSL            Yes           No   \n",
            "4          Yes                No     Fiber optic             No           No   \n",
            "\n",
            "  DeviceProtection TechSupport StreamingTV StreamingMovies        Contract  \\\n",
            "0               No          No          No              No  Month-to-month   \n",
            "1              Yes          No          No              No        One year   \n",
            "2               No          No          No              No  Month-to-month   \n",
            "3              Yes         Yes          No              No        One year   \n",
            "4               No          No          No              No  Month-to-month   \n",
            "\n",
            "  PaperlessBilling              PaymentMethod  MonthlyCharges  TotalCharges  \\\n",
            "0              Yes           Electronic check           29.85         29.85   \n",
            "1               No               Mailed check           56.95       1889.50   \n",
            "2              Yes               Mailed check           53.85        108.15   \n",
            "3               No  Bank transfer (automatic)           42.30       1840.75   \n",
            "4              Yes           Electronic check           70.70        151.65   \n",
            "\n",
            "  Churn  \n",
            "0    No  \n",
            "1    No  \n",
            "2   Yes  \n",
            "3    No  \n",
            "4   Yes  \n"
          ]
        }
      ]
    },
    {
      "cell_type": "code",
      "source": [
        "#Jumlah ID yang unik\n",
        "print(df_load.customerID.nunique())"
      ],
      "metadata": {
        "colab": {
          "base_uri": "https://localhost:8080/"
        },
        "id": "maY1izBmKRtb",
        "outputId": "80d9d38b-7628-4aaa-ce6b-3d72a5f4daec"
      },
      "execution_count": null,
      "outputs": [
        {
          "output_type": "stream",
          "name": "stdout",
          "text": [
            "7017\n"
          ]
        }
      ]
    },
    {
      "cell_type": "markdown",
      "source": [
        "### Memfilter ID Number Pelanggan Format Tertentu"
      ],
      "metadata": {
        "id": "pXfgerU1LDnR"
      }
    },
    {
      "cell_type": "code",
      "source": [
        "# Mengubah kolom 'customerID' menjadi string, lalu mencocokkan dengan pola regex:\n",
        "# Pola '(45\\d{9,10})' berarti:\n",
        "# - Harus diawali dengan angka 45\n",
        "# - Diikuti oleh 9 atau 10 digit angka (total panjang 11–12 digit)\n",
        "df_load['valid_id'] = df_load['customerID'].astype(str).str.match(r'(45\\d{9,10})')\n",
        "\n",
        "# Menyaring hanya baris dengan 'valid_id' bernilai True (ID yang sesuai format)\n",
        "# Lalu menghapus kolom bantu 'valid_id' agar tidak ikut dalam hasil akhir\n",
        "df_load = (df_load[df_load['valid_id'] == True]).drop('valid_id', axis=1)\n",
        "\n",
        "# Menampilkan jumlah ID Customer yang lolos filter\n",
        "print('Hasil jumlah ID Customer yang terfilter adalah', df_load['customerID'].count())\n"
      ],
      "metadata": {
        "colab": {
          "base_uri": "https://localhost:8080/"
        },
        "id": "ZChFbPtcLEAp",
        "outputId": "d5bc9aeb-d465-4189-cf9d-e974e72b55ee"
      },
      "execution_count": null,
      "outputs": [
        {
          "output_type": "stream",
          "name": "stdout",
          "text": [
            "Hasil jumlah ID Customer yang terfilter adalah 7006\n"
          ]
        }
      ]
    },
    {
      "cell_type": "markdown",
      "source": [
        "### Memfilter Duplikasi ID Number Pelanggan"
      ],
      "metadata": {
        "id": "Vy319ndpOwLO"
      }
    },
    {
      "cell_type": "code",
      "source": [
        "# Drop Duplicate Rows\n",
        "df_load.drop_duplicates()"
      ],
      "metadata": {
        "colab": {
          "base_uri": "https://localhost:8080/",
          "height": 583
        },
        "id": "-G0Y2LsZOxqN",
        "outputId": "ad5978af-f679-45b5-841a-dd770c1a721c"
      },
      "execution_count": null,
      "outputs": [
        {
          "output_type": "execute_result",
          "data": {
            "text/plain": [
              "      UpdatedAt   customerID  gender  SeniorCitizen Partner Dependents  \\\n",
              "0        202006  45759018157  Female              0     Yes         No   \n",
              "1        202006  45557574145    Male              0      No         No   \n",
              "2        202006  45366876421    Male              0      No         No   \n",
              "3        202006  45779536532    Male              0      No         No   \n",
              "4        202006  45923787906  Female              0      No         No   \n",
              "...         ...          ...     ...            ...     ...        ...   \n",
              "7108     202006  45117219093    Male              0     Yes        Yes   \n",
              "7109     202006  45564915800  Female              0      No         No   \n",
              "7110     202006  45655964195    Male              0      No         No   \n",
              "7111     202006  45899251814    Male              0      No         No   \n",
              "7112     202006  45427332508  Female              0      No        Yes   \n",
              "\n",
              "      tenure PhoneService     MultipleLines InternetService OnlineSecurity  \\\n",
              "0        1.0           No  No phone service             DSL             No   \n",
              "1       34.0          Yes                No             DSL            Yes   \n",
              "2        2.0          Yes                No             DSL            Yes   \n",
              "3       45.0           No  No phone service             DSL            Yes   \n",
              "4        2.0          Yes                No     Fiber optic             No   \n",
              "...      ...          ...               ...             ...            ...   \n",
              "7108    53.0          Yes               Yes             DSL            Yes   \n",
              "7109    12.0          Yes                No     Fiber optic             No   \n",
              "7110    26.0          Yes                No     Fiber optic             No   \n",
              "7111    21.0          Yes                No             DSL             No   \n",
              "7112     1.0          Yes                No     Fiber optic             No   \n",
              "\n",
              "     OnlineBackup DeviceProtection TechSupport StreamingTV StreamingMovies  \\\n",
              "0             Yes               No          No          No              No   \n",
              "1              No              Yes          No          No              No   \n",
              "2             Yes               No          No          No              No   \n",
              "3              No              Yes         Yes          No              No   \n",
              "4              No               No          No          No              No   \n",
              "...           ...              ...         ...         ...             ...   \n",
              "7108          Yes               No          No          No             Yes   \n",
              "7109           No              Yes          No         Yes             Yes   \n",
              "7110           No              Yes         Yes         Yes             Yes   \n",
              "7111           No              Yes          No          No             Yes   \n",
              "7112           No               No          No         Yes             Yes   \n",
              "\n",
              "            Contract PaperlessBilling              PaymentMethod  \\\n",
              "0     Month-to-month              Yes           Electronic check   \n",
              "1           One year               No               Mailed check   \n",
              "2     Month-to-month              Yes               Mailed check   \n",
              "3           One year               No  Bank transfer (automatic)   \n",
              "4     Month-to-month              Yes           Electronic check   \n",
              "...              ...              ...                        ...   \n",
              "7108        Two year               No  Bank transfer (automatic)   \n",
              "7109        One year               No               Mailed check   \n",
              "7110  Month-to-month              Yes           Electronic check   \n",
              "7111  Month-to-month               No               Mailed check   \n",
              "7112  Month-to-month              Yes           Electronic check   \n",
              "\n",
              "      MonthlyCharges  TotalCharges Churn  \n",
              "0              29.85         29.85    No  \n",
              "1              56.95       1889.50    No  \n",
              "2              53.85        108.15   Yes  \n",
              "3              42.30       1840.75    No  \n",
              "4              70.70        151.65   Yes  \n",
              "...              ...           ...   ...  \n",
              "7108           69.70       3686.05   NaN  \n",
              "7109           95.50       1115.15   NaN  \n",
              "7110           98.65       2537.00   NaN  \n",
              "7111           61.65       1393.60   NaN  \n",
              "7112           89.35         89.35   NaN  \n",
              "\n",
              "[6999 rows x 22 columns]"
            ],
            "text/html": [
              "\n",
              "  <div id=\"df-72a768d2-9001-45fd-a912-7f2d1b31f516\" class=\"colab-df-container\">\n",
              "    <div>\n",
              "<style scoped>\n",
              "    .dataframe tbody tr th:only-of-type {\n",
              "        vertical-align: middle;\n",
              "    }\n",
              "\n",
              "    .dataframe tbody tr th {\n",
              "        vertical-align: top;\n",
              "    }\n",
              "\n",
              "    .dataframe thead th {\n",
              "        text-align: right;\n",
              "    }\n",
              "</style>\n",
              "<table border=\"1\" class=\"dataframe\">\n",
              "  <thead>\n",
              "    <tr style=\"text-align: right;\">\n",
              "      <th></th>\n",
              "      <th>UpdatedAt</th>\n",
              "      <th>customerID</th>\n",
              "      <th>gender</th>\n",
              "      <th>SeniorCitizen</th>\n",
              "      <th>Partner</th>\n",
              "      <th>Dependents</th>\n",
              "      <th>tenure</th>\n",
              "      <th>PhoneService</th>\n",
              "      <th>MultipleLines</th>\n",
              "      <th>InternetService</th>\n",
              "      <th>OnlineSecurity</th>\n",
              "      <th>OnlineBackup</th>\n",
              "      <th>DeviceProtection</th>\n",
              "      <th>TechSupport</th>\n",
              "      <th>StreamingTV</th>\n",
              "      <th>StreamingMovies</th>\n",
              "      <th>Contract</th>\n",
              "      <th>PaperlessBilling</th>\n",
              "      <th>PaymentMethod</th>\n",
              "      <th>MonthlyCharges</th>\n",
              "      <th>TotalCharges</th>\n",
              "      <th>Churn</th>\n",
              "    </tr>\n",
              "  </thead>\n",
              "  <tbody>\n",
              "    <tr>\n",
              "      <th>0</th>\n",
              "      <td>202006</td>\n",
              "      <td>45759018157</td>\n",
              "      <td>Female</td>\n",
              "      <td>0</td>\n",
              "      <td>Yes</td>\n",
              "      <td>No</td>\n",
              "      <td>1.0</td>\n",
              "      <td>No</td>\n",
              "      <td>No phone service</td>\n",
              "      <td>DSL</td>\n",
              "      <td>No</td>\n",
              "      <td>Yes</td>\n",
              "      <td>No</td>\n",
              "      <td>No</td>\n",
              "      <td>No</td>\n",
              "      <td>No</td>\n",
              "      <td>Month-to-month</td>\n",
              "      <td>Yes</td>\n",
              "      <td>Electronic check</td>\n",
              "      <td>29.85</td>\n",
              "      <td>29.85</td>\n",
              "      <td>No</td>\n",
              "    </tr>\n",
              "    <tr>\n",
              "      <th>1</th>\n",
              "      <td>202006</td>\n",
              "      <td>45557574145</td>\n",
              "      <td>Male</td>\n",
              "      <td>0</td>\n",
              "      <td>No</td>\n",
              "      <td>No</td>\n",
              "      <td>34.0</td>\n",
              "      <td>Yes</td>\n",
              "      <td>No</td>\n",
              "      <td>DSL</td>\n",
              "      <td>Yes</td>\n",
              "      <td>No</td>\n",
              "      <td>Yes</td>\n",
              "      <td>No</td>\n",
              "      <td>No</td>\n",
              "      <td>No</td>\n",
              "      <td>One year</td>\n",
              "      <td>No</td>\n",
              "      <td>Mailed check</td>\n",
              "      <td>56.95</td>\n",
              "      <td>1889.50</td>\n",
              "      <td>No</td>\n",
              "    </tr>\n",
              "    <tr>\n",
              "      <th>2</th>\n",
              "      <td>202006</td>\n",
              "      <td>45366876421</td>\n",
              "      <td>Male</td>\n",
              "      <td>0</td>\n",
              "      <td>No</td>\n",
              "      <td>No</td>\n",
              "      <td>2.0</td>\n",
              "      <td>Yes</td>\n",
              "      <td>No</td>\n",
              "      <td>DSL</td>\n",
              "      <td>Yes</td>\n",
              "      <td>Yes</td>\n",
              "      <td>No</td>\n",
              "      <td>No</td>\n",
              "      <td>No</td>\n",
              "      <td>No</td>\n",
              "      <td>Month-to-month</td>\n",
              "      <td>Yes</td>\n",
              "      <td>Mailed check</td>\n",
              "      <td>53.85</td>\n",
              "      <td>108.15</td>\n",
              "      <td>Yes</td>\n",
              "    </tr>\n",
              "    <tr>\n",
              "      <th>3</th>\n",
              "      <td>202006</td>\n",
              "      <td>45779536532</td>\n",
              "      <td>Male</td>\n",
              "      <td>0</td>\n",
              "      <td>No</td>\n",
              "      <td>No</td>\n",
              "      <td>45.0</td>\n",
              "      <td>No</td>\n",
              "      <td>No phone service</td>\n",
              "      <td>DSL</td>\n",
              "      <td>Yes</td>\n",
              "      <td>No</td>\n",
              "      <td>Yes</td>\n",
              "      <td>Yes</td>\n",
              "      <td>No</td>\n",
              "      <td>No</td>\n",
              "      <td>One year</td>\n",
              "      <td>No</td>\n",
              "      <td>Bank transfer (automatic)</td>\n",
              "      <td>42.30</td>\n",
              "      <td>1840.75</td>\n",
              "      <td>No</td>\n",
              "    </tr>\n",
              "    <tr>\n",
              "      <th>4</th>\n",
              "      <td>202006</td>\n",
              "      <td>45923787906</td>\n",
              "      <td>Female</td>\n",
              "      <td>0</td>\n",
              "      <td>No</td>\n",
              "      <td>No</td>\n",
              "      <td>2.0</td>\n",
              "      <td>Yes</td>\n",
              "      <td>No</td>\n",
              "      <td>Fiber optic</td>\n",
              "      <td>No</td>\n",
              "      <td>No</td>\n",
              "      <td>No</td>\n",
              "      <td>No</td>\n",
              "      <td>No</td>\n",
              "      <td>No</td>\n",
              "      <td>Month-to-month</td>\n",
              "      <td>Yes</td>\n",
              "      <td>Electronic check</td>\n",
              "      <td>70.70</td>\n",
              "      <td>151.65</td>\n",
              "      <td>Yes</td>\n",
              "    </tr>\n",
              "    <tr>\n",
              "      <th>...</th>\n",
              "      <td>...</td>\n",
              "      <td>...</td>\n",
              "      <td>...</td>\n",
              "      <td>...</td>\n",
              "      <td>...</td>\n",
              "      <td>...</td>\n",
              "      <td>...</td>\n",
              "      <td>...</td>\n",
              "      <td>...</td>\n",
              "      <td>...</td>\n",
              "      <td>...</td>\n",
              "      <td>...</td>\n",
              "      <td>...</td>\n",
              "      <td>...</td>\n",
              "      <td>...</td>\n",
              "      <td>...</td>\n",
              "      <td>...</td>\n",
              "      <td>...</td>\n",
              "      <td>...</td>\n",
              "      <td>...</td>\n",
              "      <td>...</td>\n",
              "      <td>...</td>\n",
              "    </tr>\n",
              "    <tr>\n",
              "      <th>7108</th>\n",
              "      <td>202006</td>\n",
              "      <td>45117219093</td>\n",
              "      <td>Male</td>\n",
              "      <td>0</td>\n",
              "      <td>Yes</td>\n",
              "      <td>Yes</td>\n",
              "      <td>53.0</td>\n",
              "      <td>Yes</td>\n",
              "      <td>Yes</td>\n",
              "      <td>DSL</td>\n",
              "      <td>Yes</td>\n",
              "      <td>Yes</td>\n",
              "      <td>No</td>\n",
              "      <td>No</td>\n",
              "      <td>No</td>\n",
              "      <td>Yes</td>\n",
              "      <td>Two year</td>\n",
              "      <td>No</td>\n",
              "      <td>Bank transfer (automatic)</td>\n",
              "      <td>69.70</td>\n",
              "      <td>3686.05</td>\n",
              "      <td>NaN</td>\n",
              "    </tr>\n",
              "    <tr>\n",
              "      <th>7109</th>\n",
              "      <td>202006</td>\n",
              "      <td>45564915800</td>\n",
              "      <td>Female</td>\n",
              "      <td>0</td>\n",
              "      <td>No</td>\n",
              "      <td>No</td>\n",
              "      <td>12.0</td>\n",
              "      <td>Yes</td>\n",
              "      <td>No</td>\n",
              "      <td>Fiber optic</td>\n",
              "      <td>No</td>\n",
              "      <td>No</td>\n",
              "      <td>Yes</td>\n",
              "      <td>No</td>\n",
              "      <td>Yes</td>\n",
              "      <td>Yes</td>\n",
              "      <td>One year</td>\n",
              "      <td>No</td>\n",
              "      <td>Mailed check</td>\n",
              "      <td>95.50</td>\n",
              "      <td>1115.15</td>\n",
              "      <td>NaN</td>\n",
              "    </tr>\n",
              "    <tr>\n",
              "      <th>7110</th>\n",
              "      <td>202006</td>\n",
              "      <td>45655964195</td>\n",
              "      <td>Male</td>\n",
              "      <td>0</td>\n",
              "      <td>No</td>\n",
              "      <td>No</td>\n",
              "      <td>26.0</td>\n",
              "      <td>Yes</td>\n",
              "      <td>No</td>\n",
              "      <td>Fiber optic</td>\n",
              "      <td>No</td>\n",
              "      <td>No</td>\n",
              "      <td>Yes</td>\n",
              "      <td>Yes</td>\n",
              "      <td>Yes</td>\n",
              "      <td>Yes</td>\n",
              "      <td>Month-to-month</td>\n",
              "      <td>Yes</td>\n",
              "      <td>Electronic check</td>\n",
              "      <td>98.65</td>\n",
              "      <td>2537.00</td>\n",
              "      <td>NaN</td>\n",
              "    </tr>\n",
              "    <tr>\n",
              "      <th>7111</th>\n",
              "      <td>202006</td>\n",
              "      <td>45899251814</td>\n",
              "      <td>Male</td>\n",
              "      <td>0</td>\n",
              "      <td>No</td>\n",
              "      <td>No</td>\n",
              "      <td>21.0</td>\n",
              "      <td>Yes</td>\n",
              "      <td>No</td>\n",
              "      <td>DSL</td>\n",
              "      <td>No</td>\n",
              "      <td>No</td>\n",
              "      <td>Yes</td>\n",
              "      <td>No</td>\n",
              "      <td>No</td>\n",
              "      <td>Yes</td>\n",
              "      <td>Month-to-month</td>\n",
              "      <td>No</td>\n",
              "      <td>Mailed check</td>\n",
              "      <td>61.65</td>\n",
              "      <td>1393.60</td>\n",
              "      <td>NaN</td>\n",
              "    </tr>\n",
              "    <tr>\n",
              "      <th>7112</th>\n",
              "      <td>202006</td>\n",
              "      <td>45427332508</td>\n",
              "      <td>Female</td>\n",
              "      <td>0</td>\n",
              "      <td>No</td>\n",
              "      <td>Yes</td>\n",
              "      <td>1.0</td>\n",
              "      <td>Yes</td>\n",
              "      <td>No</td>\n",
              "      <td>Fiber optic</td>\n",
              "      <td>No</td>\n",
              "      <td>No</td>\n",
              "      <td>No</td>\n",
              "      <td>No</td>\n",
              "      <td>Yes</td>\n",
              "      <td>Yes</td>\n",
              "      <td>Month-to-month</td>\n",
              "      <td>Yes</td>\n",
              "      <td>Electronic check</td>\n",
              "      <td>89.35</td>\n",
              "      <td>89.35</td>\n",
              "      <td>NaN</td>\n",
              "    </tr>\n",
              "  </tbody>\n",
              "</table>\n",
              "<p>6999 rows × 22 columns</p>\n",
              "</div>\n",
              "    <div class=\"colab-df-buttons\">\n",
              "\n",
              "  <div class=\"colab-df-container\">\n",
              "    <button class=\"colab-df-convert\" onclick=\"convertToInteractive('df-72a768d2-9001-45fd-a912-7f2d1b31f516')\"\n",
              "            title=\"Convert this dataframe to an interactive table.\"\n",
              "            style=\"display:none;\">\n",
              "\n",
              "  <svg xmlns=\"http://www.w3.org/2000/svg\" height=\"24px\" viewBox=\"0 -960 960 960\">\n",
              "    <path d=\"M120-120v-720h720v720H120Zm60-500h600v-160H180v160Zm220 220h160v-160H400v160Zm0 220h160v-160H400v160ZM180-400h160v-160H180v160Zm440 0h160v-160H620v160ZM180-180h160v-160H180v160Zm440 0h160v-160H620v160Z\"/>\n",
              "  </svg>\n",
              "    </button>\n",
              "\n",
              "  <style>\n",
              "    .colab-df-container {\n",
              "      display:flex;\n",
              "      gap: 12px;\n",
              "    }\n",
              "\n",
              "    .colab-df-convert {\n",
              "      background-color: #E8F0FE;\n",
              "      border: none;\n",
              "      border-radius: 50%;\n",
              "      cursor: pointer;\n",
              "      display: none;\n",
              "      fill: #1967D2;\n",
              "      height: 32px;\n",
              "      padding: 0 0 0 0;\n",
              "      width: 32px;\n",
              "    }\n",
              "\n",
              "    .colab-df-convert:hover {\n",
              "      background-color: #E2EBFA;\n",
              "      box-shadow: 0px 1px 2px rgba(60, 64, 67, 0.3), 0px 1px 3px 1px rgba(60, 64, 67, 0.15);\n",
              "      fill: #174EA6;\n",
              "    }\n",
              "\n",
              "    .colab-df-buttons div {\n",
              "      margin-bottom: 4px;\n",
              "    }\n",
              "\n",
              "    [theme=dark] .colab-df-convert {\n",
              "      background-color: #3B4455;\n",
              "      fill: #D2E3FC;\n",
              "    }\n",
              "\n",
              "    [theme=dark] .colab-df-convert:hover {\n",
              "      background-color: #434B5C;\n",
              "      box-shadow: 0px 1px 3px 1px rgba(0, 0, 0, 0.15);\n",
              "      filter: drop-shadow(0px 1px 2px rgba(0, 0, 0, 0.3));\n",
              "      fill: #FFFFFF;\n",
              "    }\n",
              "  </style>\n",
              "\n",
              "    <script>\n",
              "      const buttonEl =\n",
              "        document.querySelector('#df-72a768d2-9001-45fd-a912-7f2d1b31f516 button.colab-df-convert');\n",
              "      buttonEl.style.display =\n",
              "        google.colab.kernel.accessAllowed ? 'block' : 'none';\n",
              "\n",
              "      async function convertToInteractive(key) {\n",
              "        const element = document.querySelector('#df-72a768d2-9001-45fd-a912-7f2d1b31f516');\n",
              "        const dataTable =\n",
              "          await google.colab.kernel.invokeFunction('convertToInteractive',\n",
              "                                                    [key], {});\n",
              "        if (!dataTable) return;\n",
              "\n",
              "        const docLinkHtml = 'Like what you see? Visit the ' +\n",
              "          '<a target=\"_blank\" href=https://colab.research.google.com/notebooks/data_table.ipynb>data table notebook</a>'\n",
              "          + ' to learn more about interactive tables.';\n",
              "        element.innerHTML = '';\n",
              "        dataTable['output_type'] = 'display_data';\n",
              "        await google.colab.output.renderOutput(dataTable, element);\n",
              "        const docLink = document.createElement('div');\n",
              "        docLink.innerHTML = docLinkHtml;\n",
              "        element.appendChild(docLink);\n",
              "      }\n",
              "    </script>\n",
              "  </div>\n",
              "\n",
              "\n",
              "    <div id=\"df-d164dc65-0dc9-4cb7-8631-0c5c2e5442a8\">\n",
              "      <button class=\"colab-df-quickchart\" onclick=\"quickchart('df-d164dc65-0dc9-4cb7-8631-0c5c2e5442a8')\"\n",
              "                title=\"Suggest charts\"\n",
              "                style=\"display:none;\">\n",
              "\n",
              "<svg xmlns=\"http://www.w3.org/2000/svg\" height=\"24px\"viewBox=\"0 0 24 24\"\n",
              "     width=\"24px\">\n",
              "    <g>\n",
              "        <path d=\"M19 3H5c-1.1 0-2 .9-2 2v14c0 1.1.9 2 2 2h14c1.1 0 2-.9 2-2V5c0-1.1-.9-2-2-2zM9 17H7v-7h2v7zm4 0h-2V7h2v10zm4 0h-2v-4h2v4z\"/>\n",
              "    </g>\n",
              "</svg>\n",
              "      </button>\n",
              "\n",
              "<style>\n",
              "  .colab-df-quickchart {\n",
              "      --bg-color: #E8F0FE;\n",
              "      --fill-color: #1967D2;\n",
              "      --hover-bg-color: #E2EBFA;\n",
              "      --hover-fill-color: #174EA6;\n",
              "      --disabled-fill-color: #AAA;\n",
              "      --disabled-bg-color: #DDD;\n",
              "  }\n",
              "\n",
              "  [theme=dark] .colab-df-quickchart {\n",
              "      --bg-color: #3B4455;\n",
              "      --fill-color: #D2E3FC;\n",
              "      --hover-bg-color: #434B5C;\n",
              "      --hover-fill-color: #FFFFFF;\n",
              "      --disabled-bg-color: #3B4455;\n",
              "      --disabled-fill-color: #666;\n",
              "  }\n",
              "\n",
              "  .colab-df-quickchart {\n",
              "    background-color: var(--bg-color);\n",
              "    border: none;\n",
              "    border-radius: 50%;\n",
              "    cursor: pointer;\n",
              "    display: none;\n",
              "    fill: var(--fill-color);\n",
              "    height: 32px;\n",
              "    padding: 0;\n",
              "    width: 32px;\n",
              "  }\n",
              "\n",
              "  .colab-df-quickchart:hover {\n",
              "    background-color: var(--hover-bg-color);\n",
              "    box-shadow: 0 1px 2px rgba(60, 64, 67, 0.3), 0 1px 3px 1px rgba(60, 64, 67, 0.15);\n",
              "    fill: var(--button-hover-fill-color);\n",
              "  }\n",
              "\n",
              "  .colab-df-quickchart-complete:disabled,\n",
              "  .colab-df-quickchart-complete:disabled:hover {\n",
              "    background-color: var(--disabled-bg-color);\n",
              "    fill: var(--disabled-fill-color);\n",
              "    box-shadow: none;\n",
              "  }\n",
              "\n",
              "  .colab-df-spinner {\n",
              "    border: 2px solid var(--fill-color);\n",
              "    border-color: transparent;\n",
              "    border-bottom-color: var(--fill-color);\n",
              "    animation:\n",
              "      spin 1s steps(1) infinite;\n",
              "  }\n",
              "\n",
              "  @keyframes spin {\n",
              "    0% {\n",
              "      border-color: transparent;\n",
              "      border-bottom-color: var(--fill-color);\n",
              "      border-left-color: var(--fill-color);\n",
              "    }\n",
              "    20% {\n",
              "      border-color: transparent;\n",
              "      border-left-color: var(--fill-color);\n",
              "      border-top-color: var(--fill-color);\n",
              "    }\n",
              "    30% {\n",
              "      border-color: transparent;\n",
              "      border-left-color: var(--fill-color);\n",
              "      border-top-color: var(--fill-color);\n",
              "      border-right-color: var(--fill-color);\n",
              "    }\n",
              "    40% {\n",
              "      border-color: transparent;\n",
              "      border-right-color: var(--fill-color);\n",
              "      border-top-color: var(--fill-color);\n",
              "    }\n",
              "    60% {\n",
              "      border-color: transparent;\n",
              "      border-right-color: var(--fill-color);\n",
              "    }\n",
              "    80% {\n",
              "      border-color: transparent;\n",
              "      border-right-color: var(--fill-color);\n",
              "      border-bottom-color: var(--fill-color);\n",
              "    }\n",
              "    90% {\n",
              "      border-color: transparent;\n",
              "      border-bottom-color: var(--fill-color);\n",
              "    }\n",
              "  }\n",
              "</style>\n",
              "\n",
              "      <script>\n",
              "        async function quickchart(key) {\n",
              "          const quickchartButtonEl =\n",
              "            document.querySelector('#' + key + ' button');\n",
              "          quickchartButtonEl.disabled = true;  // To prevent multiple clicks.\n",
              "          quickchartButtonEl.classList.add('colab-df-spinner');\n",
              "          try {\n",
              "            const charts = await google.colab.kernel.invokeFunction(\n",
              "                'suggestCharts', [key], {});\n",
              "          } catch (error) {\n",
              "            console.error('Error during call to suggestCharts:', error);\n",
              "          }\n",
              "          quickchartButtonEl.classList.remove('colab-df-spinner');\n",
              "          quickchartButtonEl.classList.add('colab-df-quickchart-complete');\n",
              "        }\n",
              "        (() => {\n",
              "          let quickchartButtonEl =\n",
              "            document.querySelector('#df-d164dc65-0dc9-4cb7-8631-0c5c2e5442a8 button');\n",
              "          quickchartButtonEl.style.display =\n",
              "            google.colab.kernel.accessAllowed ? 'block' : 'none';\n",
              "        })();\n",
              "      </script>\n",
              "    </div>\n",
              "\n",
              "    </div>\n",
              "  </div>\n"
            ],
            "application/vnd.google.colaboratory.intrinsic+json": {
              "type": "dataframe"
            }
          },
          "metadata": {},
          "execution_count": 7
        }
      ]
    },
    {
      "cell_type": "code",
      "source": [
        "# Drop duplicate ID sorted by Periode\n",
        "df_load = df_load.sort_values('UpdatedAt', ascending=False).drop_duplicates('customerID')\n",
        "print('Hasil jumlah ID Customer yang sudah dihilangkan duplikasinya (distinct) adalah',df_load['customerID'].count())"
      ],
      "metadata": {
        "colab": {
          "base_uri": "https://localhost:8080/"
        },
        "id": "9_T9o7mMO1aV",
        "outputId": "2bb74840-09a9-4437-fb62-1886ac10e21e"
      },
      "execution_count": null,
      "outputs": [
        {
          "output_type": "stream",
          "name": "stdout",
          "text": [
            "Hasil jumlah ID Customer yang sudah dihilangkan duplikasinya (distinct) adalah 6993\n"
          ]
        }
      ]
    },
    {
      "cell_type": "markdown",
      "source": [
        "### Kesimpulan\n",
        "Validitas dari ID Number pelanggan sangat diperlukan untuk memastikan bahwa data yang kita ambil sudah benar. Berdasarkan hasil tersebut, terdapat perbedaan jumlah nomor ID dari data pertama kali di load sampai dengan hasil akhir. Jumlah row data ketika pertama kali di load ada sebanyak 7113 rows dan 22 columns dengan 7017 jumlah ID yang unique. Kemudian setelah di cek validitas dari ID pelanggan, maka tersisa 6993 rows data"
      ],
      "metadata": {
        "id": "RILXYYWqO6QO"
      }
    },
    {
      "cell_type": "markdown",
      "source": [
        "### Mengatasi Missing Values dengan Penghapusan Rows"
      ],
      "metadata": {
        "id": "HS_dvkL8Pk4d"
      }
    },
    {
      "cell_type": "code",
      "source": [
        "print('Total missing values data dari kolom churn', df_load['Churn'].isnull().sum())\n",
        "# Dropping all Rows with spesific column (churn)\n",
        "df_load.dropna(subset=['Churn'], inplace=True)\n",
        "print('Total Rows dan kolom Data setelah dihapus data Missing Values adalah', df_load.shape)"
      ],
      "metadata": {
        "colab": {
          "base_uri": "https://localhost:8080/"
        },
        "id": "cCfp7ujRPGNt",
        "outputId": "c6478038-c6bd-4a5f-bfe8-aaefbbff80db"
      },
      "execution_count": null,
      "outputs": [
        {
          "output_type": "stream",
          "name": "stdout",
          "text": [
            "Total missing values data dari kolom churn 43\n",
            "Total Rows dan kolom Data setelah dihapus data Missing Values adalah (6950, 22)\n"
          ]
        }
      ]
    },
    {
      "cell_type": "markdown",
      "source": [
        "### Mengatasi Missing Values dengan Pengisian Nilai tertentu"
      ],
      "metadata": {
        "id": "wVP1cVG9PqcU"
      }
    },
    {
      "cell_type": "code",
      "source": [
        "#handling missing values Tenure fill with 11\n",
        "df_load['tenure'].fillna(11, inplace=True)\n"
      ],
      "metadata": {
        "colab": {
          "base_uri": "https://localhost:8080/"
        },
        "id": "72Yxj9rwQNG9",
        "outputId": "e74ea9b7-f080-4533-de05-89066d72dece"
      },
      "execution_count": null,
      "outputs": [
        {
          "output_type": "stream",
          "name": "stderr",
          "text": [
            "/tmp/ipython-input-10-635355435.py:2: FutureWarning: A value is trying to be set on a copy of a DataFrame or Series through chained assignment using an inplace method.\n",
            "The behavior will change in pandas 3.0. This inplace method will never work because the intermediate object on which we are setting values always behaves as a copy.\n",
            "\n",
            "For example, when doing 'df[col].method(value, inplace=True)', try using 'df.method({col: value}, inplace=True)' or df[col] = df[col].method(value) instead, to perform the operation inplace on the original object.\n",
            "\n",
            "\n",
            "  df_load['tenure'].fillna(11, inplace=True)\n"
          ]
        }
      ]
    },
    {
      "cell_type": "code",
      "source": [
        "#Loop\n",
        "#Handling missing values num vars (except Tenure)\n",
        "for col_name in list(['MonthlyCharges','TotalCharges']):\n",
        "   median=df_load[col_name].median()\n",
        "df_load[col_name].fillna(median, inplace=True)\n",
        "print('\\nJumlah Missing Values setelah di imputer datanya, adalah:')\n",
        "print(df_load.isnull().sum().sort_values(ascending=False))"
      ],
      "metadata": {
        "colab": {
          "base_uri": "https://localhost:8080/"
        },
        "id": "8YbYWBT6QRoU",
        "outputId": "65bfbb22-867f-425a-fd0c-ef06441c4254"
      },
      "execution_count": null,
      "outputs": [
        {
          "output_type": "stream",
          "name": "stdout",
          "text": [
            "\n",
            "Jumlah Missing Values setelah di imputer datanya, adalah:\n",
            "MonthlyCharges      26\n",
            "UpdatedAt            0\n",
            "gender               0\n",
            "SeniorCitizen        0\n",
            "Partner              0\n",
            "customerID           0\n",
            "Dependents           0\n",
            "tenure               0\n",
            "MultipleLines        0\n",
            "PhoneService         0\n",
            "OnlineSecurity       0\n",
            "OnlineBackup         0\n",
            "DeviceProtection     0\n",
            "InternetService      0\n",
            "TechSupport          0\n",
            "StreamingTV          0\n",
            "Contract             0\n",
            "StreamingMovies      0\n",
            "PaperlessBilling     0\n",
            "PaymentMethod        0\n",
            "TotalCharges         0\n",
            "Churn                0\n",
            "dtype: int64\n"
          ]
        },
        {
          "output_type": "stream",
          "name": "stderr",
          "text": [
            "/tmp/ipython-input-11-4186624355.py:5: FutureWarning: A value is trying to be set on a copy of a DataFrame or Series through chained assignment using an inplace method.\n",
            "The behavior will change in pandas 3.0. This inplace method will never work because the intermediate object on which we are setting values always behaves as a copy.\n",
            "\n",
            "For example, when doing 'df[col].method(value, inplace=True)', try using 'df.method({col: value}, inplace=True)' or df[col] = df[col].method(value) instead, to perform the operation inplace on the original object.\n",
            "\n",
            "\n",
            "  df_load[col_name].fillna(median, inplace=True)\n"
          ]
        }
      ]
    },
    {
      "cell_type": "markdown",
      "source": [
        "### Kesimpulan\n",
        "Setelah di analisis lebih lanjut, ternyata masih ada missing values dari data yang kita sudah validkan Id Number pelanggannya. Missing values terdapat pada kolom Churn, tenure, MonthlyCharges & TotalCharges. Setelah kita tangani dengan cara penghapusan rows dan pengisian rows dengan nilai tertentu, terbukti sudah tidak ada missing values lagi pada data, terbukti dari jumlah missing values masing-masing variable yang bernilai 0. Selanjutnya kita akan melakukan penanganan pencilan (outlier)"
      ],
      "metadata": {
        "id": "_qgW6GrQQZt1"
      }
    },
    {
      "cell_type": "markdown",
      "source": [
        "### Mendeteksi Adanya Outlier Menggunakan Boxplot"
      ],
      "metadata": {
        "id": "6OIrp23WQj07"
      }
    },
    {
      "cell_type": "code",
      "source": [
        "# Creating Box Plot\n",
        "import matplotlib.pyplot as plt\n",
        "import seaborn as sns"
      ],
      "metadata": {
        "id": "lrj6MoEQQdSz"
      },
      "execution_count": null,
      "outputs": []
    },
    {
      "cell_type": "code",
      "source": [
        "# Misal untuk kolom tenure\n",
        "plt.figure()#create the new figure\n",
        "sns.boxplot(x=df_load['tenure'])#x-axis use the tenure data\n",
        "plt.show()#for showing/to display the plot\n",
        "plt.figure()\n",
        "sns.boxplot(x=df_load['MonthlyCharges'])\n",
        "plt.show()\n",
        "plt.figure()\n",
        "sns.boxplot(x=df_load['TotalCharges'])\n",
        "plt.show()"
      ],
      "metadata": {
        "colab": {
          "base_uri": "https://localhost:8080/",
          "height": 1000
        },
        "id": "fd90kCipQ8J7",
        "outputId": "add9113e-43c1-419b-da8c-22c3823b2368"
      },
      "execution_count": null,
      "outputs": [
        {
          "output_type": "display_data",
          "data": {
            "text/plain": [
              "<Figure size 640x480 with 1 Axes>"
            ],
            "image/png": "[encoded data removed]"
          },
          "metadata": {}
        },
        {
          "output_type": "display_data",
          "data": {
            "text/plain": [
              "<Figure size 640x480 with 1 Axes>"
            ],
            "image/png": "[encoded data removed]"
          },
          "metadata": {}
        },
        {
          "output_type": "display_data",
          "data": {
            "text/plain": [
              "<Figure size 640x480 with 1 Axes>"
            ],
            "image/png": "[encoded data removed]"
          },
          "metadata": {}
        }
      ]
    },
    {
      "cell_type": "markdown",
      "source": [
        "### Mengatasi Outlier"
      ],
      "metadata": {
        "id": "905CLkVVRASj"
      }
    },
    {
      "cell_type": "code",
      "source": [
        "# Hitung kuartil pertama (Q1) dan kuartil ketiga (Q3)\n",
        "Q1 = df_load[['tenure','MonthlyCharges','TotalCharges']].quantile(0.25)\n",
        "Q3 = df_load[['tenure','MonthlyCharges','TotalCharges']].quantile(0.75)"
      ],
      "metadata": {
        "id": "WsH37-3nR-Jy"
      },
      "execution_count": null,
      "outputs": []
    },
    {
      "cell_type": "code",
      "source": [
        "# Hitung IQR (Interquartile Range)\n",
        "IQR = Q3 - Q1"
      ],
      "metadata": {
        "id": "l3oE1L2US86x"
      },
      "execution_count": null,
      "outputs": []
    },
    {
      "cell_type": "code",
      "source": [
        "# Tentukan batas maksimum yang ditolerir (Q3 + 1.5 * IQR)\n",
        "maximum = Q3 + (1.5 * IQR)\n",
        "print('Nilai Maximum dari masing-masing Variable adalah: ')\n",
        "print(maximum)"
      ],
      "metadata": {
        "colab": {
          "base_uri": "https://localhost:8080/"
        },
        "id": "UjlvjHKgS-lh",
        "outputId": "e6164f68-16dd-4a5a-b24f-a6734fcf7045"
      },
      "execution_count": null,
      "outputs": [
        {
          "output_type": "stream",
          "name": "stdout",
          "text": [
            "Nilai Maximum dari masing-masing Variable adalah: \n",
            "tenure             124.00000\n",
            "MonthlyCharges     170.61875\n",
            "TotalCharges      8889.13125\n",
            "dtype: float64\n"
          ]
        }
      ]
    },
    {
      "cell_type": "code",
      "source": [
        "# Tentukan batas minimum yang ditolerir (Q1 - 1.5 * IQR)\n",
        "minimum = Q1 - (1.5 * IQR)\n",
        "print('\\nNilai Minimum dari masing-masing Variable adalah: ')\n",
        "print(minimum)"
      ],
      "metadata": {
        "colab": {
          "base_uri": "https://localhost:8080/"
        },
        "id": "3A8TiX2ZTCHx",
        "outputId": "70798b6d-a85e-4e0b-8bdc-0191d11f7062"
      },
      "execution_count": null,
      "outputs": [
        {
          "output_type": "stream",
          "name": "stdout",
          "text": [
            "\n",
            "Nilai Minimum dari masing-masing Variable adalah: \n",
            "tenure             -60.00000\n",
            "MonthlyCharges     -44.63125\n",
            "TotalCharges     -4682.31875\n",
            "dtype: float64\n"
          ]
        }
      ]
    },
    {
      "cell_type": "markdown",
      "source": [
        "# Kesimpulan\n",
        "Dari ketiga boxplot dengan variable 'tenure','MonthlyCharges' & 'TotalCharges' terlihat jelas bahwasannya ada outlier. Hal ini bisa di identifikasi dari adanya titik-titik yang berada jauh dari gambar boxplot-nya. Kemudian kalau kita liat persebaran datanya dari kolom max nya juga ada nilai yang sangat tinggi sekali.\n",
        "\n",
        "Kemudian nilai outlier tersebut ditangani dengan cara merubah nilainya ke nilai maximum & minimum dari interquartile range (IQR). Setelah di tangani outlier-nya, dan dilihat perseberan datanya, terlihat sudah tidak ada lagi nilai yang outlier."
      ],
      "metadata": {
        "id": "ikY0ZZ9vTNkQ"
      }
    },
    {
      "cell_type": "markdown",
      "source": [
        "### Mendeteksi Nilai yang tidak Standar"
      ],
      "metadata": {
        "id": "aELgWl6sTPmk"
      }
    },
    {
      "cell_type": "code",
      "source": [
        "# Menampilkan jumlah nilai unik dari setiap kolom kategorik\n",
        "for col_name in list([\n",
        "    'gender','SeniorCitizen','Partner','Dependents','PhoneService',\n",
        "    'MultipleLines','InternetService','OnlineSecurity','OnlineBackup',\n",
        "    'DeviceProtection','TechSupport','StreamingTV','StreamingMovies',\n",
        "    'Contract','PaperlessBilling','PaymentMethod','Churn'\n",
        "]):\n",
        "    print('\\nUnique Values Count Before Standardized Variable', col_name)\n",
        "    print(df_load[col_name].value_counts())"
      ],
      "metadata": {
        "colab": {
          "base_uri": "https://localhost:8080/"
        },
        "id": "rLqyZO9_W9ou",
        "outputId": "787d9a35-ee29-4d4a-cad4-08fb73436cb5"
      },
      "execution_count": null,
      "outputs": [
        {
          "output_type": "stream",
          "name": "stdout",
          "text": [
            "\n",
            "Unique Values Count Before Standardized Variable gender\n",
            "gender\n",
            "Male         3499\n",
            "Female       3431\n",
            "Wanita         14\n",
            "Laki-Laki       6\n",
            "Name: count, dtype: int64\n",
            "\n",
            "Unique Values Count Before Standardized Variable SeniorCitizen\n",
            "SeniorCitizen\n",
            "0    5822\n",
            "1    1128\n",
            "Name: count, dtype: int64\n",
            "\n",
            "Unique Values Count Before Standardized Variable Partner\n",
            "Partner\n",
            "No     3591\n",
            "Yes    3359\n",
            "Name: count, dtype: int64\n",
            "\n",
            "Unique Values Count Before Standardized Variable Dependents\n",
            "Dependents\n",
            "No     4870\n",
            "Yes    2060\n",
            "Iya      20\n",
            "Name: count, dtype: int64\n",
            "\n",
            "Unique Values Count Before Standardized Variable PhoneService\n",
            "PhoneService\n",
            "Yes    6281\n",
            "No      669\n",
            "Name: count, dtype: int64\n",
            "\n",
            "Unique Values Count Before Standardized Variable MultipleLines\n",
            "MultipleLines\n",
            "No                  3346\n",
            "Yes                 2935\n",
            "No phone service     669\n",
            "Name: count, dtype: int64\n",
            "\n",
            "Unique Values Count Before Standardized Variable InternetService\n",
            "InternetService\n",
            "Fiber optic    3057\n",
            "DSL            2388\n",
            "No             1505\n",
            "Name: count, dtype: int64\n",
            "\n",
            "Unique Values Count Before Standardized Variable OnlineSecurity\n",
            "OnlineSecurity\n",
            "No                     3454\n",
            "Yes                    1991\n",
            "No internet service    1505\n",
            "Name: count, dtype: int64\n",
            "\n",
            "Unique Values Count Before Standardized Variable OnlineBackup\n",
            "OnlineBackup\n",
            "No                     3045\n",
            "Yes                    2400\n",
            "No internet service    1505\n",
            "Name: count, dtype: int64\n",
            "\n",
            "Unique Values Count Before Standardized Variable DeviceProtection\n",
            "DeviceProtection\n",
            "No                     3054\n",
            "Yes                    2391\n",
            "No internet service    1505\n",
            "Name: count, dtype: int64\n",
            "\n",
            "Unique Values Count Before Standardized Variable TechSupport\n",
            "TechSupport\n",
            "No                     3431\n",
            "Yes                    2014\n",
            "No internet service    1505\n",
            "Name: count, dtype: int64\n",
            "\n",
            "Unique Values Count Before Standardized Variable StreamingTV\n",
            "StreamingTV\n",
            "No                     2774\n",
            "Yes                    2671\n",
            "No internet service    1505\n",
            "Name: count, dtype: int64\n",
            "\n",
            "Unique Values Count Before Standardized Variable StreamingMovies\n",
            "StreamingMovies\n",
            "No                     2747\n",
            "Yes                    2698\n",
            "No internet service    1505\n",
            "Name: count, dtype: int64\n",
            "\n",
            "Unique Values Count Before Standardized Variable Contract\n",
            "Contract\n",
            "Month-to-month    3823\n",
            "Two year          1670\n",
            "One year          1457\n",
            "Name: count, dtype: int64\n",
            "\n",
            "Unique Values Count Before Standardized Variable PaperlessBilling\n",
            "PaperlessBilling\n",
            "Yes    4114\n",
            "No     2836\n",
            "Name: count, dtype: int64\n",
            "\n",
            "Unique Values Count Before Standardized Variable PaymentMethod\n",
            "PaymentMethod\n",
            "Electronic check             2337\n",
            "Mailed check                 1594\n",
            "Bank transfer (automatic)    1519\n",
            "Credit card (automatic)      1500\n",
            "Name: count, dtype: int64\n",
            "\n",
            "Unique Values Count Before Standardized Variable Churn\n",
            "Churn\n",
            "No       5114\n",
            "Yes      1827\n",
            "Churn       9\n",
            "Name: count, dtype: int64\n"
          ]
        }
      ]
    },
    {
      "cell_type": "code",
      "source": [
        "df_load = df_load.replace(['Wanita','Laki-Laki','Churn','Iya'],['Female','Male','Yes','Yes'])\n",
        "\n",
        "for col_name in list(['gender','Dependents','Churn']):\n",
        "\tprint('\\nUnique Values Count \\033[1m' + 'After Standardized \\033[0mVariable', col_name)\n",
        "\tprint(df_load[col_name].value_counts())"
      ],
      "metadata": {
        "colab": {
          "base_uri": "https://localhost:8080/"
        },
        "id": "oonK35I9bNdJ",
        "outputId": "435ee0c2-711b-42cf-ab7f-c0d88b3f3da1"
      },
      "execution_count": null,
      "outputs": [
        {
          "output_type": "stream",
          "name": "stdout",
          "text": [
            "\n",
            "Unique Values Count \u001b[1mAfter Standardized \u001b[0mVariable gender\n",
            "gender\n",
            "Male      3505\n",
            "Female    3445\n",
            "Name: count, dtype: int64\n",
            "\n",
            "Unique Values Count \u001b[1mAfter Standardized \u001b[0mVariable Dependents\n",
            "Dependents\n",
            "No     4870\n",
            "Yes    2080\n",
            "Name: count, dtype: int64\n",
            "\n",
            "Unique Values Count \u001b[1mAfter Standardized \u001b[0mVariable Churn\n",
            "Churn\n",
            "No     5114\n",
            "Yes    1836\n",
            "Name: count, dtype: int64\n"
          ]
        }
      ]
    },
    {
      "cell_type": "markdown",
      "source": [
        "### Kesimpulan\n",
        "Ketika kita amati lebih jauh dari jumlah unique value dari masing-masing variable kategorik, terlihat jelas bahwa ada beberapa variable yang tidak standar. Variable itu adalah:\n",
        "\n",
        "Gender (Female, Male, Wanita, Laki-Laki), yang bisa di standardkan nilainya menjadi (Female, Male) karena mempunyai makna yang sama.\n",
        "Dependents (Yes, No, Iya), yang bisa di standardkan nilainya menjadi (Yes, No) karena mempunyai makna yang sama.\n",
        "Churn (Yes, No, Churn), yang bisa di standardkan nilainya menjadi (Yes, No) karena mempunyai makna yang sama.\n",
        "Setelah kita standardkan nilainya, dan kita amati kembali bentuk datanya, sudah terstandar dengan baik untuk unique value-nya."
      ],
      "metadata": {
        "id": "D_LBw0DxeryA"
      }
    }
  ]
}