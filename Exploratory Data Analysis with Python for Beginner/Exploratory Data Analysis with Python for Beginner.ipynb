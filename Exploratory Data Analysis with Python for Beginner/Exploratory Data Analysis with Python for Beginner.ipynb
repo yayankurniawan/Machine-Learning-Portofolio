{
  "nbformat": 4,
  "nbformat_minor": 0,
  "metadata": {
    "colab": {
      "provenance": []
    },
    "kernelspec": {
      "name": "python3",
      "display_name": "Python 3"
    },
    "language_info": {
      "name": "python"
    }
  },
  "cells": [
    {
      "cell_type": "markdown",
      "source": [
        "# Exploratory Data Analysis dengan Pandas\n",
        "\n",
        "Nama: Yayan Kurniawan"
      ],
      "metadata": {
        "id": "3DFimNQfG2Bo"
      }
    },
    {
      "cell_type": "markdown",
      "source": [
        "Membaca file dari CSV"
      ],
      "metadata": {
        "id": "VKAPGHp-HC1Q"
      }
    },
    {
      "cell_type": "code",
      "execution_count": 5,
      "metadata": {
        "id": "IDwXpW90GyGC"
      },
      "outputs": [],
      "source": [
        "# Instal Libaray Pandas\n",
        "import pandas as pd\n",
        "\n",
        "# Membaca Dataset\n",
        "order_df = pd.read_csv(\"https://storage.googleapis.com/dqlab-dataset/order.csv\")"
      ]
    },
    {
      "cell_type": "markdown",
      "source": [
        "Inspeksi struktur data frame\n",
        "- melihat struktur data frame,\n",
        "- melihat preview data dari dataframe tersebut, dan\n",
        "- membuat summary data sederhana dari dataset.\n"
      ],
      "metadata": {
        "id": "qyol6Qx_HeAI"
      }
    },
    {
      "cell_type": "code",
      "source": [
        "# Melihat struktur kolom dan baris dari data frame\n",
        "print(order_df.shape)"
      ],
      "metadata": {
        "colab": {
          "base_uri": "https://localhost:8080/"
        },
        "id": "S-Ir2nKlHjP_",
        "outputId": "23223e90-afca-40c0-f89a-f3b24ec81349"
      },
      "execution_count": 6,
      "outputs": [
        {
          "output_type": "stream",
          "name": "stdout",
          "text": [
            "(49999, 12)\n"
          ]
        }
      ]
    },
    {
      "cell_type": "markdown",
      "source": [
        "Melihat preview data dari data frame"
      ],
      "metadata": {
        "id": "0pl7OMGDIcuw"
      }
    },
    {
      "cell_type": "code",
      "source": [
        "# Menampilkan 10 baris konten teratas\n",
        "print(order_df.head(10))"
      ],
      "metadata": {
        "colab": {
          "base_uri": "https://localhost:8080/"
        },
        "id": "3iU5O3gxIdVP",
        "outputId": "70818c94-0d3d-4bb4-cc94-4880a7816189"
      },
      "execution_count": 7,
      "outputs": [
        {
          "output_type": "stream",
          "name": "stdout",
          "text": [
            "                           order_id  quantity  \\\n",
            "0  2e7a8482f6fb09756ca50c10d7bfc047         2   \n",
            "1  2e7a8482f6fb09756ca50c10d7bfc047         1   \n",
            "2  e5fa5a7210941f7d56d0208e4e071d35         1   \n",
            "3  3b697a20d9e427646d92567910af6d57         1   \n",
            "4  71303d7e93b399f5bcd537d124c0bcfa         1   \n",
            "5  be5bc2f0da14d8071e2d45451ad119d9         1   \n",
            "6  0a0837a5eee9e7a9ce2b1fa831944d27         1   \n",
            "7  1ff217aa612f6cd7c4255c9bfe931c8b         1   \n",
            "8  22613579f7d11cc59c4347526fc3c79e         1   \n",
            "9  356b492aba2d1a7da886e54e0b6212b7         1   \n",
            "\n",
            "                         product_id    price  \\\n",
            "0  f293394c72c9b5fafd7023301fc21fc2  1489000   \n",
            "1  c1488892604e4ba5cff5b4eb4d595400  1756000   \n",
            "2  f3c2d01a84c947b078e32bbef0718962  1707000   \n",
            "3  3ae08df6bcbfe23586dd431c40bddbb7  3071000   \n",
            "4  d2998d7ced12f83f9b832f33cf6507b6  3833000   \n",
            "5  fd7fd78fd3cbc1b0a6370a7909c0a629  1480000   \n",
            "6  583916a5dae918f5e89baec139141c54  4489000   \n",
            "7  33430c5c1027d812b5c62f778e5ee7f7   822000   \n",
            "8  3ff81cd0e0861e991bb0106c03c113ca  3967000   \n",
            "9  eba7488e1c67729f045ab43fac426f2e  4165000   \n",
            "\n",
            "                          seller_id  freight_value  \\\n",
            "0  1554a68530182680ad5c8b042c3ab563          28000   \n",
            "1  1554a68530182680ad5c8b042c3ab563          45000   \n",
            "2  a425f92c199eb576938df686728acd20         174000   \n",
            "3  522620dcb18a6b31cd7bdf73665113a9         154000   \n",
            "4  25e6ffe976bd75618accfe16cefcbd0d         147000   \n",
            "5  f09b760d23495ac9a7e00d29b769007c         152000   \n",
            "6  3481aa57cd91f9f9d3fa1fa12d9a3bf7          16000   \n",
            "7  4b1eaadf791bdbbad8c4a35b65236d52          58000   \n",
            "8  86bb7c4b535e49a541baf3266b1c95b1          95000   \n",
            "9  620c87c171fb2a6dd6e8bb4dec959fc6          98000   \n",
            "\n",
            "                        customer_id order_status purchase_date  \\\n",
            "0  08c5351a6aca1c1589a38f244edeee9d      shipped    2016-09-05   \n",
            "1  08c5351a6aca1c1589a38f244edeee9d      shipped    2016-09-05   \n",
            "2  683c54fc24d40ee9f8a6fc179fd9856c     canceled    2016-09-05   \n",
            "3  355077684019f7f60a031656bd7262b8    delivered    2016-10-03   \n",
            "4  b106b360fe2ef8849fbbd056f777b4d5     canceled    2016-10-03   \n",
            "5  7ec40b22510fdbea1b08921dd39e63d8    delivered    2016-10-03   \n",
            "6  4f3f778022aefa22b9f9e52d2c47edf3    delivered    2016-10-04   \n",
            "7  b3a9bf200375f53cc5c6991919c356fd    delivered    2016-10-04   \n",
            "8  53cc5d344077104b59d4f6836a90eb0b    delivered    2016-10-04   \n",
            "9  68c74d748a55f9d29e6698f4b01a0df7    delivered    2016-10-04   \n",
            "\n",
            "      payment_type product_category_name  product_weight_gram  \n",
            "0  virtual account               fashion               1800.0  \n",
            "1  virtual account            automotive               1400.0  \n",
            "2         e-wallet                  toys                700.0  \n",
            "3         e-wallet             utilities                300.0  \n",
            "4         e-wallet               fashion                500.0  \n",
            "5         e-wallet           electronics                400.0  \n",
            "6       debit card                  toys               3100.0  \n",
            "7      credit card            automotive                200.0  \n",
            "8       debit card                beauty                600.0  \n",
            "9      credit card            automotive                610.0  \n"
          ]
        }
      ]
    },
    {
      "cell_type": "code",
      "source": [
        "# Menampilkan 5 baris konten terbawah\n",
        "print(order_df.tail(10))"
      ],
      "metadata": {
        "colab": {
          "base_uri": "https://localhost:8080/"
        },
        "id": "NkIhXbOuIyTN",
        "outputId": "6cb0fb8d-07e4-4ef4-bded-338e8ce30a2c"
      },
      "execution_count": 8,
      "outputs": [
        {
          "output_type": "stream",
          "name": "stdout",
          "text": [
            "                               order_id  quantity  \\\n",
            "49989  e2abaacfbaa87cb128b9c6675bcd2b98         1   \n",
            "49990  e35d5b4ff8dc9aeccf9cd8ce63c07a68         1   \n",
            "49991  e59dbfb7d81fd513f1ffa941fe849c57         1   \n",
            "49992  e821c71ba6efed0813bbc0a01a95f24d         1   \n",
            "49993  e821c71ba6efed0813bbc0a01a95f24d         1   \n",
            "49994  ec88157ad03aa203c3fdfe7bace5ab6b         1   \n",
            "49995  ed60085e92e2aa3debf49159deb34da7         1   \n",
            "49996  ed98c37d860890f940e2acd83629fdd1         2   \n",
            "49997  ed98c37d860890f940e2acd83629fdd1         1   \n",
            "49998  ede4ebbb6e36cbd377eabcc7f5229575         1   \n",
            "\n",
            "                             product_id    price  \\\n",
            "49989  7a9cf133da2a6494259ffeeab11b6276  4514000   \n",
            "49990  8a551a6371de62f6f595bb25c473b877  2667000   \n",
            "49991  9feeadd6b97835152e83e1b25b46f5c4  1923000   \n",
            "49992  f9259c9e7c0f12c70f7a81409680a5ff  3077000   \n",
            "49993  f9259c9e7c0f12c70f7a81409680a5ff   342000   \n",
            "49994  165f86fe8b799a708a20ee4ba125c289  3077000   \n",
            "49995  6e835aea84ae8eb68b8c14878dd43b30  1277000   \n",
            "49996  aca2eb7d00ea1a7b8ebd4e68314663af   486000   \n",
            "49997  aca2eb7d00ea1a7b8ebd4e68314663af   830000   \n",
            "49998  2b0ee2d07306f7c9ac55a43166e9bb4b   215000   \n",
            "\n",
            "                              seller_id  freight_value  \\\n",
            "49989  db4350fd57ae30082dec7acbaacc17f9         158000   \n",
            "49990  04aba03279157f6d4e0fe8ccaf21963c         190000   \n",
            "49991  3fd1e727ba94cfe122d165e176ce7967         175000   \n",
            "49992  c68fb906c8f4b4b946d8386bfa6e5467         183000   \n",
            "49993  c68fb906c8f4b4b946d8386bfa6e5467         173000   \n",
            "49994  7ddcbb64b5bc1ef36ca8c151f6ec77df         172000   \n",
            "49995  4d6d651bd7684af3fffabd5f08d12e5a         130000   \n",
            "49996  955fee9216a65b617aa5c0531780ce60          14000   \n",
            "49997  955fee9216a65b617aa5c0531780ce60         108000   \n",
            "49998  1900267e848ceeba8fa32d80c1a5f5a8         189000   \n",
            "\n",
            "                            customer_id order_status purchase_date  \\\n",
            "49989  d8c600db799de9c8c959530c4c5976ed    delivered    2017-12-15   \n",
            "49990  cea608fc4c1e7191f2fa019426a40ccd    delivered    2017-12-15   \n",
            "49991  affa1ae9fc01158bf723814d1dd9d0ce    delivered    2017-12-15   \n",
            "49992  e92f244376eed380877c6aab4cc5b0e0    delivered    2017-12-15   \n",
            "49993  e92f244376eed380877c6aab4cc5b0e0    delivered    2017-12-15   \n",
            "49994  1642b8087a8ca0c8592becff7e183c98    delivered    2017-12-15   \n",
            "49995  431bbb57d52f3141ab2f33a6a4cf00a6    delivered    2017-12-15   \n",
            "49996  71f8cd490677ee95362201588c0eaff4    delivered    2017-12-15   \n",
            "49997  71f8cd490677ee95362201588c0eaff4    delivered    2017-12-15   \n",
            "49998  60d2d93a97ec1ad751f2ddce9249ba2a    delivered    2017-12-15   \n",
            "\n",
            "          payment_type product_category_name  product_weight_gram  \n",
            "49989         e-wallet           electronics                150.0  \n",
            "49990         e-wallet             utilities               1150.0  \n",
            "49991      credit card                beauty               1064.0  \n",
            "49992  virtual account                  toys                925.0  \n",
            "49993      credit card               fashion                925.0  \n",
            "49994         e-wallet            automotive               2425.0  \n",
            "49995       debit card                beauty               2350.0  \n",
            "49996       debit card                gadget               2600.0  \n",
            "49997         e-wallet                gadget               2600.0  \n",
            "49998      credit card                beauty               1450.0  \n"
          ]
        }
      ]
    },
    {
      "cell_type": "markdown",
      "source": [
        "Statistik Deskriptif dari Data Frame"
      ],
      "metadata": {
        "id": "BcOewc7YJNx9"
      }
    },
    {
      "cell_type": "code",
      "source": [
        "print(order_df.describe())"
      ],
      "metadata": {
        "colab": {
          "base_uri": "https://localhost:8080/"
        },
        "id": "r70cPFrGJQ8V",
        "outputId": "3ffa8878-1dbe-404f-e56e-7a52696bd2e0"
      },
      "execution_count": 9,
      "outputs": [
        {
          "output_type": "stream",
          "name": "stdout",
          "text": [
            "           quantity         price  freight_value  product_weight_gram\n",
            "count  49999.000000  4.999900e+04   49999.000000         49980.000000\n",
            "mean       1.197484  2.607784e+06  104521.390428          2201.830892\n",
            "std        0.722262  1.388312e+06   55179.844962          3929.896875\n",
            "min        1.000000  2.000000e+05    9000.000000            50.000000\n",
            "25%        1.000000  1.410500e+06   57000.000000           300.000000\n",
            "50%        1.000000  2.610000e+06  104000.000000           800.000000\n",
            "75%        1.000000  3.810000e+06  152000.000000          1850.000000\n",
            "max       21.000000  5.000000e+06  200000.000000         40425.000000\n"
          ]
        }
      ]
    },
    {
      "cell_type": "markdown",
      "source": [
        "Melihat statistik deskriptif dari kolom yang tidak bernilai angka"
      ],
      "metadata": {
        "id": "hJRCc1wGJbeV"
      }
    },
    {
      "cell_type": "code",
      "source": [
        "print(order_df.describe(include=[\"object\"]))"
      ],
      "metadata": {
        "colab": {
          "base_uri": "https://localhost:8080/"
        },
        "id": "c5h9xyHcJ1fd",
        "outputId": "4830effe-83dc-4846-8fac-858a12185918"
      },
      "execution_count": 10,
      "outputs": [
        {
          "output_type": "stream",
          "name": "stdout",
          "text": [
            "                                order_id                        product_id  \\\n",
            "count                              49999                             49999   \n",
            "unique                             42694                             16866   \n",
            "top     8272b63d03f5f79c56e9e4120aec44ef  99a4788cb24856965c36a24e339b6058   \n",
            "freq                                  21                               366   \n",
            "\n",
            "                               seller_id                       customer_id  \\\n",
            "count                              49999                             49999   \n",
            "unique                              1777                             42694   \n",
            "top     4a3ca9315b744ce9f8e9374361493884  fc3d1daec319d62d49bfb5e1f83123e9   \n",
            "freq                                1236                                21   \n",
            "\n",
            "       order_status purchase_date     payment_type product_category_name  \n",
            "count         49999         49999            49999                 49999  \n",
            "unique            7           356                4                     8  \n",
            "top       delivered    2017-11-24  virtual account                  toys  \n",
            "freq          48664          1015            12581                  6375  \n"
          ]
        }
      ]
    },
    {
      "cell_type": "code",
      "source": [
        "# memberikan summary statistik dari semua kolom\n",
        "print(order_df.describe(include=\"all\"))"
      ],
      "metadata": {
        "colab": {
          "base_uri": "https://localhost:8080/"
        },
        "id": "MELvhNO2KIX0",
        "outputId": "b11ddb9c-4ae2-426b-f98f-f121ab43a7f9"
      },
      "execution_count": 11,
      "outputs": [
        {
          "output_type": "stream",
          "name": "stdout",
          "text": [
            "                                order_id      quantity  \\\n",
            "count                              49999  49999.000000   \n",
            "unique                             42694           NaN   \n",
            "top     8272b63d03f5f79c56e9e4120aec44ef           NaN   \n",
            "freq                                  21           NaN   \n",
            "mean                                 NaN      1.197484   \n",
            "std                                  NaN      0.722262   \n",
            "min                                  NaN      1.000000   \n",
            "25%                                  NaN      1.000000   \n",
            "50%                                  NaN      1.000000   \n",
            "75%                                  NaN      1.000000   \n",
            "max                                  NaN     21.000000   \n",
            "\n",
            "                              product_id         price  \\\n",
            "count                              49999  4.999900e+04   \n",
            "unique                             16866           NaN   \n",
            "top     99a4788cb24856965c36a24e339b6058           NaN   \n",
            "freq                                 366           NaN   \n",
            "mean                                 NaN  2.607784e+06   \n",
            "std                                  NaN  1.388312e+06   \n",
            "min                                  NaN  2.000000e+05   \n",
            "25%                                  NaN  1.410500e+06   \n",
            "50%                                  NaN  2.610000e+06   \n",
            "75%                                  NaN  3.810000e+06   \n",
            "max                                  NaN  5.000000e+06   \n",
            "\n",
            "                               seller_id  freight_value  \\\n",
            "count                              49999   49999.000000   \n",
            "unique                              1777            NaN   \n",
            "top     4a3ca9315b744ce9f8e9374361493884            NaN   \n",
            "freq                                1236            NaN   \n",
            "mean                                 NaN  104521.390428   \n",
            "std                                  NaN   55179.844962   \n",
            "min                                  NaN    9000.000000   \n",
            "25%                                  NaN   57000.000000   \n",
            "50%                                  NaN  104000.000000   \n",
            "75%                                  NaN  152000.000000   \n",
            "max                                  NaN  200000.000000   \n",
            "\n",
            "                             customer_id order_status purchase_date  \\\n",
            "count                              49999        49999         49999   \n",
            "unique                             42694            7           356   \n",
            "top     fc3d1daec319d62d49bfb5e1f83123e9    delivered    2017-11-24   \n",
            "freq                                  21        48664          1015   \n",
            "mean                                 NaN          NaN           NaN   \n",
            "std                                  NaN          NaN           NaN   \n",
            "min                                  NaN          NaN           NaN   \n",
            "25%                                  NaN          NaN           NaN   \n",
            "50%                                  NaN          NaN           NaN   \n",
            "75%                                  NaN          NaN           NaN   \n",
            "max                                  NaN          NaN           NaN   \n",
            "\n",
            "           payment_type product_category_name  product_weight_gram  \n",
            "count             49999                 49999         49980.000000  \n",
            "unique                4                     8                  NaN  \n",
            "top     virtual account                  toys                  NaN  \n",
            "freq              12581                  6375                  NaN  \n",
            "mean                NaN                   NaN          2201.830892  \n",
            "std                 NaN                   NaN          3929.896875  \n",
            "min                 NaN                   NaN            50.000000  \n",
            "25%                 NaN                   NaN           300.000000  \n",
            "50%                 NaN                   NaN           800.000000  \n",
            "75%                 NaN                   NaN          1850.000000  \n",
            "max                 NaN                   NaN         40425.000000  \n"
          ]
        }
      ]
    },
    {
      "cell_type": "markdown",
      "source": [
        "Statistik Deskriptif dari Data Frame"
      ],
      "metadata": {
        "id": "S931WY4DKcXc"
      }
    },
    {
      "cell_type": "code",
      "source": [
        "# Statistik Deskriptif pada kolom price\n",
        "print(order_df.loc[:, \"price\"].mean())\n",
        "print(order_df.loc[:, \"price\"].median())"
      ],
      "metadata": {
        "colab": {
          "base_uri": "https://localhost:8080/"
        },
        "id": "2v9ZTJ88Khbb",
        "outputId": "354b83af-5ac9-43fd-db68-b2064c506b31"
      },
      "execution_count": 12,
      "outputs": [
        {
          "output_type": "stream",
          "name": "stdout",
          "text": [
            "2607783.9156783135\n",
            "2610000.0\n"
          ]
        }
      ]
    },
    {
      "cell_type": "markdown",
      "source": [
        "Mengenal dan Membuat Distribusi Data dengan Histogram"
      ],
      "metadata": {
        "id": "ii_D3gyEMHx6"
      }
    },
    {
      "cell_type": "code",
      "source": [
        "# Instal libary matplotlib\n",
        "import matplotlib.pyplot as plt\n",
        "\n",
        "# plot histogram kolom: price\n",
        "order_df[[\"price\"]].hist(figsize=(4, 5), bins=10, xlabelsize=8, ylabelsize=8)\n",
        "\n",
        " # Untuk menampilkan histogram plot\n",
        "plt.show()"
      ],
      "metadata": {
        "colab": {
          "base_uri": "https://localhost:8080/",
          "height": 482
        },
        "id": "rIUiV_jpMJ9a",
        "outputId": "d3b18e53-34e3-4054-c322-30bf7b33ab52"
      },
      "execution_count": 14,
      "outputs": [
        {
          "output_type": "display_data",
          "data": {
            "text/plain": [
              "<Figure size 400x500 with 1 Axes>"
            ],
            "image/png": "[encoded data removed]"
          },
          "metadata": {}
        }
      ]
    },
    {
      "cell_type": "markdown",
      "source": [
        "Standar Deviasi dan Varians pada Pandas"
      ],
      "metadata": {
        "id": "198K96PTNIg5"
      }
    },
    {
      "cell_type": "code",
      "source": [
        "# Standar variasi kolom product_weight_gram\n",
        "print(order_df.loc[:, \"product_weight_gram\"].std())\n",
        "\n",
        "# Varians kolom product_weight_gram\n",
        "print(order_df.loc[:, \"product_weight_gram\"].var())\n"
      ],
      "metadata": {
        "colab": {
          "base_uri": "https://localhost:8080/"
        },
        "id": "AzEBz1PONJLp",
        "outputId": "5141d320-9795-454e-94e9-b3cb74459552"
      },
      "execution_count": 13,
      "outputs": [
        {
          "output_type": "stream",
          "name": "stdout",
          "text": [
            "3929.896875372737\n",
            "15444089.451064402\n"
          ]
        }
      ]
    },
    {
      "cell_type": "markdown",
      "source": [
        "Menemukan Outliers Menggunakan Pandas"
      ],
      "metadata": {
        "id": "SKStiygfN70w"
      }
    },
    {
      "cell_type": "code",
      "source": [
        "# Hitung quartile 1\n",
        "Q1 = order_df[[\"product_weight_gram\"]].quantile(0.25)\n",
        "# Hitung quartile 3\n",
        "Q3 = order_df[[\"product_weight_gram\"]].quantile(0.75)\n",
        "# Hitung inter quartile range dan cetak ke console\n",
        "IQR = Q3 - Q1\n",
        "print(IQR)"
      ],
      "metadata": {
        "colab": {
          "base_uri": "https://localhost:8080/"
        },
        "id": "djPXevnnN-eo",
        "outputId": "1ad7dde4-1268-4360-d5e9-701b98ac8e16"
      },
      "execution_count": 14,
      "outputs": [
        {
          "output_type": "stream",
          "name": "stdout",
          "text": [
            "product_weight_gram    1550.0\n",
            "dtype: float64\n"
          ]
        }
      ]
    },
    {
      "cell_type": "markdown",
      "source": [
        "Rename Kolom Data Frame"
      ],
      "metadata": {
        "id": "Wd12X377PB2P"
      }
    },
    {
      "cell_type": "code",
      "source": [
        "# Ganti nama kolom freight_value menjadi shipping_cost\n",
        "order_df.rename(columns={\"freight_value\": \"shipping_cost\"}, inplace=True)\n",
        "print(order_df)"
      ],
      "metadata": {
        "colab": {
          "base_uri": "https://localhost:8080/"
        },
        "id": "aEykvSUEPCaQ",
        "outputId": "4c834fb7-f8af-4e11-cb83-e22fc070d18c"
      },
      "execution_count": 15,
      "outputs": [
        {
          "output_type": "stream",
          "name": "stdout",
          "text": [
            "                               order_id  quantity  \\\n",
            "0      2e7a8482f6fb09756ca50c10d7bfc047         2   \n",
            "1      2e7a8482f6fb09756ca50c10d7bfc047         1   \n",
            "2      e5fa5a7210941f7d56d0208e4e071d35         1   \n",
            "3      3b697a20d9e427646d92567910af6d57         1   \n",
            "4      71303d7e93b399f5bcd537d124c0bcfa         1   \n",
            "...                                 ...       ...   \n",
            "49994  ec88157ad03aa203c3fdfe7bace5ab6b         1   \n",
            "49995  ed60085e92e2aa3debf49159deb34da7         1   \n",
            "49996  ed98c37d860890f940e2acd83629fdd1         2   \n",
            "49997  ed98c37d860890f940e2acd83629fdd1         1   \n",
            "49998  ede4ebbb6e36cbd377eabcc7f5229575         1   \n",
            "\n",
            "                             product_id    price  \\\n",
            "0      f293394c72c9b5fafd7023301fc21fc2  1489000   \n",
            "1      c1488892604e4ba5cff5b4eb4d595400  1756000   \n",
            "2      f3c2d01a84c947b078e32bbef0718962  1707000   \n",
            "3      3ae08df6bcbfe23586dd431c40bddbb7  3071000   \n",
            "4      d2998d7ced12f83f9b832f33cf6507b6  3833000   \n",
            "...                                 ...      ...   \n",
            "49994  165f86fe8b799a708a20ee4ba125c289  3077000   \n",
            "49995  6e835aea84ae8eb68b8c14878dd43b30  1277000   \n",
            "49996  aca2eb7d00ea1a7b8ebd4e68314663af   486000   \n",
            "49997  aca2eb7d00ea1a7b8ebd4e68314663af   830000   \n",
            "49998  2b0ee2d07306f7c9ac55a43166e9bb4b   215000   \n",
            "\n",
            "                              seller_id  shipping_cost  \\\n",
            "0      1554a68530182680ad5c8b042c3ab563          28000   \n",
            "1      1554a68530182680ad5c8b042c3ab563          45000   \n",
            "2      a425f92c199eb576938df686728acd20         174000   \n",
            "3      522620dcb18a6b31cd7bdf73665113a9         154000   \n",
            "4      25e6ffe976bd75618accfe16cefcbd0d         147000   \n",
            "...                                 ...            ...   \n",
            "49994  7ddcbb64b5bc1ef36ca8c151f6ec77df         172000   \n",
            "49995  4d6d651bd7684af3fffabd5f08d12e5a         130000   \n",
            "49996  955fee9216a65b617aa5c0531780ce60          14000   \n",
            "49997  955fee9216a65b617aa5c0531780ce60         108000   \n",
            "49998  1900267e848ceeba8fa32d80c1a5f5a8         189000   \n",
            "\n",
            "                            customer_id order_status purchase_date  \\\n",
            "0      08c5351a6aca1c1589a38f244edeee9d      shipped    2016-09-05   \n",
            "1      08c5351a6aca1c1589a38f244edeee9d      shipped    2016-09-05   \n",
            "2      683c54fc24d40ee9f8a6fc179fd9856c     canceled    2016-09-05   \n",
            "3      355077684019f7f60a031656bd7262b8    delivered    2016-10-03   \n",
            "4      b106b360fe2ef8849fbbd056f777b4d5     canceled    2016-10-03   \n",
            "...                                 ...          ...           ...   \n",
            "49994  1642b8087a8ca0c8592becff7e183c98    delivered    2017-12-15   \n",
            "49995  431bbb57d52f3141ab2f33a6a4cf00a6    delivered    2017-12-15   \n",
            "49996  71f8cd490677ee95362201588c0eaff4    delivered    2017-12-15   \n",
            "49997  71f8cd490677ee95362201588c0eaff4    delivered    2017-12-15   \n",
            "49998  60d2d93a97ec1ad751f2ddce9249ba2a    delivered    2017-12-15   \n",
            "\n",
            "          payment_type product_category_name  product_weight_gram  \n",
            "0      virtual account               fashion               1800.0  \n",
            "1      virtual account            automotive               1400.0  \n",
            "2             e-wallet                  toys                700.0  \n",
            "3             e-wallet             utilities                300.0  \n",
            "4             e-wallet               fashion                500.0  \n",
            "...                ...                   ...                  ...  \n",
            "49994         e-wallet            automotive               2425.0  \n",
            "49995       debit card                beauty               2350.0  \n",
            "49996       debit card                gadget               2600.0  \n",
            "49997         e-wallet                gadget               2600.0  \n",
            "49998      credit card                beauty               1450.0  \n",
            "\n",
            "[49999 rows x 12 columns]\n"
          ]
        }
      ]
    },
    {
      "cell_type": "markdown",
      "source": [
        "Groupby menggunakan Pandas"
      ],
      "metadata": {
        "id": "9sIV31L3PubG"
      }
    },
    {
      "cell_type": "code",
      "source": [
        "# Hitung rata rata dari price per payment_type\n",
        "rata_rata = order_df[\"price\"].groupby(order_df[\"payment_type\"]).mean()\n",
        "print(rata_rata)"
      ],
      "metadata": {
        "colab": {
          "base_uri": "https://localhost:8080/"
        },
        "id": "Mu9w1cmxPsnW",
        "outputId": "10750dff-b8d7-436c-87e6-b1cf6a585630"
      },
      "execution_count": 16,
      "outputs": [
        {
          "output_type": "stream",
          "name": "stdout",
          "text": [
            "payment_type\n",
            "credit card        2.600706e+06\n",
            "debit card         2.611974e+06\n",
            "e-wallet           2.598562e+06\n",
            "virtual account    2.619786e+06\n",
            "Name: price, dtype: float64\n"
          ]
        }
      ]
    },
    {
      "cell_type": "markdown",
      "source": [
        "Sorting Menggunakan Pandas"
      ],
      "metadata": {
        "id": "FFJwPK52hQBf"
      }
    },
    {
      "cell_type": "code",
      "source": [
        "# Hitung harga maksimum pembelian customer\n",
        "sort_harga = order_df.sort_values(by=\"price\", ascending=False)\n",
        "print(sort_harga)"
      ],
      "metadata": {
        "colab": {
          "base_uri": "https://localhost:8080/"
        },
        "id": "1ZrMPhIwhQpQ",
        "outputId": "392ea90e-98aa-49a4-b1ed-fa4d056577eb"
      },
      "execution_count": 17,
      "outputs": [
        {
          "output_type": "stream",
          "name": "stdout",
          "text": [
            "                               order_id  quantity  \\\n",
            "22618  a767765cf25c6fcfd8307499da9205d2         1   \n",
            "41958  2711089c7fec59d4dc8483e3c6a12fa3         1   \n",
            "47074  f6134169ca6f0cdfbe6458ebb5731613         1   \n",
            "21072  c8947a583ab9791a5a9d02384cb84302         1   \n",
            "37085  d7b2d3b902441cf3dd12cd125533217d         1   \n",
            "...                                 ...       ...   \n",
            "42166  54220fcc516cabe9ec84b210c0765ef2         1   \n",
            "42452  9960ee97c2f8d801a200a01893b3942f         1   \n",
            "31745  59a19c83ff825948739dd1601cc107b6         1   \n",
            "42025  36cdcd48e9697951eef9c32ef39dc9f3         1   \n",
            "33786  0d9e86e02c1a823b20c03ea29d616607         1   \n",
            "\n",
            "                             product_id    price  \\\n",
            "22618  48698ba0cfe847b41430fa00081b5619  5000000   \n",
            "41958  7c1bd920dbdf22470b68bde975dd3ccf  5000000   \n",
            "47074  2ea92fab7565c4fe9f91a5e4e1756258  5000000   \n",
            "21072  f8cfb63e323be2e1c4172f255d61843d  5000000   \n",
            "37085  35afc973633aaeb6b877ff57b2793310  5000000   \n",
            "...                                 ...      ...   \n",
            "42166  1166bc797ddf5fb009c376d133f61204   200000   \n",
            "42452  db5efde3ad0cc579b130d71c4b2db522   200000   \n",
            "31745  eb38a7604070a2b8465101ed53cba72b   200000   \n",
            "42025  de75785dc5be712c4d4ed4ec5b422ce1   200000   \n",
            "33786  f93213a23c50edc16c27b96333f734dc   200000   \n",
            "\n",
            "                              seller_id  shipping_cost  \\\n",
            "22618  5962468f885ea01a1b6a97a218797b0a          96000   \n",
            "41958  cc419e0650a3c5ba77189a1882b7556a          31000   \n",
            "47074  3d871de0142ce09b7081e2b9d1733cb1         196000   \n",
            "21072  4a3ca9315b744ce9f8e9374361493884         184000   \n",
            "37085  4a3ca9315b744ce9f8e9374361493884         118000   \n",
            "...                                 ...            ...   \n",
            "42166  5cbbd5a299cab112b7bf23862255e43e         175000   \n",
            "42452  4869f7a5dfa277a7dca6462dcf3b52b2          26000   \n",
            "31745  e6a69c4a27dfdd98ffe5aa757ad744bc         112000   \n",
            "42025  7e93a43ef30c4f03f38b393420bc753a          83000   \n",
            "33786  46dc3b2cc0980fb8ec44634e21d2718e         141000   \n",
            "\n",
            "                            customer_id order_status purchase_date  \\\n",
            "22618  8634716353031b0f8a834143916f9004    delivered    2017-08-06   \n",
            "41958  0ef59d9bb071def3dbf7e7b055965e95    delivered    2017-11-24   \n",
            "47074  cbfdcc896d6ebc83c21fdcf4f4762efc    delivered    2017-12-04   \n",
            "21072  57c047e791e69bef0af220b0a165a22d    delivered    2017-07-27   \n",
            "37085  217344c7c334e16c8e76551b4b240c1d    delivered    2017-10-31   \n",
            "...                                 ...          ...           ...   \n",
            "42166  24e7dc2ff8c07126358af519732b8558    delivered    2017-11-24   \n",
            "42452  54af40597a8931fea3fbb2b37656fc8d    delivered    2017-11-24   \n",
            "31745  2bf857ee40b763708fe19cf877cac511    delivered    2017-10-01   \n",
            "42025  e277b8e4745cacd511e18bd6d7686227    delivered    2017-11-24   \n",
            "33786  edaad9e07395713e9f5a2124f6c846a1    delivered    2017-10-13   \n",
            "\n",
            "          payment_type product_category_name  product_weight_gram  \n",
            "22618       debit card                beauty                200.0  \n",
            "41958         e-wallet               fashion                200.0  \n",
            "47074  virtual account                gadget              10600.0  \n",
            "21072      credit card                beauty                550.0  \n",
            "37085       debit card                beauty               1825.0  \n",
            "...                ...                   ...                  ...  \n",
            "42166         e-wallet                gadget               1100.0  \n",
            "42452      credit card            automotive               6663.0  \n",
            "31745         e-wallet                beauty                550.0  \n",
            "42025  virtual account           electronics                550.0  \n",
            "33786       debit card            automotive               7550.0  \n",
            "\n",
            "[49999 rows x 12 columns]\n"
          ]
        }
      ]
    },
    {
      "cell_type": "markdown",
      "source": [
        "Sorting menggunakan pandas"
      ],
      "metadata": {
        "id": "Lb8y0-SlphL3"
      }
    },
    {
      "cell_type": "code",
      "metadata": {
        "colab": {
          "base_uri": "https://localhost:8080/"
        },
        "id": "220b2d5b",
        "outputId": "63dd3247-5158-4706-d470-22624f31079b"
      },
      "source": [
        "# Hitung harga maksimum pembelian customer\n",
        "sort_harga = order_df.sort_values(by=\"price\", ascending=False)\n",
        "print(sort_harga)"
      ],
      "execution_count": 21,
      "outputs": [
        {
          "output_type": "stream",
          "name": "stdout",
          "text": [
            "                               order_id  quantity  \\\n",
            "22618  a767765cf25c6fcfd8307499da9205d2         1   \n",
            "41958  2711089c7fec59d4dc8483e3c6a12fa3         1   \n",
            "47074  f6134169ca6f0cdfbe6458ebb5731613         1   \n",
            "21072  c8947a583ab9791a5a9d02384cb84302         1   \n",
            "37085  d7b2d3b902441cf3dd12cd125533217d         1   \n",
            "...                                 ...       ...   \n",
            "42166  54220fcc516cabe9ec84b210c0765ef2         1   \n",
            "42452  9960ee97c2f8d801a200a01893b3942f         1   \n",
            "31745  59a19c83ff825948739dd1601cc107b6         1   \n",
            "42025  36cdcd48e9697951eef9c32ef39dc9f3         1   \n",
            "33786  0d9e86e02c1a823b20c03ea29d616607         1   \n",
            "\n",
            "                             product_id    price  \\\n",
            "22618  48698ba0cfe847b41430fa00081b5619  5000000   \n",
            "41958  7c1bd920dbdf22470b68bde975dd3ccf  5000000   \n",
            "47074  2ea92fab7565c4fe9f91a5e4e1756258  5000000   \n",
            "21072  f8cfb63e323be2e1c4172f255d61843d  5000000   \n",
            "37085  35afc973633aaeb6b877ff57b2793310  5000000   \n",
            "...                                 ...      ...   \n",
            "42166  1166bc797ddf5fb009c376d133f61204   200000   \n",
            "42452  db5efde3ad0cc579b130d71c4b2db522   200000   \n",
            "31745  eb38a7604070a2b8465101ed53cba72b   200000   \n",
            "42025  de75785dc5be712c4d4ed4ec5b422ce1   200000   \n",
            "33786  f93213a23c50edc16c27b96333f734dc   200000   \n",
            "\n",
            "                              seller_id  freight_value  \\\n",
            "22618  5962468f885ea01a1b6a97a218797b0a          96000   \n",
            "41958  cc419e0650a3c5ba77189a1882b7556a          31000   \n",
            "47074  3d871de0142ce09b7081e2b9d1733cb1         196000   \n",
            "21072  4a3ca9315b744ce9f8e9374361493884         184000   \n",
            "37085  4a3ca9315b744ce9f8e9374361493884         118000   \n",
            "...                                 ...            ...   \n",
            "42166  5cbbd5a299cab112b7bf23862255e43e         175000   \n",
            "42452  4869f7a5dfa277a7dca6462dcf3b52b2          26000   \n",
            "31745  e6a69c4a27dfdd98ffe5aa757ad744bc         112000   \n",
            "42025  7e93a43ef30c4f03f38b393420bc753a          83000   \n",
            "33786  46dc3b2cc0980fb8ec44634e21d2718e         141000   \n",
            "\n",
            "                            customer_id order_status purchase_date  \\\n",
            "22618  8634716353031b0f8a834143916f9004    delivered    2017-08-06   \n",
            "41958  0ef59d9bb071def3dbf7e7b055965e95    delivered    2017-11-24   \n",
            "47074  cbfdcc896d6ebc83c21fdcf4f4762efc    delivered    2017-12-04   \n",
            "21072  57c047e791e69bef0af220b0a165a22d    delivered    2017-07-27   \n",
            "37085  217344c7c334e16c8e76551b4b240c1d    delivered    2017-10-31   \n",
            "...                                 ...          ...           ...   \n",
            "42166  24e7dc2ff8c07126358af519732b8558    delivered    2017-11-24   \n",
            "42452  54af40597a8931fea3fbb2b37656fc8d    delivered    2017-11-24   \n",
            "31745  2bf857ee40b763708fe19cf877cac511    delivered    2017-10-01   \n",
            "42025  e277b8e4745cacd511e18bd6d7686227    delivered    2017-11-24   \n",
            "33786  edaad9e07395713e9f5a2124f6c846a1    delivered    2017-10-13   \n",
            "\n",
            "          payment_type product_category_name  product_weight_gram  \n",
            "22618       debit card                beauty                200.0  \n",
            "41958         e-wallet               fashion                200.0  \n",
            "47074  virtual account                gadget              10600.0  \n",
            "21072      credit card                beauty                550.0  \n",
            "37085       debit card                beauty               1825.0  \n",
            "...                ...                   ...                  ...  \n",
            "42166         e-wallet                gadget               1100.0  \n",
            "42452      credit card            automotive               6663.0  \n",
            "31745         e-wallet                beauty                550.0  \n",
            "42025  virtual account           electronics                550.0  \n",
            "33786       debit card            automotive               7550.0  \n",
            "\n",
            "[49999 rows x 12 columns]\n"
          ]
        }
      ]
    },
    {
      "cell_type": "markdown",
      "source": [
        "# Mini Project\n",
        "\n",
        "## Tugas dari Andra\n",
        "Aksara, bisa tolong bantu mengurus beberapa data penjualan dari dataset order.csv? Saya sedang rapat dan bahan ini ditunggu dalam pembahasan cabang supermarket kita. Berikut ya detailnya:\n",
        "\n",
        "1. Median price yang dibayar customer dari masing-masing metode pembayaran.\n",
        "2. Tentukan metode pembayaran yang memiliki basket size (rataan median price) terbesar.\n",
        "3. Ubah freight_value menjadi shipping_cost dan cari shipping_cost termahal dari data penjualan tersebut menggunakan sort.\n",
        "4. Untuk setiap product_category_name, berapa rata-rata weight produk tersebut dan standar deviasi mana yang terkecil dari weight tersebut,\n",
        "5. Buat histogram quantity penjualan dari dataset tersebut untuk melihat persebaran quantity penjualan tersebut dengan bins = 5 dan figsize= (4,5)\n",
        "\n",
        "\n",
        "Khusus poin 4, tolong diperhatikan lebih ya, Aksara karena hasil analisisnya akan digunakan kepala cabang dalam menyusun strategi free ongkir.\n",
        "\n",
        "Kubalas email itu segera, OK! Hasilnya akan selesai sebelum makan siang ya. You can count on me, hehehe."
      ],
      "metadata": {
        "id": "UClxLR1rplX-"
      }
    },
    {
      "cell_type": "code",
      "source": [
        "# Mengimport library dan membacara dataframe\n",
        "import pandas as pd\n",
        "import matplotlib.pyplot as plt\n",
        "order_df = pd.read_csv(\"https://storage.googleapis.com/dqlab-dataset/order.csv\")\n",
        "\n",
        "# Median price yang dibayar customer dari masing-masing metode pembayaran.\n",
        "median_price = order_df[\"price\"].groupby(order_df[\"payment_type\"]).median()\n",
        "print(median_price)\n",
        "\n",
        "# Ubah freight_value menjadi shipping_cost dan cari shipping_cost\n",
        "# termahal dari data penjualan tersebut menggunakan sort.\n",
        "order_df.rename(columns={\"freight_value\": \"shipping_cost\"}, inplace=True)\n",
        "sort_value = order_df.sort_values(by=\"shipping_cost\", ascending=0)\n",
        "print(sort_value)\n",
        "\n",
        "# Untuk product_category_name, berapa  rata-rata weight produk tersebut\n",
        "# dan standar deviasi mana yang terkecil dari weight tersebut,\n",
        "mean_value = order_df[\"product_weight_gram\"].groupby(order_df[\"product_category_name\"]).mean()\n",
        "print(mean_value.sort_values())\n",
        "std_value = order_df[\"product_weight_gram\"].groupby(order_df[\"product_category_name\"]).std()\n",
        "print(std_value.sort_values())\n",
        "\n",
        "# Buat histogram quantity penjualan dari dataset tersebutuntuk melihat persebaran quantity\n",
        "# penjualan tersebut dengan bins = 5 dan figsize= (4,5)\n",
        "order_df[[\"quantity\"]].hist(figsize=(4, 5), bins=5)\n",
        "plt.show()"
      ],
      "metadata": {
        "colab": {
          "base_uri": "https://localhost:8080/",
          "height": 1000
        },
        "id": "9z3IK4P7p1a4",
        "outputId": "5d28eef1-8ea2-459c-e7e8-305101ed70cc"
      },
      "execution_count": 22,
      "outputs": [
        {
          "output_type": "stream",
          "name": "stdout",
          "text": [
            "payment_type\n",
            "credit card        2587500.0\n",
            "debit card         2621500.0\n",
            "e-wallet           2589000.0\n",
            "virtual account    2643000.0\n",
            "Name: price, dtype: float64\n",
            "                               order_id  quantity  \\\n",
            "27220  41a207671f292d00ffea01b171f2a30b         1   \n",
            "25006  4e64db31eb34a4e6c86235fedead69eb         1   \n",
            "48803  588d8a3645cd2c4d3b9773d212a185e5         1   \n",
            "25072  a7a43f469c0d7bdb0a23a82db125aefa         1   \n",
            "20407  852b442a5bc38e624ea9f60305418cea         1   \n",
            "...                                 ...       ...   \n",
            "5651   217bb07ca5be930bc84e050acb4817c2         1   \n",
            "4558   f0fc39347a86802c8df13bde9111b01a         1   \n",
            "33858  724d428017f2d1e905e1e695296e90f5         1   \n",
            "1350   90207c312f193fbd229671833bf08d47         1   \n",
            "30807  95d1d57cd27cd0857ef85f53ad2ed3b8         1   \n",
            "\n",
            "                             product_id    price  \\\n",
            "27220  7703b8cb5b77fbb36518ea91e2ca734f  3645000   \n",
            "25006  f3663060e64c25fba789fe033263da67  2727000   \n",
            "48803  20332c1e41e427864b3561a657caaf0d  1633000   \n",
            "25072  5eb564652db742ff8f28759cd8d2652a  4380000   \n",
            "20407  01f76c07f91a533acd46cc6ab989be23  3278000   \n",
            "...                                 ...      ...   \n",
            "5651   5a6e53c3b4e8684b13388d6aa4afdf12  2990000   \n",
            "4558   d6be8874a210252bd164fadd394d9e95  2190000   \n",
            "33858  5264bb8a8395e30c0d59ac73be2c7613  1717000   \n",
            "1350   4c35791f944cf1550e8ae288b3f9e258  1816000   \n",
            "30807  780d24bfcf24b143f013354507158385  3035000   \n",
            "\n",
            "                              seller_id  shipping_cost  \\\n",
            "27220  6560211a19b47992c3666cc44a7e94c0         200000   \n",
            "25006  4e922959ae960d389249c378d1c939f5         200000   \n",
            "48803  fa1c13f2614d7b5c4749cbc52fecda94         200000   \n",
            "25072  4e922959ae960d389249c378d1c939f5         200000   \n",
            "20407  7142540dd4c91e2237acb7e911c4eba2         200000   \n",
            "...                                 ...            ...   \n",
            "5651   7299e27ed73d2ad986de7f7c77d919fa           9000   \n",
            "4558   7a67c85e85bb2ce8582c35f2203ad736           9000   \n",
            "33858  2138ccb85b11a4ec1e37afbd1c8eda1f           9000   \n",
            "1350   79ee721b6f766066a80264402548d359           9000   \n",
            "30807  e9d99831abad74458942f21e16f33f92           9000   \n",
            "\n",
            "                            customer_id order_status purchase_date  \\\n",
            "27220  3619df7a89a873ba249bf47e9fc6ed2c    delivered    2017-09-04   \n",
            "25006  046b12442afd04050724f9e956abe30c    delivered    2017-08-21   \n",
            "48803  d0c8dedcb2e16a6245f6a9f836385068    delivered    2017-12-11   \n",
            "25072  d7c95dc1ece116c14188092ead3d0951    delivered    2017-08-21   \n",
            "20407  2cadd739d6836feeb65364203eb87e68    delivered    2017-07-23   \n",
            "...                                 ...          ...           ...   \n",
            "5651   41998b889bd03ec46e076f951c3879db    delivered    2017-03-24   \n",
            "4558   ced8cf14f3a428194fe15bb151edec3d    delivered    2017-03-13   \n",
            "33858  3d7ef278f0cc7f7dccf8cc0ca24c8155    delivered    2017-10-13   \n",
            "1350   f66491ab775d85d3a33e23dfee765c38   processing    2017-02-01   \n",
            "30807  d47db9098abd035789999ed3185fb607    delivered    2017-09-25   \n",
            "\n",
            "          payment_type product_category_name  product_weight_gram  \n",
            "27220         e-wallet                beauty                250.0  \n",
            "25006       debit card            automotive                410.0  \n",
            "48803       debit card           electronics                700.0  \n",
            "25072       debit card               fashion                  NaN  \n",
            "20407      credit card                beauty                750.0  \n",
            "...                ...                   ...                  ...  \n",
            "5651          e-wallet             utilities                200.0  \n",
            "4558   virtual account                  toys                700.0  \n",
            "33858         e-wallet                  toys                 83.0  \n",
            "1350   virtual account           electronics                424.0  \n",
            "30807         e-wallet           electronics                600.0  \n",
            "\n",
            "[49999 rows x 12 columns]\n",
            "product_category_name\n",
            "beauty         2120.088396\n",
            "automotive     2129.559039\n",
            "electronics    2144.751191\n",
            "toys           2203.863643\n",
            "gadget         2229.632942\n",
            "fashion        2246.516901\n",
            "sports         2251.879909\n",
            "utilities      2291.029868\n",
            "Name: product_weight_gram, dtype: float64\n",
            "product_category_name\n",
            "automotive     3799.884166\n",
            "beauty         3837.474929\n",
            "electronics    3839.271768\n",
            "fashion        3858.885213\n",
            "gadget         3955.792741\n",
            "toys           3956.814749\n",
            "sports         4032.850044\n",
            "utilities      4150.509909\n",
            "Name: product_weight_gram, dtype: float64\n"
          ]
        },
        {
          "output_type": "display_data",
          "data": {
            "text/plain": [
              "<Figure size 400x500 with 1 Axes>"
            ],
            "image/png": "[encoded data removed]"
          },
          "metadata": {}
        }
      ]
    }
  ]
}