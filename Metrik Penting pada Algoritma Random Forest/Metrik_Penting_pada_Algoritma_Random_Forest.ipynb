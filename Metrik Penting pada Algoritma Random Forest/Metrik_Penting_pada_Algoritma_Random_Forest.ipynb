{
  "nbformat": 4,
  "nbformat_minor": 0,
  "metadata": {
    "colab": {
      "provenance": []
    },
    "kernelspec": {
      "name": "python3",
      "display_name": "Python 3"
    },
    "language_info": {
      "name": "python"
    }
  },
  "cells": [
    {
      "cell_type": "markdown",
      "source": [
        "import library"
      ],
      "metadata": {
        "id": "DQysyjxflCVI"
      }
    },
    {
      "cell_type": "code",
      "execution_count": 30,
      "metadata": {
        "id": "YqfenzBchFwo"
      },
      "outputs": [],
      "source": [
        "#import library\n",
        "import pandas as pd\n",
        "from sklearn.model_selection import train_test_split\n",
        "from sklearn.ensemble import RandomForestClassifier\n",
        "import matplotlib.pyplot as plt\n",
        "import numpy as np\n",
        "\n",
        "pd.set_option('display.max_column', 10)"
      ]
    },
    {
      "cell_type": "markdown",
      "source": [
        "Membaca dataset"
      ],
      "metadata": {
        "id": "XEwpYXGZk_Yg"
      }
    },
    {
      "cell_type": "code",
      "source": [
        "#membaca dataset credit_scoring_dqlab dari file excel\n",
        "dataset_credit_scoring = pd.read_excel('https://storage.googleapis.com/dqlab-dataset/credit_scoring_dqlab.xlsx')\n",
        "\n",
        "print('Dataset credit scoring:')\n",
        "print(dataset_credit_scoring)"
      ],
      "metadata": {
        "colab": {
          "base_uri": "https://localhost:8080/"
        },
        "id": "N8pDFmtMkUix",
        "outputId": "361b8f30-a8b9-4db9-8a85-8037d9975e3d"
      },
      "execution_count": 12,
      "outputs": [
        {
          "output_type": "stream",
          "name": "stdout",
          "text": [
            "Dataset credit scoring:\n",
            "    kode_kontrak  pendapatan_setahun_juta kpr_aktif  durasi_pinjaman_bulan  \\\n",
            "0     AGR-000001                      295        YA                     48   \n",
            "1     AGR-000011                      271        YA                     36   \n",
            "2     AGR-000030                      159     TIDAK                     12   \n",
            "3     AGR-000043                      210        YA                     12   \n",
            "4     AGR-000049                      165     TIDAK                     36   \n",
            "..           ...                      ...       ...                    ...   \n",
            "895   AGR-010739                      112        YA                     48   \n",
            "896   AGR-010744                      120        YA                     48   \n",
            "897   AGR-010758                      166     TIDAK                     24   \n",
            "898   AGR-010775                      196     TIDAK                     48   \n",
            "899   AGR-010790                      204     TIDAK                     24   \n",
            "\n",
            "     jumlah_tanggungan rata_rata_overdue  risk_rating  \n",
            "0                    5      61 - 90 days            4  \n",
            "1                    5      61 - 90 days            4  \n",
            "2                    0       0 - 30 days            1  \n",
            "3                    3      46 - 60 days            3  \n",
            "4                    0      31 - 45 days            2  \n",
            "..                 ...               ...          ...  \n",
            "895                  5         > 90 days            5  \n",
            "896                  2      46 - 60 days            3  \n",
            "897                  2       0 - 30 days            1  \n",
            "898                  0      31 - 45 days            2  \n",
            "899                  2       0 - 30 days            1  \n",
            "\n",
            "[900 rows x 7 columns]\n"
          ]
        }
      ]
    },
    {
      "cell_type": "code",
      "source": [
        "# Menampilkan informasi umum tentang dataset: jumlah baris, kolom dan tipe data\n",
        "print('\\nInformasi dataset:')\n",
        "dataset_credit_scoring.info()"
      ],
      "metadata": {
        "colab": {
          "base_uri": "https://localhost:8080/"
        },
        "id": "-gZDSUNUkfph",
        "outputId": "4e9c67c6-24b7-4831-bce6-0425316f43ed"
      },
      "execution_count": 13,
      "outputs": [
        {
          "output_type": "stream",
          "name": "stdout",
          "text": [
            "\n",
            "Informasi dataset:\n",
            "<class 'pandas.core.frame.DataFrame'>\n",
            "RangeIndex: 900 entries, 0 to 899\n",
            "Data columns (total 7 columns):\n",
            " #   Column                   Non-Null Count  Dtype \n",
            "---  ------                   --------------  ----- \n",
            " 0   kode_kontrak             900 non-null    object\n",
            " 1   pendapatan_setahun_juta  900 non-null    int64 \n",
            " 2   kpr_aktif                900 non-null    object\n",
            " 3   durasi_pinjaman_bulan    900 non-null    int64 \n",
            " 4   jumlah_tanggungan        900 non-null    int64 \n",
            " 5   rata_rata_overdue        900 non-null    object\n",
            " 6   risk_rating              900 non-null    int64 \n",
            "dtypes: int64(4), object(3)\n",
            "memory usage: 49.3+ KB\n"
          ]
        }
      ]
    },
    {
      "cell_type": "markdown",
      "source": [
        "Mengubah Kolom kpr_aktif Menjadi Numerik"
      ],
      "metadata": {
        "id": "ZWgmvT8VlIGI"
      }
    },
    {
      "cell_type": "code",
      "source": [
        "#mengubah data kpr_aktif menjadi tipe integer\n",
        "dataset_credit_scoring['kpr_aktif'].replace(['YA', 'TIDAK'],[1, 0], inplace=True)\n",
        "\n",
        "print('Dataset credit scoring:')\n",
        "print(dataset_credit_scoring)"
      ],
      "metadata": {
        "colab": {
          "base_uri": "https://localhost:8080/"
        },
        "id": "muzR5lWplVU4",
        "outputId": "8e24bca2-e046-45c9-ddfe-cacbea367627"
      },
      "execution_count": 14,
      "outputs": [
        {
          "output_type": "stream",
          "name": "stdout",
          "text": [
            "Dataset credit scoring:\n",
            "    kode_kontrak  pendapatan_setahun_juta  kpr_aktif  durasi_pinjaman_bulan  \\\n",
            "0     AGR-000001                      295          1                     48   \n",
            "1     AGR-000011                      271          1                     36   \n",
            "2     AGR-000030                      159          0                     12   \n",
            "3     AGR-000043                      210          1                     12   \n",
            "4     AGR-000049                      165          0                     36   \n",
            "..           ...                      ...        ...                    ...   \n",
            "895   AGR-010739                      112          1                     48   \n",
            "896   AGR-010744                      120          1                     48   \n",
            "897   AGR-010758                      166          0                     24   \n",
            "898   AGR-010775                      196          0                     48   \n",
            "899   AGR-010790                      204          0                     24   \n",
            "\n",
            "     jumlah_tanggungan rata_rata_overdue  risk_rating  \n",
            "0                    5      61 - 90 days            4  \n",
            "1                    5      61 - 90 days            4  \n",
            "2                    0       0 - 30 days            1  \n",
            "3                    3      46 - 60 days            3  \n",
            "4                    0      31 - 45 days            2  \n",
            "..                 ...               ...          ...  \n",
            "895                  5         > 90 days            5  \n",
            "896                  2      46 - 60 days            3  \n",
            "897                  2       0 - 30 days            1  \n",
            "898                  0      31 - 45 days            2  \n",
            "899                  2       0 - 30 days            1  \n",
            "\n",
            "[900 rows x 7 columns]\n"
          ]
        },
        {
          "output_type": "stream",
          "name": "stderr",
          "text": [
            "/tmp/ipython-input-14-3655420385.py:2: FutureWarning: A value is trying to be set on a copy of a DataFrame or Series through chained assignment using an inplace method.\n",
            "The behavior will change in pandas 3.0. This inplace method will never work because the intermediate object on which we are setting values always behaves as a copy.\n",
            "\n",
            "For example, when doing 'df[col].method(value, inplace=True)', try using 'df.method({col: value}, inplace=True)' or df[col] = df[col].method(value) instead, to perform the operation inplace on the original object.\n",
            "\n",
            "\n",
            "  dataset_credit_scoring['kpr_aktif'].replace(['YA', 'TIDAK'],[1, 0], inplace=True)\n",
            "/tmp/ipython-input-14-3655420385.py:2: FutureWarning: Downcasting behavior in `replace` is deprecated and will be removed in a future version. To retain the old behavior, explicitly call `result.infer_objects(copy=False)`. To opt-in to the future behavior, set `pd.set_option('future.no_silent_downcasting', True)`\n",
            "  dataset_credit_scoring['kpr_aktif'].replace(['YA', 'TIDAK'],[1, 0], inplace=True)\n"
          ]
        }
      ]
    },
    {
      "cell_type": "markdown",
      "source": [
        "Mengubah Kolom rata_rata_overdue Menjadi Numerik"
      ],
      "metadata": {
        "id": "QM8i0x4OlYWH"
      }
    },
    {
      "cell_type": "code",
      "source": [
        "# Label Encoding rata_rata_overdue, untuk menghilangkan value string, sehingga bisa dibuat dalam bentuk numeric array, dan tidak error saat membuat modelnya\n",
        "dataset_credit_scoring['rata_rata_overdue'].replace({'0 - 30 days':1, '31 - 45 days':2, '46 - 60 days':3 , '61 - 90 days':4, '> 90 days':5}, inplace=True)\n",
        "\n",
        "print('Dataset credit scoring:')\n",
        "print(dataset_credit_scoring)"
      ],
      "metadata": {
        "colab": {
          "base_uri": "https://localhost:8080/"
        },
        "id": "6PD62oBIldNI",
        "outputId": "691d5a85-29e1-4707-ab3b-12a68be13d35"
      },
      "execution_count": 15,
      "outputs": [
        {
          "output_type": "stream",
          "name": "stdout",
          "text": [
            "Dataset credit scoring:\n",
            "    kode_kontrak  pendapatan_setahun_juta  kpr_aktif  durasi_pinjaman_bulan  \\\n",
            "0     AGR-000001                      295          1                     48   \n",
            "1     AGR-000011                      271          1                     36   \n",
            "2     AGR-000030                      159          0                     12   \n",
            "3     AGR-000043                      210          1                     12   \n",
            "4     AGR-000049                      165          0                     36   \n",
            "..           ...                      ...        ...                    ...   \n",
            "895   AGR-010739                      112          1                     48   \n",
            "896   AGR-010744                      120          1                     48   \n",
            "897   AGR-010758                      166          0                     24   \n",
            "898   AGR-010775                      196          0                     48   \n",
            "899   AGR-010790                      204          0                     24   \n",
            "\n",
            "     jumlah_tanggungan  rata_rata_overdue  risk_rating  \n",
            "0                    5                  4            4  \n",
            "1                    5                  4            4  \n",
            "2                    0                  1            1  \n",
            "3                    3                  3            3  \n",
            "4                    0                  2            2  \n",
            "..                 ...                ...          ...  \n",
            "895                  5                  5            5  \n",
            "896                  2                  3            3  \n",
            "897                  2                  1            1  \n",
            "898                  0                  2            2  \n",
            "899                  2                  1            1  \n",
            "\n",
            "[900 rows x 7 columns]\n"
          ]
        },
        {
          "output_type": "stream",
          "name": "stderr",
          "text": [
            "/tmp/ipython-input-15-58999368.py:2: FutureWarning: A value is trying to be set on a copy of a DataFrame or Series through chained assignment using an inplace method.\n",
            "The behavior will change in pandas 3.0. This inplace method will never work because the intermediate object on which we are setting values always behaves as a copy.\n",
            "\n",
            "For example, when doing 'df[col].method(value, inplace=True)', try using 'df.method({col: value}, inplace=True)' or df[col] = df[col].method(value) instead, to perform the operation inplace on the original object.\n",
            "\n",
            "\n",
            "  dataset_credit_scoring['rata_rata_overdue'].replace({'0 - 30 days':1, '31 - 45 days':2, '46 - 60 days':3 , '61 - 90 days':4, '> 90 days':5}, inplace=True)\n",
            "/tmp/ipython-input-15-58999368.py:2: FutureWarning: Downcasting behavior in `replace` is deprecated and will be removed in a future version. To retain the old behavior, explicitly call `result.infer_objects(copy=False)`. To opt-in to the future behavior, set `pd.set_option('future.no_silent_downcasting', True)`\n",
            "  dataset_credit_scoring['rata_rata_overdue'].replace({'0 - 30 days':1, '31 - 45 days':2, '46 - 60 days':3 , '61 - 90 days':4, '> 90 days':5}, inplace=True)\n"
          ]
        }
      ]
    },
    {
      "cell_type": "markdown",
      "source": [
        "Feature Matrix X (Independent Variables)"
      ],
      "metadata": {
        "id": "cBPR1DdJlzAA"
      }
    },
    {
      "cell_type": "code",
      "source": [
        "#untuk X (independent variables), data yang dimasukkan semua persyaratan untuk membuat risk_rating (variabel dependen), tidak memerlukan kode_kontrak, sehingga kolom kode_kontrak,  risk_rating, dan rata_rata_overdue dibuang\n",
        "X=dataset_credit_scoring.drop(columns=['kode_kontrak', 'risk_rating', 'rata_rata_overdue']).values\n",
        "print('Ukuran matrix feature X:', X.shape)"
      ],
      "metadata": {
        "colab": {
          "base_uri": "https://localhost:8080/"
        },
        "id": "JF1GrQT2mrm5",
        "outputId": "314bbd53-c309-4159-b425-cfb37df688cd"
      },
      "execution_count": 16,
      "outputs": [
        {
          "output_type": "stream",
          "name": "stdout",
          "text": [
            "Ukuran matrix feature X: (900, 4)\n"
          ]
        }
      ]
    },
    {
      "cell_type": "markdown",
      "source": [
        "Target y (Dependent Variable)"
      ],
      "metadata": {
        "id": "4F3oTeAemukw"
      }
    },
    {
      "cell_type": "code",
      "source": [
        "#kolom Y (target/dependent variable) adalah target nilai yang harus dibuat sistem ketika membaca data X isinya adalah kolom risk_rating\n",
        "y = dataset_credit_scoring['risk_rating'].values\n",
        "print('Ukuran target y:', y.shape)"
      ],
      "metadata": {
        "colab": {
          "base_uri": "https://localhost:8080/"
        },
        "id": "nJIIPt0sm-_a",
        "outputId": "a9fc7937-5360-46ca-ca52-425a6f259652"
      },
      "execution_count": 17,
      "outputs": [
        {
          "output_type": "stream",
          "name": "stdout",
          "text": [
            "Ukuran target y: (900,)\n"
          ]
        }
      ]
    },
    {
      "cell_type": "markdown",
      "source": [
        "Data Training dan Data Testing"
      ],
      "metadata": {
        "id": "gpPdmUhVoZdA"
      }
    },
    {
      "cell_type": "code",
      "source": [
        "#membagi data training dan data testing, dimana training 70% dan testing 30%\n",
        "X_train, X_test, y_train, y_test = train_test_split(X, y, test_size=0.3, random_state=0)\n",
        "\n",
        "#menampilkan jumlah data train dan test\n",
        "print('Ukuran X_train:', X_train.shape)\n",
        "print('Ukuran X_test :', X_test.shape)\n",
        "print('Ukuran y_train:', y_train.shape)\n",
        "print('Ukuran y_test :', y_test.shape)"
      ],
      "metadata": {
        "colab": {
          "base_uri": "https://localhost:8080/"
        },
        "id": "1rl2cGQAoaPo",
        "outputId": "d269a6e1-48dc-4d5d-8f36-e07abeaedbc7"
      },
      "execution_count": 18,
      "outputs": [
        {
          "output_type": "stream",
          "name": "stdout",
          "text": [
            "Ukuran X_train: (630, 4)\n",
            "Ukuran X_test : (270, 4)\n",
            "Ukuran y_train: (630,)\n",
            "Ukuran y_test : (270,)\n"
          ]
        }
      ]
    },
    {
      "cell_type": "markdown",
      "source": [
        "Membangun Random Forest Classifier"
      ],
      "metadata": {
        "id": "iwUcP1ZGpTEg"
      }
    },
    {
      "cell_type": "code",
      "source": [
        "# Nilai Entropy menentukan bagaimana sebuah Decision Tree melakukan pemisahan data. Nilai Entropi berpengaruh ketika decision tree menentukan batasan/boundaries - nya. random_state digunakan untuk menentukan jumlah bootstrapping sample yang akan dilakukan. Nilai random state yang banyak digunakan adalah 0 dan 42.\n",
        "rfc = RandomForestClassifier(criterion='entropy', random_state=42)\n",
        "model = rfc.fit(X_train, y_train)\n",
        "print(model)"
      ],
      "metadata": {
        "colab": {
          "base_uri": "https://localhost:8080/"
        },
        "id": "sLB-GmbXpTtw",
        "outputId": "822b8e27-f339-4654-fc48-3e4c4b482a21"
      },
      "execution_count": 20,
      "outputs": [
        {
          "output_type": "stream",
          "name": "stdout",
          "text": [
            "RandomForestClassifier(criterion='entropy', random_state=42)\n"
          ]
        }
      ]
    },
    {
      "cell_type": "markdown",
      "source": [
        "Menggunakan Feature Importance"
      ],
      "metadata": {
        "id": "f0ewMX-Kp6F4"
      }
    },
    {
      "cell_type": "code",
      "source": [
        "#mendapatkan importance\n",
        "importance = model.feature_importances_\n",
        "\n",
        "#nama feature\n",
        "feature_names = dataset_credit_scoring.drop(columns=['kode_kontrak', 'risk_rating', 'rata_rata_overdue']).columns\n",
        "\n",
        "#summarize feature importance\n",
        "for f, fi in zip(feature_names, importance):\n",
        "\tprint('Feature: %24s, Score: %.5f' % (f, fi))"
      ],
      "metadata": {
        "colab": {
          "base_uri": "https://localhost:8080/"
        },
        "id": "ZE9KKOCZqHyA",
        "outputId": "93a39331-673d-437e-9afa-f692953c1b5a"
      },
      "execution_count": 21,
      "outputs": [
        {
          "output_type": "stream",
          "name": "stdout",
          "text": [
            "Feature:  pendapatan_setahun_juta, Score: 0.22462\n",
            "Feature:                kpr_aktif, Score: 0.37739\n",
            "Feature:    durasi_pinjaman_bulan, Score: 0.09436\n",
            "Feature:        jumlah_tanggungan, Score: 0.30364\n"
          ]
        }
      ]
    },
    {
      "cell_type": "markdown",
      "source": [
        "Visualisasi Feature Importance dengan Bar Chart"
      ],
      "metadata": {
        "id": "Y8WCV5BIqyVJ"
      }
    },
    {
      "cell_type": "code",
      "source": [
        "#Buat data frame agar lebih mudah dalam pengurutan\n",
        "fi_df = pd.DataFrame({'Feature': feature_names, 'Score': importance}).sort_values('Score')\n",
        "\n",
        "#mambuat visualisasi Feature Importance dengan Bar Chart\n",
        "barh = plt.barh(fi_df['Feature'], fi_df['Score'])\n",
        "plt.bar_label(barh, fmt='%.5f', padding=5, c='red')\n",
        "plt.title('Feature Importance')\n",
        "plt.xlabel('Score')\n",
        "plt.xlim([0, 0.5])\n",
        "plt.grid(axis='x')\n",
        "plt.tight_layout()\n",
        "plt.show()"
      ],
      "metadata": {
        "colab": {
          "base_uri": "https://localhost:8080/",
          "height": 487
        },
        "id": "PcI0WU39qywo",
        "outputId": "0fac675e-1fd3-487b-9fc4-b187e25a7bba"
      },
      "execution_count": 23,
      "outputs": [
        {
          "output_type": "display_data",
          "data": {
            "text/plain": [
              "<Figure size 640x480 with 1 Axes>"
            ],
            "image/png": "[encoded data removed]"
          },
          "metadata": {}
        }
      ]
    },
    {
      "cell_type": "markdown",
      "source": [
        "Menghilangkan Kolom durasi_pinjaman_bulan"
      ],
      "metadata": {
        "id": "IKZZ98pAshrI"
      }
    },
    {
      "cell_type": "code",
      "source": [
        "#Feature matrix X1\n",
        "X1 = dataset_credit_scoring.drop(columns=['kode_kontrak', 'risk_rating', 'rata_rata_overdue', 'durasi_pinjaman_bulan']).values\n",
        "\n",
        "#membagi data training dan data testing, dimana training 70% dan testing 30%\n",
        "X_train, X_test, y_train, y_test = train_test_split(X1, y, test_size=0.3, random_state=0)\n",
        "\n",
        "#menampilkan jumlah data train dan test\n",
        "print('Ukuran X_train:', X_train.shape)\n",
        "print('Ukuran X_test :', X_test.shape)\n",
        "print('Ukuran y_train:', y_train.shape)\n",
        "print('Ukuran y_test :', y_test.shape)"
      ],
      "metadata": {
        "colab": {
          "base_uri": "https://localhost:8080/"
        },
        "id": "WN4dmVPlsiLw",
        "outputId": "0acaa325-b1b8-4671-cc79-dd4d16d8e625"
      },
      "execution_count": 24,
      "outputs": [
        {
          "output_type": "stream",
          "name": "stdout",
          "text": [
            "Ukuran X_train: (630, 3)\n",
            "Ukuran X_test : (270, 3)\n",
            "Ukuran y_train: (630,)\n",
            "Ukuran y_test : (270,)\n"
          ]
        }
      ]
    },
    {
      "cell_type": "markdown",
      "source": [
        "Melakukan Pemodelan Ulang"
      ],
      "metadata": {
        "id": "2b8aa0_8uRjJ"
      }
    },
    {
      "cell_type": "code",
      "source": [
        "#Melakukan pemodelan ulang dengan Random Forest\n",
        "rfc = RandomForestClassifier(criterion='entropy', random_state=42)\n",
        "model = rfc.fit(X_train, y_train)\n",
        "\n",
        "# Melihat hyperparameters yang tersedia\n",
        "from pprint import pprint\n",
        "\n",
        "print('Hyperparameters yang sedang digunakan:')\n",
        "pprint(rfc.get_params())"
      ],
      "metadata": {
        "colab": {
          "base_uri": "https://localhost:8080/"
        },
        "id": "V9LrtS_8uSJg",
        "outputId": "e4103d4e-52aa-4b99-b997-761b94977de5"
      },
      "execution_count": 26,
      "outputs": [
        {
          "output_type": "stream",
          "name": "stdout",
          "text": [
            "Hyperparameters yang sedang digunakan:\n",
            "{'bootstrap': True,\n",
            " 'ccp_alpha': 0.0,\n",
            " 'class_weight': None,\n",
            " 'criterion': 'entropy',\n",
            " 'max_depth': None,\n",
            " 'max_features': 'sqrt',\n",
            " 'max_leaf_nodes': None,\n",
            " 'max_samples': None,\n",
            " 'min_impurity_decrease': 0.0,\n",
            " 'min_samples_leaf': 1,\n",
            " 'min_samples_split': 2,\n",
            " 'min_weight_fraction_leaf': 0.0,\n",
            " 'monotonic_cst': None,\n",
            " 'n_estimators': 100,\n",
            " 'n_jobs': None,\n",
            " 'oob_score': False,\n",
            " 'random_state': 42,\n",
            " 'verbose': 0,\n",
            " 'warm_start': False}\n"
          ]
        }
      ]
    },
    {
      "cell_type": "markdown",
      "source": [
        "Hyperparameter untuk RandomizedGridCV"
      ],
      "metadata": {
        "id": "wEhvYswmvqyJ"
      }
    },
    {
      "cell_type": "code",
      "source": [
        "#jumlah pohon pada random forest\n",
        "n_estimators = list(np.linspace(200, 2000, num=100, dtype=np.int32))\n",
        "\n",
        "#jumlah fitur yang dipertimbangkan untuk setiap pemisahan (split)\n",
        "max_features = ['auto', 'sqrt']\n",
        "\n",
        "#jumlah maksimum level pada setiap pohon\n",
        "max_depth = list(np.linspace(10, 110, num=11, dtype=np.int32))\n",
        "max_depth.append(None)\n",
        "\n",
        "#jumlah minimum sample yang dibutuhkan untuk memisahkan node\n",
        "min_samples_split = [2, 5, 10]\n",
        "\n",
        "#jumlah minimum sample yang dibutuhkan untuk setiap leaf node\n",
        "min_samples_leaf = [1, 2, 4]\n",
        "\n",
        "#metode untuk memilih sampel untuk training setiap pohon\n",
        "bootstrap = [True, False]\n",
        "\n",
        "#membuat random grid\n",
        "random_grid = {'n_estimators': n_estimators,\n",
        "               'max_features': max_features,\n",
        "               'max_depth': max_depth,\n",
        "               'min_samples_split': min_samples_split,\n",
        "               'min_samples_leaf': min_samples_leaf,\n",
        "               'bootstrap': bootstrap}\n",
        "\n",
        "pprint(random_grid)\n"
      ],
      "metadata": {
        "colab": {
          "base_uri": "https://localhost:8080/"
        },
        "id": "pVCx2_aVwrdp",
        "outputId": "68522be5-f7ce-4faf-b66b-93da63583835"
      },
      "execution_count": 31,
      "outputs": [
        {
          "output_type": "stream",
          "name": "stdout",
          "text": [
            "{'bootstrap': [True, False],\n",
            " 'max_depth': [np.int32(10),\n",
            "               np.int32(20),\n",
            "               np.int32(30),\n",
            "               np.int32(40),\n",
            "               np.int32(50),\n",
            "               np.int32(60),\n",
            "               np.int32(70),\n",
            "               np.int32(80),\n",
            "               np.int32(90),\n",
            "               np.int32(100),\n",
            "               np.int32(110),\n",
            "               None],\n",
            " 'max_features': ['auto', 'sqrt'],\n",
            " 'min_samples_leaf': [1, 2, 4],\n",
            " 'min_samples_split': [2, 5, 10],\n",
            " 'n_estimators': [np.int32(200),\n",
            "                  np.int32(218),\n",
            "                  np.int32(236),\n",
            "                  np.int32(254),\n",
            "                  np.int32(272),\n",
            "                  np.int32(290),\n",
            "                  np.int32(309),\n",
            "                  np.int32(327),\n",
            "                  np.int32(345),\n",
            "                  np.int32(363),\n",
            "                  np.int32(381),\n",
            "                  np.int32(400),\n",
            "                  np.int32(418),\n",
            "                  np.int32(436),\n",
            "                  np.int32(454),\n",
            "                  np.int32(472),\n",
            "                  np.int32(490),\n",
            "                  np.int32(509),\n",
            "                  np.int32(527),\n",
            "                  np.int32(545),\n",
            "                  np.int32(563),\n",
            "                  np.int32(581),\n",
            "                  np.int32(600),\n",
            "                  np.int32(618),\n",
            "                  np.int32(636),\n",
            "                  np.int32(654),\n",
            "                  np.int32(672),\n",
            "                  np.int32(690),\n",
            "                  np.int32(709),\n",
            "                  np.int32(727),\n",
            "                  np.int32(745),\n",
            "                  np.int32(763),\n",
            "                  np.int32(781),\n",
            "                  np.int32(800),\n",
            "                  np.int32(818),\n",
            "                  np.int32(836),\n",
            "                  np.int32(854),\n",
            "                  np.int32(872),\n",
            "                  np.int32(890),\n",
            "                  np.int32(909),\n",
            "                  np.int32(927),\n",
            "                  np.int32(945),\n",
            "                  np.int32(963),\n",
            "                  np.int32(981),\n",
            "                  np.int32(1000),\n",
            "                  np.int32(1018),\n",
            "                  np.int32(1036),\n",
            "                  np.int32(1054),\n",
            "                  np.int32(1072),\n",
            "                  np.int32(1090),\n",
            "                  np.int32(1109),\n",
            "                  np.int32(1127),\n",
            "                  np.int32(1145),\n",
            "                  np.int32(1163),\n",
            "                  np.int32(1181),\n",
            "                  np.int32(1200),\n",
            "                  np.int32(1218),\n",
            "                  np.int32(1236),\n",
            "                  np.int32(1254),\n",
            "                  np.int32(1272),\n",
            "                  np.int32(1290),\n",
            "                  np.int32(1309),\n",
            "                  np.int32(1327),\n",
            "                  np.int32(1345),\n",
            "                  np.int32(1363),\n",
            "                  np.int32(1381),\n",
            "                  np.int32(1400),\n",
            "                  np.int32(1418),\n",
            "                  np.int32(1436),\n",
            "                  np.int32(1454),\n",
            "                  np.int32(1472),\n",
            "                  np.int32(1490),\n",
            "                  np.int32(1509),\n",
            "                  np.int32(1527),\n",
            "                  np.int32(1545),\n",
            "                  np.int32(1563),\n",
            "                  np.int32(1581),\n",
            "                  np.int32(1600),\n",
            "                  np.int32(1618),\n",
            "                  np.int32(1636),\n",
            "                  np.int32(1654),\n",
            "                  np.int32(1672),\n",
            "                  np.int32(1690),\n",
            "                  np.int32(1709),\n",
            "                  np.int32(1727),\n",
            "                  np.int32(1745),\n",
            "                  np.int32(1763),\n",
            "                  np.int32(1781),\n",
            "                  np.int32(1800),\n",
            "                  np.int32(1818),\n",
            "                  np.int32(1836),\n",
            "                  np.int32(1854),\n",
            "                  np.int32(1872),\n",
            "                  np.int32(1890),\n",
            "                  np.int32(1909),\n",
            "                  np.int32(1927),\n",
            "                  np.int32(1945),\n",
            "                  np.int32(1963),\n",
            "                  np.int32(1981),\n",
            "                  np.int32(2000)]}\n"
          ]
        }
      ]
    },
    {
      "cell_type": "markdown",
      "source": [
        "Random Forest dengan RandomizedGridCV"
      ],
      "metadata": {
        "id": "I37cJR9K2nyJ"
      }
    },
    {
      "cell_type": "code",
      "source": [
        "#Random Forest\n",
        "rfc = RandomForestClassifier(criterion='entropy', random_state=42)\n",
        "\n",
        "#Import RandomizedSearchCV\n",
        "from sklearn.model_selection  import RandomizedSearchCV\n",
        "\n",
        "#Menggunakan random grid untuk mencari hyperparameters terbaik\n",
        "rf_random = RandomizedSearchCV(estimator=rfc, param_distributions=random_grid, n_iter=10, cv=3, verbose=2, random_state=0)\n",
        "\n",
        "#Fit the random search model\n",
        "rf_random.fit(X_train, y_train)\n",
        "\n",
        "#Tampilkan parameter terbaik\n",
        "print('\\nParameter terbaik:')\n",
        "pprint(rf_random.best_params_)"
      ],
      "metadata": {
        "colab": {
          "base_uri": "https://localhost:8080/"
        },
        "id": "0Exw2rFy2oXp",
        "outputId": "a26621c1-862c-4c48-c190-bc020985209c"
      },
      "execution_count": 32,
      "outputs": [
        {
          "output_type": "stream",
          "name": "stdout",
          "text": [
            "Fitting 3 folds for each of 10 candidates, totalling 30 fits\n",
            "[CV] END bootstrap=True, max_depth=20, max_features=sqrt, min_samples_leaf=1, min_samples_split=2, n_estimators=781; total time=   4.1s\n",
            "[CV] END bootstrap=True, max_depth=20, max_features=sqrt, min_samples_leaf=1, min_samples_split=2, n_estimators=781; total time=   1.4s\n",
            "[CV] END bootstrap=True, max_depth=20, max_features=sqrt, min_samples_leaf=1, min_samples_split=2, n_estimators=781; total time=   1.4s\n",
            "[CV] END bootstrap=False, max_depth=None, max_features=sqrt, min_samples_leaf=2, min_samples_split=2, n_estimators=436; total time=   0.7s\n",
            "[CV] END bootstrap=False, max_depth=None, max_features=sqrt, min_samples_leaf=2, min_samples_split=2, n_estimators=436; total time=   0.7s\n",
            "[CV] END bootstrap=False, max_depth=None, max_features=sqrt, min_samples_leaf=2, min_samples_split=2, n_estimators=436; total time=   0.7s\n",
            "[CV] END bootstrap=True, max_depth=None, max_features=sqrt, min_samples_leaf=2, min_samples_split=10, n_estimators=981; total time=   2.5s\n",
            "[CV] END bootstrap=True, max_depth=None, max_features=sqrt, min_samples_leaf=2, min_samples_split=10, n_estimators=981; total time=   2.7s\n",
            "[CV] END bootstrap=True, max_depth=None, max_features=sqrt, min_samples_leaf=2, min_samples_split=10, n_estimators=981; total time=   4.1s\n",
            "[CV] END bootstrap=False, max_depth=50, max_features=sqrt, min_samples_leaf=4, min_samples_split=5, n_estimators=254; total time=   0.4s\n",
            "[CV] END bootstrap=False, max_depth=50, max_features=sqrt, min_samples_leaf=4, min_samples_split=5, n_estimators=254; total time=   0.4s\n",
            "[CV] END bootstrap=False, max_depth=50, max_features=sqrt, min_samples_leaf=4, min_samples_split=5, n_estimators=254; total time=   0.4s\n",
            "[CV] END bootstrap=False, max_depth=60, max_features=sqrt, min_samples_leaf=4, min_samples_split=2, n_estimators=254; total time=   0.4s\n",
            "[CV] END bootstrap=False, max_depth=60, max_features=sqrt, min_samples_leaf=4, min_samples_split=2, n_estimators=254; total time=   0.3s\n",
            "[CV] END bootstrap=False, max_depth=60, max_features=sqrt, min_samples_leaf=4, min_samples_split=2, n_estimators=254; total time=   0.4s\n",
            "[CV] END bootstrap=False, max_depth=None, max_features=auto, min_samples_leaf=2, min_samples_split=10, n_estimators=1890; total time=   0.0s\n",
            "[CV] END bootstrap=False, max_depth=None, max_features=auto, min_samples_leaf=2, min_samples_split=10, n_estimators=1890; total time=   0.0s\n",
            "[CV] END bootstrap=False, max_depth=None, max_features=auto, min_samples_leaf=2, min_samples_split=10, n_estimators=1890; total time=   0.0s\n",
            "[CV] END bootstrap=True, max_depth=None, max_features=sqrt, min_samples_leaf=1, min_samples_split=2, n_estimators=1236; total time=   2.2s\n",
            "[CV] END bootstrap=True, max_depth=None, max_features=sqrt, min_samples_leaf=1, min_samples_split=2, n_estimators=1236; total time=   2.2s\n",
            "[CV] END bootstrap=True, max_depth=None, max_features=sqrt, min_samples_leaf=1, min_samples_split=2, n_estimators=1236; total time=   2.4s\n",
            "[CV] END bootstrap=True, max_depth=90, max_features=auto, min_samples_leaf=2, min_samples_split=10, n_estimators=836; total time=   0.0s\n",
            "[CV] END bootstrap=True, max_depth=90, max_features=auto, min_samples_leaf=2, min_samples_split=10, n_estimators=836; total time=   0.0s\n",
            "[CV] END bootstrap=True, max_depth=90, max_features=auto, min_samples_leaf=2, min_samples_split=10, n_estimators=836; total time=   0.0s\n",
            "[CV] END bootstrap=True, max_depth=90, max_features=sqrt, min_samples_leaf=1, min_samples_split=5, n_estimators=745; total time=   2.1s\n",
            "[CV] END bootstrap=True, max_depth=90, max_features=sqrt, min_samples_leaf=1, min_samples_split=5, n_estimators=745; total time=   1.4s\n",
            "[CV] END bootstrap=True, max_depth=90, max_features=sqrt, min_samples_leaf=1, min_samples_split=5, n_estimators=745; total time=   1.3s\n",
            "[CV] END bootstrap=False, max_depth=100, max_features=sqrt, min_samples_leaf=4, min_samples_split=10, n_estimators=418; total time=   0.6s\n",
            "[CV] END bootstrap=False, max_depth=100, max_features=sqrt, min_samples_leaf=4, min_samples_split=10, n_estimators=418; total time=   0.6s\n",
            "[CV] END bootstrap=False, max_depth=100, max_features=sqrt, min_samples_leaf=4, min_samples_split=10, n_estimators=418; total time=   0.6s\n"
          ]
        },
        {
          "output_type": "stream",
          "name": "stderr",
          "text": [
            "/usr/local/lib/python3.11/dist-packages/sklearn/model_selection/_validation.py:528: FitFailedWarning: \n",
            "6 fits failed out of a total of 30.\n",
            "The score on these train-test partitions for these parameters will be set to nan.\n",
            "If these failures are not expected, you can try to debug them by setting error_score='raise'.\n",
            "\n",
            "Below are more details about the failures:\n",
            "--------------------------------------------------------------------------------\n",
            "6 fits failed with the following error:\n",
            "Traceback (most recent call last):\n",
            "  File \"/usr/local/lib/python3.11/dist-packages/sklearn/model_selection/_validation.py\", line 866, in _fit_and_score\n",
            "    estimator.fit(X_train, y_train, **fit_params)\n",
            "  File \"/usr/local/lib/python3.11/dist-packages/sklearn/base.py\", line 1382, in wrapper\n",
            "    estimator._validate_params()\n",
            "  File \"/usr/local/lib/python3.11/dist-packages/sklearn/base.py\", line 436, in _validate_params\n",
            "    validate_parameter_constraints(\n",
            "  File \"/usr/local/lib/python3.11/dist-packages/sklearn/utils/_param_validation.py\", line 98, in validate_parameter_constraints\n",
            "    raise InvalidParameterError(\n",
            "sklearn.utils._param_validation.InvalidParameterError: The 'max_features' parameter of RandomForestClassifier must be an int in the range [1, inf), a float in the range (0.0, 1.0], a str among {'log2', 'sqrt'} or None. Got 'auto' instead.\n",
            "\n",
            "  warnings.warn(some_fits_failed_message, FitFailedWarning)\n",
            "/usr/local/lib/python3.11/dist-packages/sklearn/model_selection/_search.py:1108: UserWarning: One or more of the test scores are non-finite: [0.74444444 0.75714286 0.76190476 0.77142857 0.77142857        nan\n",
            " 0.74444444        nan 0.75079365 0.77301587]\n",
            "  warnings.warn(\n"
          ]
        },
        {
          "output_type": "stream",
          "name": "stdout",
          "text": [
            "\n",
            "Parameter terbaik:\n",
            "{'bootstrap': False,\n",
            " 'max_depth': np.int32(100),\n",
            " 'max_features': 'sqrt',\n",
            " 'min_samples_leaf': 4,\n",
            " 'min_samples_split': 10,\n",
            " 'n_estimators': np.int32(418)}\n"
          ]
        }
      ]
    },
    {
      "cell_type": "markdown",
      "source": [
        "Base Model vs Best Model"
      ],
      "metadata": {
        "id": "PNyz_TQnGdzY"
      }
    },
    {
      "cell_type": "code",
      "source": [
        "#Fungsi untuk mengevaluasi model berdasarkan data testing\n",
        "def evaluate(model, X_test, y_test):\n",
        "    predictions = model.predict(X_test)\n",
        "    errors = abs(predictions - y_test)\n",
        "    mape = 100 * np.mean(errors / y_test)\n",
        "    accuracy = 100 - mape\n",
        "    print('Model Performance')\n",
        "    print('Average Error: %.4f degrees.' % (np.mean(errors),))\n",
        "    print('Accuracy = %.2f%%.' % (accuracy,))\n",
        "\n",
        "#Base Model\n",
        "base_model = rfc.fit(X_train, y_train)\n",
        "print('Base Model:')\n",
        "print('-----------')\n",
        "evaluate(base_model, X_test, y_test)\n",
        "\n",
        "#Best Model\n",
        "best_model = rf_random.best_estimator_\n",
        "print('\\n\\nBest Model:')\n",
        "print('-----------')\n",
        "evaluate(best_model, X_test, y_test)"
      ],
      "metadata": {
        "colab": {
          "base_uri": "https://localhost:8080/"
        },
        "id": "NcVR4YbFGb1n",
        "outputId": "421c87de-6d19-41ba-fcb6-e1d37ef1fa37"
      },
      "execution_count": 33,
      "outputs": [
        {
          "output_type": "stream",
          "name": "stdout",
          "text": [
            "Base Model:\n",
            "-----------\n",
            "Model Performance\n",
            "Average Error: 0.2556 degrees.\n",
            "Accuracy = 86.65%.\n",
            "\n",
            "\n",
            "Best Model:\n",
            "-----------\n",
            "Model Performance\n",
            "Average Error: 0.2148 degrees.\n",
            "Accuracy = 88.23%.\n"
          ]
        }
      ]
    }
  ]
}